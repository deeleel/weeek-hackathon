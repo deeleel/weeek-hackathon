{
  "cells": [
    {
      "cell_type": "markdown",
      "metadata": {
        "id": "zgFGuBhd3bC3"
      },
      "source": [
        "# DeepPavlov weeek\n",
        "\n",
        "https://docs.deeppavlov.ai/en/0.9.0/features/models/ner.html#train-and-use-the-model"
      ]
    },
    {
      "cell_type": "markdown",
      "metadata": {
        "id": "qghv9EJF2qja"
      },
      "source": [
        "# DeepPavlov"
      ]
    },
    {
      "cell_type": "code",
      "execution_count": 1,
      "metadata": {
        "colab": {
          "base_uri": "https://localhost:8080/"
        },
        "id": "d3UJq-Vb27GV",
        "outputId": "5c6f66d9-d81e-42ed-a7ce-f390c92e101f"
      },
      "outputs": [
        {
          "output_type": "stream",
          "name": "stdout",
          "text": [
            "Collecting deeppavlov\n",
            "  Downloading deeppavlov-1.4.0-py3-none-any.whl (489 kB)\n",
            "\u001b[2K     \u001b[90m━━━━━━━━━━━━━━━━━━━━━━━━━━━━━━━━━━━━━━━━\u001b[0m \u001b[32m489.2/489.2 kB\u001b[0m \u001b[31m5.4 MB/s\u001b[0m eta \u001b[36m0:00:00\u001b[0m\n",
            "\u001b[?25hCollecting fastapi<=0.89.1,>=0.47.0 (from deeppavlov)\n",
            "  Downloading fastapi-0.89.1-py3-none-any.whl (55 kB)\n",
            "\u001b[2K     \u001b[90m━━━━━━━━━━━━━━━━━━━━━━━━━━━━━━━━━━━━━━━━\u001b[0m \u001b[32m55.8/55.8 kB\u001b[0m \u001b[31m3.2 MB/s\u001b[0m eta \u001b[36m0:00:00\u001b[0m\n",
            "\u001b[?25hCollecting filelock<3.10.0,>=3.0.0 (from deeppavlov)\n",
            "  Downloading filelock-3.9.1-py3-none-any.whl (9.7 kB)\n",
            "Requirement already satisfied: nltk<3.10.0,>=3.2.4 in /usr/local/lib/python3.10/dist-packages (from deeppavlov) (3.8.1)\n",
            "Requirement already satisfied: numpy<1.24 in /usr/local/lib/python3.10/dist-packages (from deeppavlov) (1.23.5)\n",
            "Requirement already satisfied: pandas<1.6.0,>=1.0.0 in /usr/local/lib/python3.10/dist-packages (from deeppavlov) (1.5.3)\n",
            "Requirement already satisfied: prometheus-client<=1.16.0,>=0.13.0 in /usr/local/lib/python3.10/dist-packages (from deeppavlov) (0.19.0)\n",
            "Requirement already satisfied: pydantic<2 in /usr/local/lib/python3.10/dist-packages (from deeppavlov) (1.10.13)\n",
            "Collecting pybind11==2.10.3 (from deeppavlov)\n",
            "  Downloading pybind11-2.10.3-py3-none-any.whl (222 kB)\n",
            "\u001b[2K     \u001b[90m━━━━━━━━━━━━━━━━━━━━━━━━━━━━━━━━━━━━━━━━\u001b[0m \u001b[32m222.4/222.4 kB\u001b[0m \u001b[31m8.6 MB/s\u001b[0m eta \u001b[36m0:00:00\u001b[0m\n",
            "\u001b[?25hRequirement already satisfied: requests<3.0.0,>=2.19.0 in /usr/local/lib/python3.10/dist-packages (from deeppavlov) (2.31.0)\n",
            "Collecting scikit-learn<1.1.0,>=0.24 (from deeppavlov)\n",
            "  Downloading scikit_learn-1.0.2-cp310-cp310-manylinux_2_17_x86_64.manylinux2014_x86_64.whl (26.5 MB)\n",
            "\u001b[2K     \u001b[90m━━━━━━━━━━━━━━━━━━━━━━━━━━━━━━━━━━━━━━━━\u001b[0m \u001b[32m26.5/26.5 MB\u001b[0m \u001b[31m38.4 MB/s\u001b[0m eta \u001b[36m0:00:00\u001b[0m\n",
            "\u001b[?25hCollecting tqdm<4.65.0,>=4.42.0 (from deeppavlov)\n",
            "  Downloading tqdm-4.64.1-py2.py3-none-any.whl (78 kB)\n",
            "\u001b[2K     \u001b[90m━━━━━━━━━━━━━━━━━━━━━━━━━━━━━━━━━━━━━━━━\u001b[0m \u001b[32m78.5/78.5 kB\u001b[0m \u001b[31m6.3 MB/s\u001b[0m eta \u001b[36m0:00:00\u001b[0m\n",
            "\u001b[?25hCollecting uvicorn<0.19.0,>=0.13.0 (from deeppavlov)\n",
            "  Downloading uvicorn-0.18.3-py3-none-any.whl (57 kB)\n",
            "\u001b[2K     \u001b[90m━━━━━━━━━━━━━━━━━━━━━━━━━━━━━━━━━━━━━━━━\u001b[0m \u001b[32m57.4/57.4 kB\u001b[0m \u001b[31m2.6 MB/s\u001b[0m eta \u001b[36m0:00:00\u001b[0m\n",
            "\u001b[?25hRequirement already satisfied: wheel in /usr/local/lib/python3.10/dist-packages (from deeppavlov) (0.42.0)\n",
            "Collecting scipy==1.10.0 (from deeppavlov)\n",
            "  Downloading scipy-1.10.0-cp310-cp310-manylinux_2_17_x86_64.manylinux2014_x86_64.whl (34.4 MB)\n",
            "\u001b[2K     \u001b[90m━━━━━━━━━━━━━━━━━━━━━━━━━━━━━━━━━━━━━━━━\u001b[0m \u001b[32m34.4/34.4 MB\u001b[0m \u001b[31m11.4 MB/s\u001b[0m eta \u001b[36m0:00:00\u001b[0m\n",
            "\u001b[?25hCollecting starlette==0.22.0 (from fastapi<=0.89.1,>=0.47.0->deeppavlov)\n",
            "  Downloading starlette-0.22.0-py3-none-any.whl (64 kB)\n",
            "\u001b[2K     \u001b[90m━━━━━━━━━━━━━━━━━━━━━━━━━━━━━━━━━━━━━━━━\u001b[0m \u001b[32m64.3/64.3 kB\u001b[0m \u001b[31m3.4 MB/s\u001b[0m eta \u001b[36m0:00:00\u001b[0m\n",
            "\u001b[?25hRequirement already satisfied: anyio<5,>=3.4.0 in /usr/local/lib/python3.10/dist-packages (from starlette==0.22.0->fastapi<=0.89.1,>=0.47.0->deeppavlov) (3.7.1)\n",
            "Requirement already satisfied: click in /usr/local/lib/python3.10/dist-packages (from nltk<3.10.0,>=3.2.4->deeppavlov) (8.1.7)\n",
            "Requirement already satisfied: joblib in /usr/local/lib/python3.10/dist-packages (from nltk<3.10.0,>=3.2.4->deeppavlov) (1.3.2)\n",
            "Requirement already satisfied: regex>=2021.8.3 in /usr/local/lib/python3.10/dist-packages (from nltk<3.10.0,>=3.2.4->deeppavlov) (2023.6.3)\n",
            "Requirement already satisfied: python-dateutil>=2.8.1 in /usr/local/lib/python3.10/dist-packages (from pandas<1.6.0,>=1.0.0->deeppavlov) (2.8.2)\n",
            "Requirement already satisfied: pytz>=2020.1 in /usr/local/lib/python3.10/dist-packages (from pandas<1.6.0,>=1.0.0->deeppavlov) (2023.3.post1)\n",
            "Requirement already satisfied: typing-extensions>=4.2.0 in /usr/local/lib/python3.10/dist-packages (from pydantic<2->deeppavlov) (4.5.0)\n",
            "Requirement already satisfied: charset-normalizer<4,>=2 in /usr/local/lib/python3.10/dist-packages (from requests<3.0.0,>=2.19.0->deeppavlov) (3.3.2)\n",
            "Requirement already satisfied: idna<4,>=2.5 in /usr/local/lib/python3.10/dist-packages (from requests<3.0.0,>=2.19.0->deeppavlov) (3.6)\n",
            "Requirement already satisfied: urllib3<3,>=1.21.1 in /usr/local/lib/python3.10/dist-packages (from requests<3.0.0,>=2.19.0->deeppavlov) (2.0.7)\n",
            "Requirement already satisfied: certifi>=2017.4.17 in /usr/local/lib/python3.10/dist-packages (from requests<3.0.0,>=2.19.0->deeppavlov) (2023.11.17)\n",
            "Requirement already satisfied: threadpoolctl>=2.0.0 in /usr/local/lib/python3.10/dist-packages (from scikit-learn<1.1.0,>=0.24->deeppavlov) (3.2.0)\n",
            "Collecting h11>=0.8 (from uvicorn<0.19.0,>=0.13.0->deeppavlov)\n",
            "  Downloading h11-0.14.0-py3-none-any.whl (58 kB)\n",
            "\u001b[2K     \u001b[90m━━━━━━━━━━━━━━━━━━━━━━━━━━━━━━━━━━━━━━━━\u001b[0m \u001b[32m58.3/58.3 kB\u001b[0m \u001b[31m6.8 MB/s\u001b[0m eta \u001b[36m0:00:00\u001b[0m\n",
            "\u001b[?25hRequirement already satisfied: six>=1.5 in /usr/local/lib/python3.10/dist-packages (from python-dateutil>=2.8.1->pandas<1.6.0,>=1.0.0->deeppavlov) (1.16.0)\n",
            "Requirement already satisfied: sniffio>=1.1 in /usr/local/lib/python3.10/dist-packages (from anyio<5,>=3.4.0->starlette==0.22.0->fastapi<=0.89.1,>=0.47.0->deeppavlov) (1.3.0)\n",
            "Requirement already satisfied: exceptiongroup in /usr/local/lib/python3.10/dist-packages (from anyio<5,>=3.4.0->starlette==0.22.0->fastapi<=0.89.1,>=0.47.0->deeppavlov) (1.2.0)\n",
            "Installing collected packages: tqdm, scipy, pybind11, h11, filelock, uvicorn, starlette, scikit-learn, fastapi, deeppavlov\n",
            "  Attempting uninstall: tqdm\n",
            "    Found existing installation: tqdm 4.66.1\n",
            "    Uninstalling tqdm-4.66.1:\n",
            "      Successfully uninstalled tqdm-4.66.1\n",
            "  Attempting uninstall: scipy\n",
            "    Found existing installation: scipy 1.11.4\n",
            "    Uninstalling scipy-1.11.4:\n",
            "      Successfully uninstalled scipy-1.11.4\n",
            "  Attempting uninstall: filelock\n",
            "    Found existing installation: filelock 3.13.1\n",
            "    Uninstalling filelock-3.13.1:\n",
            "      Successfully uninstalled filelock-3.13.1\n",
            "  Attempting uninstall: scikit-learn\n",
            "    Found existing installation: scikit-learn 1.2.2\n",
            "    Uninstalling scikit-learn-1.2.2:\n",
            "      Successfully uninstalled scikit-learn-1.2.2\n",
            "\u001b[31mERROR: pip's dependency resolver does not currently take into account all the packages that are installed. This behaviour is the source of the following dependency conflicts.\n",
            "lida 0.0.10 requires kaleido, which is not installed.\n",
            "lida 0.0.10 requires python-multipart, which is not installed.\n",
            "bigframes 0.17.0 requires scikit-learn>=1.2.2, but you have scikit-learn 1.0.2 which is incompatible.\u001b[0m\u001b[31m\n",
            "\u001b[0mSuccessfully installed deeppavlov-1.4.0 fastapi-0.89.1 filelock-3.9.1 h11-0.14.0 pybind11-2.10.3 scikit-learn-1.0.2 scipy-1.10.0 starlette-0.22.0 tqdm-4.64.1 uvicorn-0.18.3\n",
            "Collecting pytorch-crf==0.7.*\n",
            "  Downloading pytorch_crf-0.7.2-py3-none-any.whl (9.5 kB)\n",
            "Installing collected packages: pytorch-crf\n",
            "Successfully installed pytorch-crf-0.7.2\n",
            "Ignoring transformers: markers 'python_version < \"3.8\"' don't match your environment\n",
            "Collecting transformers==4.30.0\n",
            "  Downloading transformers-4.30.0-py3-none-any.whl (7.2 MB)\n",
            "\u001b[2K     \u001b[90m━━━━━━━━━━━━━━━━━━━━━━━━━━━━━━━━━━━━━━━━\u001b[0m \u001b[32m7.2/7.2 MB\u001b[0m \u001b[31m21.2 MB/s\u001b[0m eta \u001b[36m0:00:00\u001b[0m\n",
            "\u001b[?25hRequirement already satisfied: filelock in /usr/local/lib/python3.10/dist-packages (from transformers==4.30.0) (3.9.1)\n",
            "Requirement already satisfied: huggingface-hub<1.0,>=0.14.1 in /usr/local/lib/python3.10/dist-packages (from transformers==4.30.0) (0.19.4)\n",
            "Requirement already satisfied: numpy>=1.17 in /usr/local/lib/python3.10/dist-packages (from transformers==4.30.0) (1.23.5)\n",
            "Requirement already satisfied: packaging>=20.0 in /usr/local/lib/python3.10/dist-packages (from transformers==4.30.0) (23.2)\n",
            "Requirement already satisfied: pyyaml>=5.1 in /usr/local/lib/python3.10/dist-packages (from transformers==4.30.0) (6.0.1)\n",
            "Requirement already satisfied: regex!=2019.12.17 in /usr/local/lib/python3.10/dist-packages (from transformers==4.30.0) (2023.6.3)\n",
            "Requirement already satisfied: requests in /usr/local/lib/python3.10/dist-packages (from transformers==4.30.0) (2.31.0)\n",
            "Collecting tokenizers!=0.11.3,<0.14,>=0.11.1 (from transformers==4.30.0)\n",
            "  Downloading tokenizers-0.13.3-cp310-cp310-manylinux_2_17_x86_64.manylinux2014_x86_64.whl (7.8 MB)\n",
            "\u001b[2K     \u001b[90m━━━━━━━━━━━━━━━━━━━━━━━━━━━━━━━━━━━━━━━━\u001b[0m \u001b[32m7.8/7.8 MB\u001b[0m \u001b[31m52.4 MB/s\u001b[0m eta \u001b[36m0:00:00\u001b[0m\n",
            "\u001b[?25hRequirement already satisfied: safetensors>=0.3.1 in /usr/local/lib/python3.10/dist-packages (from transformers==4.30.0) (0.4.1)\n",
            "Requirement already satisfied: tqdm>=4.27 in /usr/local/lib/python3.10/dist-packages (from transformers==4.30.0) (4.64.1)\n",
            "Requirement already satisfied: fsspec>=2023.5.0 in /usr/local/lib/python3.10/dist-packages (from huggingface-hub<1.0,>=0.14.1->transformers==4.30.0) (2023.6.0)\n",
            "Requirement already satisfied: typing-extensions>=3.7.4.3 in /usr/local/lib/python3.10/dist-packages (from huggingface-hub<1.0,>=0.14.1->transformers==4.30.0) (4.5.0)\n",
            "Requirement already satisfied: charset-normalizer<4,>=2 in /usr/local/lib/python3.10/dist-packages (from requests->transformers==4.30.0) (3.3.2)\n",
            "Requirement already satisfied: idna<4,>=2.5 in /usr/local/lib/python3.10/dist-packages (from requests->transformers==4.30.0) (3.6)\n",
            "Requirement already satisfied: urllib3<3,>=1.21.1 in /usr/local/lib/python3.10/dist-packages (from requests->transformers==4.30.0) (2.0.7)\n",
            "Requirement already satisfied: certifi>=2017.4.17 in /usr/local/lib/python3.10/dist-packages (from requests->transformers==4.30.0) (2023.11.17)\n",
            "Installing collected packages: tokenizers, transformers\n",
            "  Attempting uninstall: tokenizers\n",
            "    Found existing installation: tokenizers 0.15.0\n",
            "    Uninstalling tokenizers-0.15.0:\n",
            "      Successfully uninstalled tokenizers-0.15.0\n",
            "  Attempting uninstall: transformers\n",
            "    Found existing installation: transformers 4.35.2\n",
            "    Uninstalling transformers-4.35.2:\n",
            "      Successfully uninstalled transformers-4.35.2\n",
            "Successfully installed tokenizers-0.13.3 transformers-4.30.0\n",
            "Collecting torch<1.14.0,>=1.6.0\n",
            "  Downloading torch-1.13.1-cp310-cp310-manylinux1_x86_64.whl (887.5 MB)\n",
            "\u001b[2K     \u001b[90m━━━━━━━━━━━━━━━━━━━━━━━━━━━━━━━━━━━━━━━━\u001b[0m \u001b[32m887.5/887.5 MB\u001b[0m \u001b[31m2.0 MB/s\u001b[0m eta \u001b[36m0:00:00\u001b[0m\n",
            "\u001b[?25hRequirement already satisfied: typing-extensions in /usr/local/lib/python3.10/dist-packages (from torch<1.14.0,>=1.6.0) (4.5.0)\n",
            "Collecting nvidia-cuda-runtime-cu11==11.7.99 (from torch<1.14.0,>=1.6.0)\n",
            "  Downloading nvidia_cuda_runtime_cu11-11.7.99-py3-none-manylinux1_x86_64.whl (849 kB)\n",
            "\u001b[2K     \u001b[90m━━━━━━━━━━━━━━━━━━━━━━━━━━━━━━━━━━━━━━━━\u001b[0m \u001b[32m849.3/849.3 kB\u001b[0m \u001b[31m70.2 MB/s\u001b[0m eta \u001b[36m0:00:00\u001b[0m\n",
            "\u001b[?25hCollecting nvidia-cudnn-cu11==8.5.0.96 (from torch<1.14.0,>=1.6.0)\n",
            "  Downloading nvidia_cudnn_cu11-8.5.0.96-2-py3-none-manylinux1_x86_64.whl (557.1 MB)\n",
            "\u001b[2K     \u001b[90m━━━━━━━━━━━━━━━━━━━━━━━━━━━━━━━━━━━━━━━━\u001b[0m \u001b[32m557.1/557.1 MB\u001b[0m \u001b[31m2.9 MB/s\u001b[0m eta \u001b[36m0:00:00\u001b[0m\n",
            "\u001b[?25hCollecting nvidia-cublas-cu11==11.10.3.66 (from torch<1.14.0,>=1.6.0)\n",
            "  Downloading nvidia_cublas_cu11-11.10.3.66-py3-none-manylinux1_x86_64.whl (317.1 MB)\n",
            "\u001b[2K     \u001b[90m━━━━━━━━━━━━━━━━━━━━━━━━━━━━━━━━━━━━━━━━\u001b[0m \u001b[32m317.1/317.1 MB\u001b[0m \u001b[31m4.2 MB/s\u001b[0m eta \u001b[36m0:00:00\u001b[0m\n",
            "\u001b[?25hCollecting nvidia-cuda-nvrtc-cu11==11.7.99 (from torch<1.14.0,>=1.6.0)\n",
            "  Downloading nvidia_cuda_nvrtc_cu11-11.7.99-2-py3-none-manylinux1_x86_64.whl (21.0 MB)\n",
            "\u001b[2K     \u001b[90m━━━━━━━━━━━━━━━━━━━━━━━━━━━━━━━━━━━━━━━━\u001b[0m \u001b[32m21.0/21.0 MB\u001b[0m \u001b[31m52.6 MB/s\u001b[0m eta \u001b[36m0:00:00\u001b[0m\n",
            "\u001b[?25hRequirement already satisfied: setuptools in /usr/local/lib/python3.10/dist-packages (from nvidia-cublas-cu11==11.10.3.66->torch<1.14.0,>=1.6.0) (67.7.2)\n",
            "Requirement already satisfied: wheel in /usr/local/lib/python3.10/dist-packages (from nvidia-cublas-cu11==11.10.3.66->torch<1.14.0,>=1.6.0) (0.42.0)\n",
            "Installing collected packages: nvidia-cuda-runtime-cu11, nvidia-cuda-nvrtc-cu11, nvidia-cublas-cu11, nvidia-cudnn-cu11, torch\n",
            "  Attempting uninstall: torch\n",
            "    Found existing installation: torch 2.1.0+cu121\n",
            "    Uninstalling torch-2.1.0+cu121:\n",
            "      Successfully uninstalled torch-2.1.0+cu121\n",
            "\u001b[31mERROR: pip's dependency resolver does not currently take into account all the packages that are installed. This behaviour is the source of the following dependency conflicts.\n",
            "torchaudio 2.1.0+cu121 requires torch==2.1.0, but you have torch 1.13.1 which is incompatible.\n",
            "torchdata 0.7.0 requires torch==2.1.0, but you have torch 1.13.1 which is incompatible.\n",
            "torchtext 0.16.0 requires torch==2.1.0, but you have torch 1.13.1 which is incompatible.\n",
            "torchvision 0.16.0+cu121 requires torch==2.1.0, but you have torch 1.13.1 which is incompatible.\u001b[0m\u001b[31m\n",
            "\u001b[0mSuccessfully installed nvidia-cublas-cu11-11.10.3.66 nvidia-cuda-nvrtc-cu11-11.7.99 nvidia-cuda-runtime-cu11-11.7.99 nvidia-cudnn-cu11-8.5.0.96 torch-1.13.1\n"
          ]
        }
      ],
      "source": [
        "!pip install deeppavlov\n",
        "!python -m deeppavlov install ner_rus_bert\n"
      ]
    },
    {
      "cell_type": "code",
      "execution_count": null,
      "metadata": {
        "colab": {
          "base_uri": "https://localhost:8080/",
          "height": 405,
          "referenced_widgets": [
            "2e6882b4924044b88e337079ab6a59e6",
            "1ed55861e53a467988e895796944188e",
            "acf11825f886442bbfe460f90b8828da",
            "caee88d70b804f979d577759329c9780",
            "26e21c449ebb4a49a558b67fda17c9cc",
            "f8c6656425a44b3aabab18b5f8eef883",
            "d19138a29608459db2553e7ec63d00d7",
            "85a4fca0ce404957b16c0f4dc72856c4",
            "25075a2c9e3e4e01baaa67d280be5f6b",
            "b460c96cd990499ea7018b6d79434dcf",
            "1efbf686dc87438289dcfd65db00b85c",
            "cb6068b116aa4b64940bf6272f84c637",
            "6cd7a53b60034971900029b707fee16e",
            "2afffd4654c54698af58f1f8880af0ac",
            "9e70da4e077146908657c8869daedd69",
            "16dcfd2a8fe545f4ace70928c2c17cae",
            "25434f548fb840598b03e12024b1d6eb",
            "7c39d44bfcc04cd09f0170b8fc278559",
            "eca1b3ee720449b58ceb7036972c06a9",
            "2daea47c050a4db78918510a2d4fc81f",
            "e73ca16258a04998bd882cb71ffcfd06",
            "7aaa28548be84812bb9c769f61a665cd",
            "11c96366cc7945bdbb6415c7b26b59ca",
            "b47baee5008f447ba68beafe71b29e5b",
            "35ef782de3fd467385b545ade2687471",
            "1ad3460fc15b49b5807392614f463aac",
            "84a33dc4ccd647d2a426683b226290f8",
            "a50da59bb8e74b6f995f8f639ab6ffbe",
            "020a8332ec52427d8a7c2c90546fb2a9",
            "eee1c59afdf341439f7c2f0d2d7e9f14",
            "4f30c87baaaf40e0ac5b689be89c6d3e",
            "1f45e3425821444ca9e7e37920a6f4e0",
            "9e16af888e414ac6825b45c624195ca1",
            "044d040f3b5540dba9ffc579a675663d",
            "0c285a4657f74647a113d984a308e0b8",
            "7dc913f44c504dda847406aac49372ab",
            "8b12dfdb6bbc46c09e8b8d9715f700f6",
            "69fe01a11e9549beb0b7fd5c635ee874",
            "1ded5ae572a54032a9e095a80027e1dc",
            "cd391348d6a648fd84e9b81e79f8de53",
            "ed1c1240300746ada6c7c9714b44d210",
            "dee35e7d2987494d8b6aa70584298966",
            "a7d77f5b8e254317b979c72923587f0b",
            "bb511ba0f95e4825bd8815f059641e90",
            "70f5f5611f194627a9d766d832274a51",
            "95f7b5bc8bc94253a9168a16af727590",
            "acb8a8eae7314a0cad8cff5ec0b4b4d7",
            "914f6cb7c1284654a11564e00525925c",
            "6b6b0f5b9b934c8086a0a69498ddb91a",
            "4ec67737c6174be7a9ce3e8f5d5fa424",
            "96233968749a49bfb6432bebaa48238e",
            "f21a5561ee63490c9f83fc9f7bbef7c5",
            "2facc06a026842f5924fa809cd8442b3",
            "c49aaeea37e14539bc0ec72afb778da4",
            "91179019ae0944959aca8d67bd13e13e"
          ]
        },
        "id": "aEKXLFwM2qJW",
        "outputId": "27e71a51-93ba-405e-9078-50a5baa4d473"
      },
      "outputs": [
        {
          "output_type": "stream",
          "name": "stderr",
          "text": [
            "2023-12-19 22:37:42.897 INFO in 'deeppavlov.core.data.utils'['utils'] at line 95: Downloading from http://files.deeppavlov.ai/v1/ner/ner_rus_bert_torch_new.tar.gz to /root/.deeppavlov/models/ner_rus_bert_torch_new.tar.gz\n",
            "INFO:deeppavlov.core.data.utils:Downloading from http://files.deeppavlov.ai/v1/ner/ner_rus_bert_torch_new.tar.gz to /root/.deeppavlov/models/ner_rus_bert_torch_new.tar.gz\n",
            "100%|██████████| 1.44G/1.44G [01:15<00:00, 19.1MB/s]\n",
            "2023-12-19 22:38:59.637 INFO in 'deeppavlov.core.data.utils'['utils'] at line 276: Extracting /root/.deeppavlov/models/ner_rus_bert_torch_new.tar.gz archive into /root/.deeppavlov/models/ner_rus_bert_torch\n",
            "INFO:deeppavlov.core.data.utils:Extracting /root/.deeppavlov/models/ner_rus_bert_torch_new.tar.gz archive into /root/.deeppavlov/models/ner_rus_bert_torch\n"
          ]
        },
        {
          "output_type": "display_data",
          "data": {
            "text/plain": [
              "tokenizer_config.json:   0%|          | 0.00/24.0 [00:00<?, ?B/s]"
            ],
            "application/vnd.jupyter.widget-view+json": {
              "version_major": 2,
              "version_minor": 0,
              "model_id": "2e6882b4924044b88e337079ab6a59e6"
            }
          },
          "metadata": {}
        },
        {
          "output_type": "display_data",
          "data": {
            "text/plain": [
              "config.json:   0%|          | 0.00/642 [00:00<?, ?B/s]"
            ],
            "application/vnd.jupyter.widget-view+json": {
              "version_major": 2,
              "version_minor": 0,
              "model_id": "cb6068b116aa4b64940bf6272f84c637"
            }
          },
          "metadata": {}
        },
        {
          "output_type": "display_data",
          "data": {
            "text/plain": [
              "vocab.txt:   0%|          | 0.00/1.65M [00:00<?, ?B/s]"
            ],
            "application/vnd.jupyter.widget-view+json": {
              "version_major": 2,
              "version_minor": 0,
              "model_id": "11c96366cc7945bdbb6415c7b26b59ca"
            }
          },
          "metadata": {}
        },
        {
          "output_type": "display_data",
          "data": {
            "text/plain": [
              "special_tokens_map.json:   0%|          | 0.00/112 [00:00<?, ?B/s]"
            ],
            "application/vnd.jupyter.widget-view+json": {
              "version_major": 2,
              "version_minor": 0,
              "model_id": "044d040f3b5540dba9ffc579a675663d"
            }
          },
          "metadata": {}
        },
        {
          "output_type": "display_data",
          "data": {
            "text/plain": [
              "pytorch_model.bin:   0%|          | 0.00/714M [00:00<?, ?B/s]"
            ],
            "application/vnd.jupyter.widget-view+json": {
              "version_major": 2,
              "version_minor": 0,
              "model_id": "70f5f5611f194627a9d766d832274a51"
            }
          },
          "metadata": {}
        },
        {
          "output_type": "stream",
          "name": "stderr",
          "text": [
            "Some weights of the model checkpoint at DeepPavlov/rubert-base-cased were not used when initializing BertForTokenClassification: ['cls.predictions.transform.LayerNorm.weight', 'cls.predictions.transform.LayerNorm.bias', 'cls.predictions.decoder.weight', 'cls.predictions.decoder.bias', 'cls.predictions.transform.dense.bias', 'cls.seq_relationship.bias', 'cls.predictions.transform.dense.weight', 'cls.predictions.bias', 'cls.seq_relationship.weight']\n",
            "- This IS expected if you are initializing BertForTokenClassification from the checkpoint of a model trained on another task or with another architecture (e.g. initializing a BertForSequenceClassification model from a BertForPreTraining model).\n",
            "- This IS NOT expected if you are initializing BertForTokenClassification from the checkpoint of a model that you expect to be exactly identical (initializing a BertForSequenceClassification model from a BertForSequenceClassification model).\n",
            "Some weights of BertForTokenClassification were not initialized from the model checkpoint at DeepPavlov/rubert-base-cased and are newly initialized: ['classifier.weight', 'classifier.bias']\n",
            "You should probably TRAIN this model on a down-stream task to be able to use it for predictions and inference.\n"
          ]
        },
        {
          "output_type": "execute_result",
          "data": {
            "text/plain": [
              "[[['Ваня', 'едет', 'в', 'Санкт', '-', 'Петербург', 'завтра', 'утром']],\n",
              " [['B-PER', 'O', 'O', 'B-LOC', 'I-LOC', 'I-LOC', 'O', 'O']]]"
            ]
          },
          "metadata": {},
          "execution_count": 2
        }
      ],
      "source": [
        "from deeppavlov import configs, build_model\n",
        "\n",
        "ner_model = build_model(configs.ner.ner_rus_bert, download=True)\n",
        "\n",
        "ner_model(['Ваня едет в Санкт-Петербург завтра утром'])"
      ]
    },
    {
      "cell_type": "code",
      "source": [
        "from deeppavlov import configs, train_model\n",
        "from deeppavlov.core.commands.utils import parse_config\n",
        "\n",
        "config_dict = parse_config(configs.ner.ner_rus_bert)\n",
        "\n",
        "print(config_dict['dataset_reader']['data_path'])"
      ],
      "metadata": {
        "colab": {
          "base_uri": "https://localhost:8080/"
        },
        "id": "emb_emr3BHVw",
        "outputId": "a86845b6-35e7-433f-e749-dac7d2242d5e"
      },
      "execution_count": 2,
      "outputs": [
        {
          "output_type": "stream",
          "name": "stdout",
          "text": [
            "~/.deeppavlov/downloads/total_rus/\n"
          ]
        }
      ]
    },
    {
      "cell_type": "code",
      "execution_count": 3,
      "metadata": {
        "id": "OqEW_osj4Hee"
      },
      "outputs": [],
      "source": [
        "# provide a path to the train file\n",
        "config_dict['dataset_reader']['data_path'] = '/content/datasets/'"
      ]
    },
    {
      "cell_type": "code",
      "source": [
        "config_dict"
      ],
      "metadata": {
        "colab": {
          "base_uri": "https://localhost:8080/"
        },
        "id": "jMQ4ojkxH-nG",
        "outputId": "3ec15b4c-aa64-445e-da73-fabaf9354a73"
      },
      "execution_count": 4,
      "outputs": [
        {
          "output_type": "execute_result",
          "data": {
            "text/plain": [
              "{'dataset_reader': {'class_name': 'conll2003_reader',\n",
              "  'data_path': '/content/datasets/',\n",
              "  'dataset_name': 'collection_rus',\n",
              "  'provide_pos': False},\n",
              " 'dataset_iterator': {'class_name': 'data_learning_iterator'},\n",
              " 'chainer': {'in': ['x'],\n",
              "  'in_y': ['y'],\n",
              "  'pipe': [{'class_name': 'torch_transformers_ner_preprocessor',\n",
              "    'vocab_file': 'DeepPavlov/rubert-base-cased',\n",
              "    'do_lower_case': False,\n",
              "    'max_seq_length': 512,\n",
              "    'max_subword_length': 15,\n",
              "    'token_masking_prob': 0.0,\n",
              "    'in': ['x'],\n",
              "    'out': ['x_tokens',\n",
              "     'x_subword_tokens',\n",
              "     'x_subword_tok_ids',\n",
              "     'startofword_markers',\n",
              "     'attention_mask',\n",
              "     'tokens_offsets']},\n",
              "   {'id': 'tag_vocab',\n",
              "    'class_name': 'simple_vocab',\n",
              "    'unk_token': ['O'],\n",
              "    'pad_with_zeros': True,\n",
              "    'save_path': '~/.deeppavlov/models/ner_rus_bert_torch/tag.dict',\n",
              "    'load_path': '~/.deeppavlov/models/ner_rus_bert_torch/tag.dict',\n",
              "    'fit_on': ['y'],\n",
              "    'in': ['y'],\n",
              "    'out': ['y_ind']},\n",
              "   {'class_name': 'torch_transformers_sequence_tagger',\n",
              "    'n_tags': '#tag_vocab.len',\n",
              "    'pretrained_bert': 'DeepPavlov/rubert-base-cased',\n",
              "    'attention_probs_keep_prob': 0.5,\n",
              "    'encoder_layer_ids': [-1],\n",
              "    'optimizer': 'AdamW',\n",
              "    'optimizer_parameters': {'lr': 2e-05,\n",
              "     'weight_decay': 1e-06,\n",
              "     'betas': [0.9, 0.999],\n",
              "     'eps': 1e-06},\n",
              "    'clip_norm': 1.0,\n",
              "    'min_learning_rate': 1e-07,\n",
              "    'learning_rate_drop_patience': 30,\n",
              "    'learning_rate_drop_div': 1.5,\n",
              "    'load_before_drop': True,\n",
              "    'save_path': '~/.deeppavlov/models/ner_rus_bert_torch/model',\n",
              "    'load_path': '~/.deeppavlov/models/ner_rus_bert_torch/model',\n",
              "    'in': ['x_subword_tok_ids', 'attention_mask', 'startofword_markers'],\n",
              "    'in_y': ['y_ind'],\n",
              "    'out': ['y_pred_ind', 'probas']},\n",
              "   {'ref': 'tag_vocab', 'in': ['y_pred_ind'], 'out': ['y_pred']}],\n",
              "  'out': ['x_tokens', 'y_pred']},\n",
              " 'train': {'epochs': 30,\n",
              "  'batch_size': 10,\n",
              "  'metrics': [{'name': 'ner_f1', 'inputs': ['y', 'y_pred']},\n",
              "   {'name': 'ner_token_f1', 'inputs': ['y', 'y_pred']}],\n",
              "  'validation_patience': 100,\n",
              "  'val_every_n_batches': 20,\n",
              "  'log_every_n_batches': 20,\n",
              "  'show_examples': False,\n",
              "  'pytest_max_batches': 2,\n",
              "  'pytest_batch_size': 8,\n",
              "  'evaluation_targets': ['valid', 'test'],\n",
              "  'class_name': 'torch_trainer'},\n",
              " 'metadata': {'variables': {'ROOT_PATH': '~/.deeppavlov',\n",
              "   'DOWNLOADS_PATH': '~/.deeppavlov/downloads',\n",
              "   'MODELS_PATH': '~/.deeppavlov/models',\n",
              "   'TRANSFORMER': 'DeepPavlov/rubert-base-cased',\n",
              "   'MODEL_PATH': '~/.deeppavlov/models/ner_rus_bert_torch'},\n",
              "  'download': [{'url': 'http://files.deeppavlov.ai/v1/ner/ner_rus_bert_torch_new.tar.gz',\n",
              "    'subdir': '~/.deeppavlov/models/ner_rus_bert_torch'}],\n",
              "  'requirements': ['/usr/local/lib/python3.10/dist-packages/deeppavlov/requirements/torchcrf.txt',\n",
              "   '/usr/local/lib/python3.10/dist-packages/deeppavlov/requirements/pytorch.txt',\n",
              "   '/usr/local/lib/python3.10/dist-packages/deeppavlov/requirements/transformers.txt']}}"
            ]
          },
          "metadata": {},
          "execution_count": 4
        }
      ]
    },
    {
      "cell_type": "code",
      "source": [
        "ner_model = train_model(config_dict)"
      ],
      "metadata": {
        "colab": {
          "base_uri": "https://localhost:8080/",
          "height": 1000,
          "referenced_widgets": [
            "d7c73f75d94243938f168c44b536bd82",
            "32c9c4da98be430786efcd1a91e08982",
            "1bf6efe61b084fdc9182b86c5476c88f",
            "b5de56ade44f423d81ae51f1a0f942a4",
            "afe6c5c28519444690834ca156881fc1",
            "00e2b7e03f1540be98431ad76b84c217",
            "674e7c2371864e37bdef5316021367d2",
            "7ec8c858ee114b199301af9bb5f5623d",
            "8ce294af20d6473b93d886e37ef6816f",
            "e75a3db7b6c4467e99e750aa65b26f17",
            "d672261e7df64e93b6bccb7b698e383d",
            "a97d0ff8203a4ae3a6da46c795a20038",
            "f2fcf33c929e45f7b7f5789481b5bc48",
            "629c56cd044547bd99b3807e8039166f",
            "ba189746955f4eaba373d24df2f76039",
            "df659fc0993d4c66a937f21759a19017",
            "359dbeb921c943aa8f1d9fc1e80157e0",
            "fe0c33877285484584a029ca0217f9a2",
            "cf763801433a4151a6376ab85af220d2",
            "3682dfdc0c3e4dbdbfb545b3a65ff5fc",
            "a5c1e1d42a054c499d75b8f0fe025bb2",
            "90745fdd8f0442a597c258e1673d9fb5",
            "bbb12b9e7d634548a613192114ff5097",
            "2dae56b58c6743d5a8ec67333d4155cf",
            "793ec0d44d934e1d9b274da7ca3d239d",
            "de2d151bec5e40318023f5898fb63f31",
            "e3dc47c1d31f4fe4a2c1bbf9c30b5416",
            "8f786f574bf54587bb70b1398f0e0716",
            "d818713ddf3a4f18bfe62c33f9389c2e",
            "41ccd7b64a754615834cb20991f833d0",
            "5ea4bbcb193a48aea49f32f508acc615",
            "afdfee1993644fbba96d978e2525b6f4",
            "dd1ef6f6ddac46dc8b99296a4a01e4c3",
            "29f98ec445914642a1fdf12016a97b04",
            "6d05fb923e51480c978945c3c09c4ce2",
            "3a517c9187e04150a44ccf68845ea42a",
            "3dc5f69032c54b5198e17f48e52bf01a",
            "1b10d9295f9a489abf24e6ca7e6ab0cb",
            "2074cbe216ca4a4987cf53756d65e461",
            "81248ba7f526439c9660292effa606cc",
            "1be718456b8a4ef5a9df57cf3c098be3",
            "5369bb2176c74f8f957e699db56b64e4",
            "db7bb26f0dd342e1afacb2debfbf6eb2",
            "c58a17123c134e6c8d00ba2714d6b5b2",
            "81d4419cddfb4eeda2eaa5a41ae4c0f2",
            "edf68aec5fa7424cab72378cf13b6578",
            "f17390e12b314fb0b88203eafacbfe2c",
            "00cd82e6d777467b8c6c433ed234c410",
            "628f30324f754fff87ad0a8d8e5fb6d7",
            "bb39b7cd7c3b4a56b81848ee52ac5467",
            "8f9230452de645c9b83794ba8bd467a8",
            "fbddf8283b0b419e858baa8e401c4520",
            "45e3f4c3dc324a7daec9ddc56a12a751",
            "3f5d2f0a78234b77be6eb208c6a0ec73",
            "ecf3b4c8c3e94c57bce15ef9e0069abd"
          ]
        },
        "id": "c6UQxSHZBipw",
        "outputId": "612256c3-711d-4c1a-949f-672678075cad"
      },
      "execution_count": 5,
      "outputs": [
        {
          "output_type": "stream",
          "name": "stderr",
          "text": [
            "2023-12-21 20:37:35.452 WARNING in 'deeppavlov.core.trainers.fit_trainer'['fit_trainer'] at line 66: TorchTrainer got additional init parameters ['pytest_max_batches', 'pytest_batch_size'] that will be ignored:\n",
            "WARNING:deeppavlov.core.trainers.fit_trainer:TorchTrainer got additional init parameters ['pytest_max_batches', 'pytest_batch_size'] that will be ignored:\n"
          ]
        },
        {
          "output_type": "display_data",
          "data": {
            "text/plain": [
              "tokenizer_config.json:   0%|          | 0.00/24.0 [00:00<?, ?B/s]"
            ],
            "application/vnd.jupyter.widget-view+json": {
              "version_major": 2,
              "version_minor": 0,
              "model_id": "d7c73f75d94243938f168c44b536bd82"
            }
          },
          "metadata": {}
        },
        {
          "output_type": "display_data",
          "data": {
            "text/plain": [
              "config.json:   0%|          | 0.00/642 [00:00<?, ?B/s]"
            ],
            "application/vnd.jupyter.widget-view+json": {
              "version_major": 2,
              "version_minor": 0,
              "model_id": "a97d0ff8203a4ae3a6da46c795a20038"
            }
          },
          "metadata": {}
        },
        {
          "output_type": "display_data",
          "data": {
            "text/plain": [
              "vocab.txt:   0%|          | 0.00/1.65M [00:00<?, ?B/s]"
            ],
            "application/vnd.jupyter.widget-view+json": {
              "version_major": 2,
              "version_minor": 0,
              "model_id": "bbb12b9e7d634548a613192114ff5097"
            }
          },
          "metadata": {}
        },
        {
          "output_type": "display_data",
          "data": {
            "text/plain": [
              "special_tokens_map.json:   0%|          | 0.00/112 [00:00<?, ?B/s]"
            ],
            "application/vnd.jupyter.widget-view+json": {
              "version_major": 2,
              "version_minor": 0,
              "model_id": "29f98ec445914642a1fdf12016a97b04"
            }
          },
          "metadata": {}
        },
        {
          "output_type": "stream",
          "name": "stderr",
          "text": [
            "2023-12-21 20:37:48.861 INFO in 'deeppavlov.core.data.simple_vocab'['simple_vocab'] at line 104: [saving vocabulary to /root/.deeppavlov/models/ner_rus_bert_torch/tag.dict]\n",
            "INFO:deeppavlov.core.data.simple_vocab:[saving vocabulary to /root/.deeppavlov/models/ner_rus_bert_torch/tag.dict]\n"
          ]
        },
        {
          "output_type": "display_data",
          "data": {
            "text/plain": [
              "pytorch_model.bin:   0%|          | 0.00/714M [00:00<?, ?B/s]"
            ],
            "application/vnd.jupyter.widget-view+json": {
              "version_major": 2,
              "version_minor": 0,
              "model_id": "81d4419cddfb4eeda2eaa5a41ae4c0f2"
            }
          },
          "metadata": {}
        },
        {
          "output_type": "stream",
          "name": "stderr",
          "text": [
            "Some weights of the model checkpoint at DeepPavlov/rubert-base-cased were not used when initializing BertForTokenClassification: ['cls.predictions.bias', 'cls.predictions.decoder.bias', 'cls.predictions.transform.dense.weight', 'cls.predictions.decoder.weight', 'cls.predictions.transform.LayerNorm.bias', 'cls.predictions.transform.dense.bias', 'cls.predictions.transform.LayerNorm.weight', 'cls.seq_relationship.weight', 'cls.seq_relationship.bias']\n",
            "- This IS expected if you are initializing BertForTokenClassification from the checkpoint of a model trained on another task or with another architecture (e.g. initializing a BertForSequenceClassification model from a BertForPreTraining model).\n",
            "- This IS NOT expected if you are initializing BertForTokenClassification from the checkpoint of a model that you expect to be exactly identical (initializing a BertForSequenceClassification model from a BertForSequenceClassification model).\n",
            "Some weights of BertForTokenClassification were not initialized from the model checkpoint at DeepPavlov/rubert-base-cased and are newly initialized: ['classifier.bias', 'classifier.weight']\n",
            "You should probably TRAIN this model on a down-stream task to be able to use it for predictions and inference.\n",
            "2023-12-21 20:37:56.531 WARNING in 'deeppavlov.core.models.torch_model'['torch_model'] at line 151: Init from scratch. Load path /root/.deeppavlov/models/ner_rus_bert_torch/model.pth.tar does not exist.\n",
            "WARNING:deeppavlov.core.models.torch_model:Init from scratch. Load path /root/.deeppavlov/models/ner_rus_bert_torch/model.pth.tar does not exist.\n",
            "5it [00:02,  1.99it/s]\n",
            "2023-12-21 20:37:59.68 INFO in 'deeppavlov.core.trainers.nn_trainer'['nn_trainer'] at line 198: Initial best ner_f1 of 4.3011\n",
            "INFO:deeppavlov.core.trainers.nn_trainer:Initial best ner_f1 of 4.3011\n"
          ]
        },
        {
          "output_type": "stream",
          "name": "stdout",
          "text": [
            "{\"valid\": {\"eval_examples_count\": 49, \"metrics\": {\"ner_f1\": 4.3011, \"ner_token_f1\": 9.3863}, \"time_spent\": \"0:00:03\", \"epochs_done\": 0, \"batches_seen\": 0, \"train_examples_seen\": 0, \"impatience\": 0, \"patience_limit\": 100}}\n"
          ]
        },
        {
          "output_type": "stream",
          "name": "stderr",
          "text": [
            "INFO:train_report:{\"valid\": {\"eval_examples_count\": 49, \"metrics\": {\"ner_f1\": 4.3011, \"ner_token_f1\": 9.3863}, \"time_spent\": \"0:00:03\", \"epochs_done\": 0, \"batches_seen\": 0, \"train_examples_seen\": 0, \"impatience\": 0, \"patience_limit\": 100}}\n",
            "19it [00:02,  7.21it/s]\n",
            "1it [00:00, 34.38it/s]"
          ]
        },
        {
          "output_type": "stream",
          "name": "stdout",
          "text": [
            "{\"train\": {\"eval_examples_count\": 10, \"metrics\": {\"ner_f1\": 86.3636, \"ner_token_f1\": 91.6667}, \"time_spent\": \"0:00:06\", \"epochs_done\": 0, \"batches_seen\": 20, \"train_examples_seen\": 200, \"loss\": 0.6377551943063736}}\n"
          ]
        },
        {
          "output_type": "stream",
          "name": "stderr",
          "text": [
            "\n",
            "INFO:train_report:{\"train\": {\"eval_examples_count\": 10, \"metrics\": {\"ner_f1\": 86.3636, \"ner_token_f1\": 91.6667}, \"time_spent\": \"0:00:06\", \"epochs_done\": 0, \"batches_seen\": 20, \"train_examples_seen\": 200, \"loss\": 0.6377551943063736}}\n",
            "\n",
            "0it [00:00, ?it/s]\u001b[A\n",
            "5it [00:00, 37.84it/s]\n",
            "2023-12-21 20:38:02.22 INFO in 'deeppavlov.core.trainers.nn_trainer'['nn_trainer'] at line 206: Improved best ner_f1 from 4.3011 to 66.9604\n",
            "INFO:deeppavlov.core.trainers.nn_trainer:Improved best ner_f1 from 4.3011 to 66.9604\n",
            "2023-12-21 20:38:02.27 INFO in 'deeppavlov.core.trainers.nn_trainer'['nn_trainer'] at line 208: Saving model\n",
            "INFO:deeppavlov.core.trainers.nn_trainer:Saving model\n",
            "2023-12-21 20:38:02.32 INFO in 'deeppavlov.core.models.torch_model'['torch_model'] at line 175: Saving model to /root/.deeppavlov/models/ner_rus_bert_torch/model.pth.tar.\n",
            "INFO:deeppavlov.core.models.torch_model:Saving model to /root/.deeppavlov/models/ner_rus_bert_torch/model.pth.tar.\n"
          ]
        },
        {
          "output_type": "stream",
          "name": "stdout",
          "text": [
            "{\"valid\": {\"eval_examples_count\": 49, \"metrics\": {\"ner_f1\": 66.9604, \"ner_token_f1\": 78.1421}, \"time_spent\": \"0:00:06\", \"epochs_done\": 0, \"batches_seen\": 20, \"train_examples_seen\": 200, \"impatience\": 0, \"patience_limit\": 100}}\n"
          ]
        },
        {
          "output_type": "stream",
          "name": "stderr",
          "text": [
            "INFO:train_report:{\"valid\": {\"eval_examples_count\": 49, \"metrics\": {\"ner_f1\": 66.9604, \"ner_token_f1\": 78.1421}, \"time_spent\": \"0:00:06\", \"epochs_done\": 0, \"batches_seen\": 20, \"train_examples_seen\": 200, \"impatience\": 0, \"patience_limit\": 100}}\n",
            "39it [00:24,  1.61it/s]\n",
            "0it [00:00, ?it/s]\n",
            "1it [00:00, 33.13it/s]"
          ]
        },
        {
          "output_type": "stream",
          "name": "stdout",
          "text": [
            "{\"train\": {\"eval_examples_count\": 10, \"metrics\": {\"ner_f1\": 98.0392, \"ner_token_f1\": 98.7654}, \"time_spent\": \"0:00:27\", \"epochs_done\": 1, \"batches_seen\": 40, \"train_examples_seen\": 399, \"loss\": 0.09169553238898516}}\n"
          ]
        },
        {
          "output_type": "stream",
          "name": "stderr",
          "text": [
            "\n",
            "INFO:train_report:{\"train\": {\"eval_examples_count\": 10, \"metrics\": {\"ner_f1\": 98.0392, \"ner_token_f1\": 98.7654}, \"time_spent\": \"0:00:27\", \"epochs_done\": 1, \"batches_seen\": 40, \"train_examples_seen\": 399, \"loss\": 0.09169553238898516}}\n",
            "\n",
            "0it [00:00, ?it/s]\u001b[A\n",
            "5it [00:00, 34.09it/s]\n",
            "2023-12-21 20:38:23.664 INFO in 'deeppavlov.core.trainers.nn_trainer'['nn_trainer'] at line 206: Improved best ner_f1 from 66.9604 to 69.4215\n",
            "INFO:deeppavlov.core.trainers.nn_trainer:Improved best ner_f1 from 66.9604 to 69.4215\n",
            "2023-12-21 20:38:23.667 INFO in 'deeppavlov.core.trainers.nn_trainer'['nn_trainer'] at line 208: Saving model\n",
            "INFO:deeppavlov.core.trainers.nn_trainer:Saving model\n",
            "2023-12-21 20:38:23.670 INFO in 'deeppavlov.core.models.torch_model'['torch_model'] at line 175: Saving model to /root/.deeppavlov/models/ner_rus_bert_torch/model.pth.tar.\n",
            "INFO:deeppavlov.core.models.torch_model:Saving model to /root/.deeppavlov/models/ner_rus_bert_torch/model.pth.tar.\n"
          ]
        },
        {
          "output_type": "stream",
          "name": "stdout",
          "text": [
            "{\"valid\": {\"eval_examples_count\": 49, \"metrics\": {\"ner_f1\": 69.4215, \"ner_token_f1\": 81.2183}, \"time_spent\": \"0:00:28\", \"epochs_done\": 1, \"batches_seen\": 40, \"train_examples_seen\": 399, \"impatience\": 0, \"patience_limit\": 100}}\n"
          ]
        },
        {
          "output_type": "stream",
          "name": "stderr",
          "text": [
            "INFO:train_report:{\"valid\": {\"eval_examples_count\": 49, \"metrics\": {\"ner_f1\": 69.4215, \"ner_token_f1\": 81.2183}, \"time_spent\": \"0:00:28\", \"epochs_done\": 1, \"batches_seen\": 40, \"train_examples_seen\": 399, \"impatience\": 0, \"patience_limit\": 100}}\n",
            "20it [00:19,  7.38it/s]\n",
            "1it [00:00, 42.45it/s]"
          ]
        },
        {
          "output_type": "stream",
          "name": "stdout",
          "text": [
            "{\"train\": {\"eval_examples_count\": 10, \"metrics\": {\"ner_f1\": 96.0, \"ner_token_f1\": 97.5}, \"time_spent\": \"0:00:47\", \"epochs_done\": 1, \"batches_seen\": 60, \"train_examples_seen\": 599, \"loss\": 0.03640568000264466}}\n"
          ]
        },
        {
          "output_type": "stream",
          "name": "stderr",
          "text": [
            "\n",
            "INFO:train_report:{\"train\": {\"eval_examples_count\": 10, \"metrics\": {\"ner_f1\": 96.0, \"ner_token_f1\": 97.5}, \"time_spent\": \"0:00:47\", \"epochs_done\": 1, \"batches_seen\": 60, \"train_examples_seen\": 599, \"loss\": 0.03640568000264466}}\n",
            "\n",
            "5it [00:00, 55.05it/s]\n",
            "2023-12-21 20:38:42.754 INFO in 'deeppavlov.core.trainers.nn_trainer'['nn_trainer'] at line 211: Did not improve on the ner_f1 of 69.4215\n",
            "INFO:deeppavlov.core.trainers.nn_trainer:Did not improve on the ner_f1 of 69.4215\n"
          ]
        },
        {
          "output_type": "stream",
          "name": "stdout",
          "text": [
            "{\"valid\": {\"eval_examples_count\": 49, \"metrics\": {\"ner_f1\": 69.1667, \"ner_token_f1\": 80.203}, \"time_spent\": \"0:00:47\", \"epochs_done\": 1, \"batches_seen\": 60, \"train_examples_seen\": 599, \"impatience\": 1, \"patience_limit\": 100}}\n"
          ]
        },
        {
          "output_type": "stream",
          "name": "stderr",
          "text": [
            "INFO:train_report:{\"valid\": {\"eval_examples_count\": 49, \"metrics\": {\"ner_f1\": 69.1667, \"ner_token_f1\": 80.203}, \"time_spent\": \"0:00:47\", \"epochs_done\": 1, \"batches_seen\": 60, \"train_examples_seen\": 599, \"impatience\": 1, \"patience_limit\": 100}}\n",
            "39it [00:21,  1.79it/s]\n",
            "1it [00:00,  7.70it/s]\n",
            "1it [00:00, 38.17it/s]"
          ]
        },
        {
          "output_type": "stream",
          "name": "stdout",
          "text": [
            "{\"train\": {\"eval_examples_count\": 10, \"metrics\": {\"ner_f1\": 95.5224, \"ner_token_f1\": 100.0}, \"time_spent\": \"0:00:49\", \"epochs_done\": 2, \"batches_seen\": 80, \"train_examples_seen\": 798, \"loss\": 0.017672769352793695}}\n"
          ]
        },
        {
          "output_type": "stream",
          "name": "stderr",
          "text": [
            "\n",
            "INFO:train_report:{\"train\": {\"eval_examples_count\": 10, \"metrics\": {\"ner_f1\": 95.5224, \"ner_token_f1\": 100.0}, \"time_spent\": \"0:00:49\", \"epochs_done\": 2, \"batches_seen\": 80, \"train_examples_seen\": 798, \"loss\": 0.017672769352793695}}\n",
            "\n",
            "5it [00:00, 52.66it/s]\n",
            "2023-12-21 20:38:45.556 INFO in 'deeppavlov.core.trainers.nn_trainer'['nn_trainer'] at line 206: Improved best ner_f1 from 69.4215 to 72.1992\n",
            "INFO:deeppavlov.core.trainers.nn_trainer:Improved best ner_f1 from 69.4215 to 72.1992\n",
            "2023-12-21 20:38:45.561 INFO in 'deeppavlov.core.trainers.nn_trainer'['nn_trainer'] at line 208: Saving model\n",
            "INFO:deeppavlov.core.trainers.nn_trainer:Saving model\n",
            "2023-12-21 20:38:45.565 INFO in 'deeppavlov.core.models.torch_model'['torch_model'] at line 175: Saving model to /root/.deeppavlov/models/ner_rus_bert_torch/model.pth.tar.\n",
            "INFO:deeppavlov.core.models.torch_model:Saving model to /root/.deeppavlov/models/ner_rus_bert_torch/model.pth.tar.\n"
          ]
        },
        {
          "output_type": "stream",
          "name": "stdout",
          "text": [
            "{\"valid\": {\"eval_examples_count\": 49, \"metrics\": {\"ner_f1\": 72.1992, \"ner_token_f1\": 81.6537}, \"time_spent\": \"0:00:50\", \"epochs_done\": 2, \"batches_seen\": 80, \"train_examples_seen\": 798, \"impatience\": 0, \"patience_limit\": 100}}\n"
          ]
        },
        {
          "output_type": "stream",
          "name": "stderr",
          "text": [
            "INFO:train_report:{\"valid\": {\"eval_examples_count\": 49, \"metrics\": {\"ner_f1\": 72.1992, \"ner_token_f1\": 81.6537}, \"time_spent\": \"0:00:50\", \"epochs_done\": 2, \"batches_seen\": 80, \"train_examples_seen\": 798, \"impatience\": 0, \"patience_limit\": 100}}\n",
            "21it [00:36,  6.97it/s]\n",
            "1it [00:00, 42.75it/s]"
          ]
        },
        {
          "output_type": "stream",
          "name": "stdout",
          "text": [
            "{\"train\": {\"eval_examples_count\": 10, \"metrics\": {\"ner_f1\": 100.0, \"ner_token_f1\": 100.0}, \"time_spent\": \"0:01:26\", \"epochs_done\": 2, \"batches_seen\": 100, \"train_examples_seen\": 998, \"loss\": 0.013541403715498746}}\n"
          ]
        },
        {
          "output_type": "stream",
          "name": "stderr",
          "text": [
            "\n",
            "INFO:train_report:{\"train\": {\"eval_examples_count\": 10, \"metrics\": {\"ner_f1\": 100.0, \"ner_token_f1\": 100.0}, \"time_spent\": \"0:01:26\", \"epochs_done\": 2, \"batches_seen\": 100, \"train_examples_seen\": 998, \"loss\": 0.013541403715498746}}\n",
            "\n",
            "5it [00:00, 51.67it/s]\n",
            "2023-12-21 20:39:22.17 INFO in 'deeppavlov.core.trainers.nn_trainer'['nn_trainer'] at line 211: Did not improve on the ner_f1 of 72.1992\n",
            "INFO:deeppavlov.core.trainers.nn_trainer:Did not improve on the ner_f1 of 72.1992\n"
          ]
        },
        {
          "output_type": "stream",
          "name": "stdout",
          "text": [
            "{\"valid\": {\"eval_examples_count\": 49, \"metrics\": {\"ner_f1\": 71.5447, \"ner_token_f1\": 82.5}, \"time_spent\": \"0:01:26\", \"epochs_done\": 2, \"batches_seen\": 100, \"train_examples_seen\": 998, \"impatience\": 1, \"patience_limit\": 100}}\n"
          ]
        },
        {
          "output_type": "stream",
          "name": "stderr",
          "text": [
            "INFO:train_report:{\"valid\": {\"eval_examples_count\": 49, \"metrics\": {\"ner_f1\": 71.5447, \"ner_token_f1\": 82.5}, \"time_spent\": \"0:01:26\", \"epochs_done\": 2, \"batches_seen\": 100, \"train_examples_seen\": 998, \"impatience\": 1, \"patience_limit\": 100}}\n",
            "39it [00:39,  1.00s/it]\n",
            "2it [00:00,  7.46it/s]\n",
            "1it [00:00, 50.41it/s]"
          ]
        },
        {
          "output_type": "stream",
          "name": "stdout",
          "text": [
            "{\"train\": {\"eval_examples_count\": 10, \"metrics\": {\"ner_f1\": 100.0, \"ner_token_f1\": 100.0}, \"time_spent\": \"0:01:29\", \"epochs_done\": 3, \"batches_seen\": 120, \"train_examples_seen\": 1197, \"loss\": 0.01887888923520222}}\n"
          ]
        },
        {
          "output_type": "stream",
          "name": "stderr",
          "text": [
            "\n",
            "INFO:train_report:{\"train\": {\"eval_examples_count\": 10, \"metrics\": {\"ner_f1\": 100.0, \"ner_token_f1\": 100.0}, \"time_spent\": \"0:01:29\", \"epochs_done\": 3, \"batches_seen\": 120, \"train_examples_seen\": 1197, \"loss\": 0.01887888923520222}}\n",
            "\n",
            "5it [00:00, 50.33it/s]\n",
            "2023-12-21 20:39:24.846 INFO in 'deeppavlov.core.trainers.nn_trainer'['nn_trainer'] at line 206: Improved best ner_f1 from 72.1992 to 79.5775\n",
            "INFO:deeppavlov.core.trainers.nn_trainer:Improved best ner_f1 from 72.1992 to 79.5775\n",
            "2023-12-21 20:39:24.849 INFO in 'deeppavlov.core.trainers.nn_trainer'['nn_trainer'] at line 208: Saving model\n",
            "INFO:deeppavlov.core.trainers.nn_trainer:Saving model\n",
            "2023-12-21 20:39:24.853 INFO in 'deeppavlov.core.models.torch_model'['torch_model'] at line 175: Saving model to /root/.deeppavlov/models/ner_rus_bert_torch/model.pth.tar.\n",
            "INFO:deeppavlov.core.models.torch_model:Saving model to /root/.deeppavlov/models/ner_rus_bert_torch/model.pth.tar.\n"
          ]
        },
        {
          "output_type": "stream",
          "name": "stdout",
          "text": [
            "{\"valid\": {\"eval_examples_count\": 49, \"metrics\": {\"ner_f1\": 79.5775, \"ner_token_f1\": 87.1332}, \"time_spent\": \"0:01:29\", \"epochs_done\": 3, \"batches_seen\": 120, \"train_examples_seen\": 1197, \"impatience\": 0, \"patience_limit\": 100}}\n"
          ]
        },
        {
          "output_type": "stream",
          "name": "stderr",
          "text": [
            "INFO:train_report:{\"valid\": {\"eval_examples_count\": 49, \"metrics\": {\"ner_f1\": 79.5775, \"ner_token_f1\": 87.1332}, \"time_spent\": \"0:01:29\", \"epochs_done\": 3, \"batches_seen\": 120, \"train_examples_seen\": 1197, \"impatience\": 0, \"patience_limit\": 100}}\n",
            "22it [00:30,  7.14it/s]\n",
            "1it [00:00, 39.16it/s]"
          ]
        },
        {
          "output_type": "stream",
          "name": "stdout",
          "text": [
            "{\"train\": {\"eval_examples_count\": 10, \"metrics\": {\"ner_f1\": 97.1429, \"ner_token_f1\": 98.3051}, \"time_spent\": \"0:01:59\", \"epochs_done\": 3, \"batches_seen\": 140, \"train_examples_seen\": 1397, \"loss\": 0.011603539902716875}}\n"
          ]
        },
        {
          "output_type": "stream",
          "name": "stderr",
          "text": [
            "\n",
            "INFO:train_report:{\"train\": {\"eval_examples_count\": 10, \"metrics\": {\"ner_f1\": 97.1429, \"ner_token_f1\": 98.3051}, \"time_spent\": \"0:01:59\", \"epochs_done\": 3, \"batches_seen\": 140, \"train_examples_seen\": 1397, \"loss\": 0.011603539902716875}}\n",
            "\n",
            "5it [00:00, 53.60it/s]\n",
            "2023-12-21 20:39:55.128 INFO in 'deeppavlov.core.trainers.nn_trainer'['nn_trainer'] at line 211: Did not improve on the ner_f1 of 79.5775\n",
            "INFO:deeppavlov.core.trainers.nn_trainer:Did not improve on the ner_f1 of 79.5775\n"
          ]
        },
        {
          "output_type": "stream",
          "name": "stdout",
          "text": [
            "{\"valid\": {\"eval_examples_count\": 49, \"metrics\": {\"ner_f1\": 75.4864, \"ner_token_f1\": 84.9515}, \"time_spent\": \"0:01:59\", \"epochs_done\": 3, \"batches_seen\": 140, \"train_examples_seen\": 1397, \"impatience\": 1, \"patience_limit\": 100}}\n"
          ]
        },
        {
          "output_type": "stream",
          "name": "stderr",
          "text": [
            "INFO:train_report:{\"valid\": {\"eval_examples_count\": 49, \"metrics\": {\"ner_f1\": 75.4864, \"ner_token_f1\": 84.9515}, \"time_spent\": \"0:01:59\", \"epochs_done\": 3, \"batches_seen\": 140, \"train_examples_seen\": 1397, \"impatience\": 1, \"patience_limit\": 100}}\n",
            "39it [00:32,  1.18it/s]\n",
            "3it [00:00,  7.53it/s]\n",
            "1it [00:00, 50.13it/s]"
          ]
        },
        {
          "output_type": "stream",
          "name": "stdout",
          "text": [
            "{\"train\": {\"eval_examples_count\": 10, \"metrics\": {\"ner_f1\": 95.6522, \"ner_token_f1\": 98.6667}, \"time_spent\": \"0:02:02\", \"epochs_done\": 4, \"batches_seen\": 160, \"train_examples_seen\": 1596, \"loss\": 0.010604477487504482}}\n"
          ]
        },
        {
          "output_type": "stream",
          "name": "stderr",
          "text": [
            "\n",
            "INFO:train_report:{\"train\": {\"eval_examples_count\": 10, \"metrics\": {\"ner_f1\": 95.6522, \"ner_token_f1\": 98.6667}, \"time_spent\": \"0:02:02\", \"epochs_done\": 4, \"batches_seen\": 160, \"train_examples_seen\": 1596, \"loss\": 0.010604477487504482}}\n",
            "\n",
            "5it [00:00, 53.73it/s]\n",
            "2023-12-21 20:39:57.899 INFO in 'deeppavlov.core.trainers.nn_trainer'['nn_trainer'] at line 211: Did not improve on the ner_f1 of 79.5775\n",
            "INFO:deeppavlov.core.trainers.nn_trainer:Did not improve on the ner_f1 of 79.5775\n"
          ]
        },
        {
          "output_type": "stream",
          "name": "stdout",
          "text": [
            "{\"valid\": {\"eval_examples_count\": 49, \"metrics\": {\"ner_f1\": 77.4436, \"ner_token_f1\": 86.2559}, \"time_spent\": \"0:02:02\", \"epochs_done\": 4, \"batches_seen\": 160, \"train_examples_seen\": 1596, \"impatience\": 2, \"patience_limit\": 100}}\n"
          ]
        },
        {
          "output_type": "stream",
          "name": "stderr",
          "text": [
            "INFO:train_report:{\"valid\": {\"eval_examples_count\": 49, \"metrics\": {\"ner_f1\": 77.4436, \"ner_token_f1\": 86.2559}, \"time_spent\": \"0:02:02\", \"epochs_done\": 4, \"batches_seen\": 160, \"train_examples_seen\": 1596, \"impatience\": 2, \"patience_limit\": 100}}\n",
            "23it [00:03,  7.05it/s]\n",
            "1it [00:00, 41.07it/s]"
          ]
        },
        {
          "output_type": "stream",
          "name": "stdout",
          "text": [
            "{\"train\": {\"eval_examples_count\": 10, \"metrics\": {\"ner_f1\": 100.0, \"ner_token_f1\": 100.0}, \"time_spent\": \"0:02:05\", \"epochs_done\": 4, \"batches_seen\": 180, \"train_examples_seen\": 1796, \"loss\": 0.004723140061832965}}\n"
          ]
        },
        {
          "output_type": "stream",
          "name": "stderr",
          "text": [
            "\n",
            "INFO:train_report:{\"train\": {\"eval_examples_count\": 10, \"metrics\": {\"ner_f1\": 100.0, \"ner_token_f1\": 100.0}, \"time_spent\": \"0:02:05\", \"epochs_done\": 4, \"batches_seen\": 180, \"train_examples_seen\": 1796, \"loss\": 0.004723140061832965}}\n",
            "\n",
            "5it [00:00, 50.76it/s]\n",
            "2023-12-21 20:40:00.756 INFO in 'deeppavlov.core.trainers.nn_trainer'['nn_trainer'] at line 211: Did not improve on the ner_f1 of 79.5775\n",
            "INFO:deeppavlov.core.trainers.nn_trainer:Did not improve on the ner_f1 of 79.5775\n"
          ]
        },
        {
          "output_type": "stream",
          "name": "stdout",
          "text": [
            "{\"valid\": {\"eval_examples_count\": 49, \"metrics\": {\"ner_f1\": 75.7576, \"ner_token_f1\": 85.2381}, \"time_spent\": \"0:02:05\", \"epochs_done\": 4, \"batches_seen\": 180, \"train_examples_seen\": 1796, \"impatience\": 3, \"patience_limit\": 100}}\n"
          ]
        },
        {
          "output_type": "stream",
          "name": "stderr",
          "text": [
            "INFO:train_report:{\"valid\": {\"eval_examples_count\": 49, \"metrics\": {\"ner_f1\": 75.7576, \"ner_token_f1\": 85.2381}, \"time_spent\": \"0:02:05\", \"epochs_done\": 4, \"batches_seen\": 180, \"train_examples_seen\": 1796, \"impatience\": 3, \"patience_limit\": 100}}\n",
            "39it [00:05,  7.06it/s]\n",
            "4it [00:00,  7.33it/s]\n",
            "1it [00:00, 36.50it/s]"
          ]
        },
        {
          "output_type": "stream",
          "name": "stdout",
          "text": [
            "{\"train\": {\"eval_examples_count\": 10, \"metrics\": {\"ner_f1\": 100.0, \"ner_token_f1\": 100.0}, \"time_spent\": \"0:02:07\", \"epochs_done\": 5, \"batches_seen\": 200, \"train_examples_seen\": 1995, \"loss\": 0.005111631203908474}}\n"
          ]
        },
        {
          "output_type": "stream",
          "name": "stderr",
          "text": [
            "\n",
            "INFO:train_report:{\"train\": {\"eval_examples_count\": 10, \"metrics\": {\"ner_f1\": 100.0, \"ner_token_f1\": 100.0}, \"time_spent\": \"0:02:07\", \"epochs_done\": 5, \"batches_seen\": 200, \"train_examples_seen\": 1995, \"loss\": 0.005111631203908474}}\n",
            "\n",
            "5it [00:00, 51.31it/s]\n",
            "2023-12-21 20:40:03.585 INFO in 'deeppavlov.core.trainers.nn_trainer'['nn_trainer'] at line 211: Did not improve on the ner_f1 of 79.5775\n",
            "INFO:deeppavlov.core.trainers.nn_trainer:Did not improve on the ner_f1 of 79.5775\n"
          ]
        },
        {
          "output_type": "stream",
          "name": "stdout",
          "text": [
            "{\"valid\": {\"eval_examples_count\": 49, \"metrics\": {\"ner_f1\": 76.6284, \"ner_token_f1\": 85.2381}, \"time_spent\": \"0:02:08\", \"epochs_done\": 5, \"batches_seen\": 200, \"train_examples_seen\": 1995, \"impatience\": 4, \"patience_limit\": 100}}\n"
          ]
        },
        {
          "output_type": "stream",
          "name": "stderr",
          "text": [
            "INFO:train_report:{\"valid\": {\"eval_examples_count\": 49, \"metrics\": {\"ner_f1\": 76.6284, \"ner_token_f1\": 85.2381}, \"time_spent\": \"0:02:08\", \"epochs_done\": 5, \"batches_seen\": 200, \"train_examples_seen\": 1995, \"impatience\": 4, \"patience_limit\": 100}}\n",
            "24it [00:03,  7.14it/s]\n",
            "1it [00:00, 29.95it/s]\n"
          ]
        },
        {
          "output_type": "stream",
          "name": "stdout",
          "text": [
            "{\"train\": {\"eval_examples_count\": 10, \"metrics\": {\"ner_f1\": 100.0, \"ner_token_f1\": 100.0}, \"time_spent\": \"0:02:10\", \"epochs_done\": 5, \"batches_seen\": 220, \"train_examples_seen\": 2195, \"loss\": 0.006396265974035487}}\n"
          ]
        },
        {
          "output_type": "stream",
          "name": "stderr",
          "text": [
            "INFO:train_report:{\"train\": {\"eval_examples_count\": 10, \"metrics\": {\"ner_f1\": 100.0, \"ner_token_f1\": 100.0}, \"time_spent\": \"0:02:10\", \"epochs_done\": 5, \"batches_seen\": 220, \"train_examples_seen\": 2195, \"loss\": 0.006396265974035487}}\n",
            "\n",
            "0it [00:00, ?it/s]\u001b[A\n",
            "5it [00:00, 35.67it/s]\n",
            "2023-12-21 20:40:06.623 INFO in 'deeppavlov.core.trainers.nn_trainer'['nn_trainer'] at line 211: Did not improve on the ner_f1 of 79.5775\n",
            "INFO:deeppavlov.core.trainers.nn_trainer:Did not improve on the ner_f1 of 79.5775\n"
          ]
        },
        {
          "output_type": "stream",
          "name": "stdout",
          "text": [
            "{\"valid\": {\"eval_examples_count\": 49, \"metrics\": {\"ner_f1\": 77.6923, \"ner_token_f1\": 86.0636}, \"time_spent\": \"0:02:11\", \"epochs_done\": 5, \"batches_seen\": 220, \"train_examples_seen\": 2195, \"impatience\": 5, \"patience_limit\": 100}}\n"
          ]
        },
        {
          "output_type": "stream",
          "name": "stderr",
          "text": [
            "INFO:train_report:{\"valid\": {\"eval_examples_count\": 49, \"metrics\": {\"ner_f1\": 77.6923, \"ner_token_f1\": 86.0636}, \"time_spent\": \"0:02:11\", \"epochs_done\": 5, \"batches_seen\": 220, \"train_examples_seen\": 2195, \"impatience\": 5, \"patience_limit\": 100}}\n",
            "39it [00:05,  6.80it/s]\n",
            "5it [00:00,  7.57it/s]\n",
            "1it [00:00, 48.90it/s]"
          ]
        },
        {
          "output_type": "stream",
          "name": "stdout",
          "text": [
            "{\"train\": {\"eval_examples_count\": 10, \"metrics\": {\"ner_f1\": 100.0, \"ner_token_f1\": 100.0}, \"time_spent\": \"0:02:13\", \"epochs_done\": 6, \"batches_seen\": 240, \"train_examples_seen\": 2394, \"loss\": 0.0019438969466136768}}\n"
          ]
        },
        {
          "output_type": "stream",
          "name": "stderr",
          "text": [
            "\n",
            "INFO:train_report:{\"train\": {\"eval_examples_count\": 10, \"metrics\": {\"ner_f1\": 100.0, \"ner_token_f1\": 100.0}, \"time_spent\": \"0:02:13\", \"epochs_done\": 6, \"batches_seen\": 240, \"train_examples_seen\": 2394, \"loss\": 0.0019438969466136768}}\n",
            "\n",
            "0it [00:00, ?it/s]\u001b[A\n",
            "5it [00:00, 44.91it/s]\n",
            "2023-12-21 20:40:09.457 INFO in 'deeppavlov.core.trainers.nn_trainer'['nn_trainer'] at line 206: Improved best ner_f1 from 79.5775 to 81.4545\n",
            "INFO:deeppavlov.core.trainers.nn_trainer:Improved best ner_f1 from 79.5775 to 81.4545\n",
            "2023-12-21 20:40:09.460 INFO in 'deeppavlov.core.trainers.nn_trainer'['nn_trainer'] at line 208: Saving model\n",
            "INFO:deeppavlov.core.trainers.nn_trainer:Saving model\n",
            "2023-12-21 20:40:09.463 INFO in 'deeppavlov.core.models.torch_model'['torch_model'] at line 175: Saving model to /root/.deeppavlov/models/ner_rus_bert_torch/model.pth.tar.\n",
            "INFO:deeppavlov.core.models.torch_model:Saving model to /root/.deeppavlov/models/ner_rus_bert_torch/model.pth.tar.\n"
          ]
        },
        {
          "output_type": "stream",
          "name": "stdout",
          "text": [
            "{\"valid\": {\"eval_examples_count\": 49, \"metrics\": {\"ner_f1\": 81.4545, \"ner_token_f1\": 88.0184}, \"time_spent\": \"0:02:13\", \"epochs_done\": 6, \"batches_seen\": 240, \"train_examples_seen\": 2394, \"impatience\": 0, \"patience_limit\": 100}}\n"
          ]
        },
        {
          "output_type": "stream",
          "name": "stderr",
          "text": [
            "INFO:train_report:{\"valid\": {\"eval_examples_count\": 49, \"metrics\": {\"ner_f1\": 81.4545, \"ner_token_f1\": 88.0184}, \"time_spent\": \"0:02:13\", \"epochs_done\": 6, \"batches_seen\": 240, \"train_examples_seen\": 2394, \"impatience\": 0, \"patience_limit\": 100}}\n",
            "25it [00:27,  7.14it/s]\n",
            "1it [00:00, 40.49it/s]"
          ]
        },
        {
          "output_type": "stream",
          "name": "stdout",
          "text": [
            "{\"train\": {\"eval_examples_count\": 10, \"metrics\": {\"ner_f1\": 100.0, \"ner_token_f1\": 100.0}, \"time_spent\": \"0:02:40\", \"epochs_done\": 6, \"batches_seen\": 260, \"train_examples_seen\": 2594, \"loss\": 0.0014465118147199973}}\n"
          ]
        },
        {
          "output_type": "stream",
          "name": "stderr",
          "text": [
            "\n",
            "INFO:train_report:{\"train\": {\"eval_examples_count\": 10, \"metrics\": {\"ner_f1\": 100.0, \"ner_token_f1\": 100.0}, \"time_spent\": \"0:02:40\", \"epochs_done\": 6, \"batches_seen\": 260, \"train_examples_seen\": 2594, \"loss\": 0.0014465118147199973}}\n",
            "\n",
            "5it [00:00, 51.86it/s]\n",
            "2023-12-21 20:40:36.20 INFO in 'deeppavlov.core.trainers.nn_trainer'['nn_trainer'] at line 211: Did not improve on the ner_f1 of 81.4545\n",
            "INFO:deeppavlov.core.trainers.nn_trainer:Did not improve on the ner_f1 of 81.4545\n"
          ]
        },
        {
          "output_type": "stream",
          "name": "stdout",
          "text": [
            "{\"valid\": {\"eval_examples_count\": 49, \"metrics\": {\"ner_f1\": 77.821, \"ner_token_f1\": 85.9223}, \"time_spent\": \"0:02:40\", \"epochs_done\": 6, \"batches_seen\": 260, \"train_examples_seen\": 2594, \"impatience\": 1, \"patience_limit\": 100}}\n"
          ]
        },
        {
          "output_type": "stream",
          "name": "stderr",
          "text": [
            "INFO:train_report:{\"valid\": {\"eval_examples_count\": 49, \"metrics\": {\"ner_f1\": 77.821, \"ner_token_f1\": 85.9223}, \"time_spent\": \"0:02:40\", \"epochs_done\": 6, \"batches_seen\": 260, \"train_examples_seen\": 2594, \"impatience\": 1, \"patience_limit\": 100}}\n",
            "39it [00:29,  1.34it/s]\n",
            "6it [00:00,  7.77it/s]\n",
            "1it [00:00, 44.40it/s]"
          ]
        },
        {
          "output_type": "stream",
          "name": "stdout",
          "text": [
            "{\"train\": {\"eval_examples_count\": 10, \"metrics\": {\"ner_f1\": 96.1538, \"ner_token_f1\": 98.8506}, \"time_spent\": \"0:02:43\", \"epochs_done\": 7, \"batches_seen\": 280, \"train_examples_seen\": 2793, \"loss\": 0.0044730785972205925}}\n"
          ]
        },
        {
          "output_type": "stream",
          "name": "stderr",
          "text": [
            "\n",
            "INFO:train_report:{\"train\": {\"eval_examples_count\": 10, \"metrics\": {\"ner_f1\": 96.1538, \"ner_token_f1\": 98.8506}, \"time_spent\": \"0:02:43\", \"epochs_done\": 7, \"batches_seen\": 280, \"train_examples_seen\": 2793, \"loss\": 0.0044730785972205925}}\n",
            "\n",
            "5it [00:00, 52.93it/s]\n",
            "2023-12-21 20:40:38.792 INFO in 'deeppavlov.core.trainers.nn_trainer'['nn_trainer'] at line 206: Improved best ner_f1 from 81.4545 to 83.0882\n",
            "INFO:deeppavlov.core.trainers.nn_trainer:Improved best ner_f1 from 81.4545 to 83.0882\n",
            "2023-12-21 20:40:38.796 INFO in 'deeppavlov.core.trainers.nn_trainer'['nn_trainer'] at line 208: Saving model\n",
            "INFO:deeppavlov.core.trainers.nn_trainer:Saving model\n",
            "2023-12-21 20:40:38.799 INFO in 'deeppavlov.core.models.torch_model'['torch_model'] at line 175: Saving model to /root/.deeppavlov/models/ner_rus_bert_torch/model.pth.tar.\n",
            "INFO:deeppavlov.core.models.torch_model:Saving model to /root/.deeppavlov/models/ner_rus_bert_torch/model.pth.tar.\n"
          ]
        },
        {
          "output_type": "stream",
          "name": "stdout",
          "text": [
            "{\"valid\": {\"eval_examples_count\": 49, \"metrics\": {\"ner_f1\": 83.0882, \"ner_token_f1\": 89.6714}, \"time_spent\": \"0:02:43\", \"epochs_done\": 7, \"batches_seen\": 280, \"train_examples_seen\": 2793, \"impatience\": 0, \"patience_limit\": 100}}\n"
          ]
        },
        {
          "output_type": "stream",
          "name": "stderr",
          "text": [
            "INFO:train_report:{\"valid\": {\"eval_examples_count\": 49, \"metrics\": {\"ner_f1\": 83.0882, \"ner_token_f1\": 89.6714}, \"time_spent\": \"0:02:43\", \"epochs_done\": 7, \"batches_seen\": 280, \"train_examples_seen\": 2793, \"impatience\": 0, \"patience_limit\": 100}}\n",
            "26it [00:24,  7.36it/s]\n",
            "1it [00:00, 37.74it/s]"
          ]
        },
        {
          "output_type": "stream",
          "name": "stdout",
          "text": [
            "{\"train\": {\"eval_examples_count\": 10, \"metrics\": {\"ner_f1\": 100.0, \"ner_token_f1\": 100.0}, \"time_spent\": \"0:03:06\", \"epochs_done\": 7, \"batches_seen\": 300, \"train_examples_seen\": 2993, \"loss\": 0.005919747560983524}}\n"
          ]
        },
        {
          "output_type": "stream",
          "name": "stderr",
          "text": [
            "\n",
            "INFO:train_report:{\"train\": {\"eval_examples_count\": 10, \"metrics\": {\"ner_f1\": 100.0, \"ner_token_f1\": 100.0}, \"time_spent\": \"0:03:06\", \"epochs_done\": 7, \"batches_seen\": 300, \"train_examples_seen\": 2993, \"loss\": 0.005919747560983524}}\n",
            "\n",
            "0it [00:00, ?it/s]\u001b[A\n",
            "5it [00:00, 43.89it/s]\n",
            "2023-12-21 20:41:02.51 INFO in 'deeppavlov.core.trainers.nn_trainer'['nn_trainer'] at line 211: Did not improve on the ner_f1 of 83.0882\n",
            "INFO:deeppavlov.core.trainers.nn_trainer:Did not improve on the ner_f1 of 83.0882\n"
          ]
        },
        {
          "output_type": "stream",
          "name": "stdout",
          "text": [
            "{\"valid\": {\"eval_examples_count\": 49, \"metrics\": {\"ner_f1\": 77.9923, \"ner_token_f1\": 86.2651}, \"time_spent\": \"0:03:06\", \"epochs_done\": 7, \"batches_seen\": 300, \"train_examples_seen\": 2993, \"impatience\": 1, \"patience_limit\": 100}}\n"
          ]
        },
        {
          "output_type": "stream",
          "name": "stderr",
          "text": [
            "INFO:train_report:{\"valid\": {\"eval_examples_count\": 49, \"metrics\": {\"ner_f1\": 77.9923, \"ner_token_f1\": 86.2651}, \"time_spent\": \"0:03:06\", \"epochs_done\": 7, \"batches_seen\": 300, \"train_examples_seen\": 2993, \"impatience\": 1, \"patience_limit\": 100}}\n",
            "39it [00:25,  1.51it/s]\n",
            "7it [00:00,  7.41it/s]\n",
            "1it [00:00, 41.07it/s]"
          ]
        },
        {
          "output_type": "stream",
          "name": "stdout",
          "text": [
            "{\"train\": {\"eval_examples_count\": 10, \"metrics\": {\"ner_f1\": 100.0, \"ner_token_f1\": 100.0}, \"time_spent\": \"0:03:09\", \"epochs_done\": 8, \"batches_seen\": 320, \"train_examples_seen\": 3192, \"loss\": 0.0031350615434348585}}\n"
          ]
        },
        {
          "output_type": "stream",
          "name": "stderr",
          "text": [
            "\n",
            "INFO:train_report:{\"train\": {\"eval_examples_count\": 10, \"metrics\": {\"ner_f1\": 100.0, \"ner_token_f1\": 100.0}, \"time_spent\": \"0:03:09\", \"epochs_done\": 8, \"batches_seen\": 320, \"train_examples_seen\": 3192, \"loss\": 0.0031350615434348585}}\n",
            "\n",
            "5it [00:00, 50.90it/s]\n",
            "2023-12-21 20:41:04.854 INFO in 'deeppavlov.core.trainers.nn_trainer'['nn_trainer'] at line 211: Did not improve on the ner_f1 of 83.0882\n",
            "INFO:deeppavlov.core.trainers.nn_trainer:Did not improve on the ner_f1 of 83.0882\n"
          ]
        },
        {
          "output_type": "stream",
          "name": "stdout",
          "text": [
            "{\"valid\": {\"eval_examples_count\": 49, \"metrics\": {\"ner_f1\": 83.0325, \"ner_token_f1\": 89.6074}, \"time_spent\": \"0:03:09\", \"epochs_done\": 8, \"batches_seen\": 320, \"train_examples_seen\": 3192, \"impatience\": 2, \"patience_limit\": 100}}\n"
          ]
        },
        {
          "output_type": "stream",
          "name": "stderr",
          "text": [
            "INFO:train_report:{\"valid\": {\"eval_examples_count\": 49, \"metrics\": {\"ner_f1\": 83.0325, \"ner_token_f1\": 89.6074}, \"time_spent\": \"0:03:09\", \"epochs_done\": 8, \"batches_seen\": 320, \"train_examples_seen\": 3192, \"impatience\": 2, \"patience_limit\": 100}}\n",
            "27it [00:03,  7.55it/s]\n",
            "1it [00:00, 48.83it/s]"
          ]
        },
        {
          "output_type": "stream",
          "name": "stdout",
          "text": [
            "{\"train\": {\"eval_examples_count\": 10, \"metrics\": {\"ner_f1\": 100.0, \"ner_token_f1\": 100.0}, \"time_spent\": \"0:03:11\", \"epochs_done\": 8, \"batches_seen\": 340, \"train_examples_seen\": 3392, \"loss\": 0.004406647739233449}}\n"
          ]
        },
        {
          "output_type": "stream",
          "name": "stderr",
          "text": [
            "\n",
            "INFO:train_report:{\"train\": {\"eval_examples_count\": 10, \"metrics\": {\"ner_f1\": 100.0, \"ner_token_f1\": 100.0}, \"time_spent\": \"0:03:11\", \"epochs_done\": 8, \"batches_seen\": 340, \"train_examples_seen\": 3392, \"loss\": 0.004406647739233449}}\n",
            "\n",
            "5it [00:00, 52.17it/s]\n",
            "2023-12-21 20:41:07.650 INFO in 'deeppavlov.core.trainers.nn_trainer'['nn_trainer'] at line 206: Improved best ner_f1 from 83.0882 to 84.1727\n",
            "INFO:deeppavlov.core.trainers.nn_trainer:Improved best ner_f1 from 83.0882 to 84.1727\n",
            "2023-12-21 20:41:07.652 INFO in 'deeppavlov.core.trainers.nn_trainer'['nn_trainer'] at line 208: Saving model\n",
            "INFO:deeppavlov.core.trainers.nn_trainer:Saving model\n",
            "2023-12-21 20:41:07.656 INFO in 'deeppavlov.core.models.torch_model'['torch_model'] at line 175: Saving model to /root/.deeppavlov/models/ner_rus_bert_torch/model.pth.tar.\n",
            "INFO:deeppavlov.core.models.torch_model:Saving model to /root/.deeppavlov/models/ner_rus_bert_torch/model.pth.tar.\n"
          ]
        },
        {
          "output_type": "stream",
          "name": "stdout",
          "text": [
            "{\"valid\": {\"eval_examples_count\": 49, \"metrics\": {\"ner_f1\": 84.1727, \"ner_token_f1\": 90.5312}, \"time_spent\": \"0:03:12\", \"epochs_done\": 8, \"batches_seen\": 340, \"train_examples_seen\": 3392, \"impatience\": 0, \"patience_limit\": 100}}\n"
          ]
        },
        {
          "output_type": "stream",
          "name": "stderr",
          "text": [
            "INFO:train_report:{\"valid\": {\"eval_examples_count\": 49, \"metrics\": {\"ner_f1\": 84.1727, \"ner_token_f1\": 90.5312}, \"time_spent\": \"0:03:12\", \"epochs_done\": 8, \"batches_seen\": 340, \"train_examples_seen\": 3392, \"impatience\": 0, \"patience_limit\": 100}}\n",
            "39it [00:27,  1.40it/s]\n",
            "8it [00:01,  7.49it/s]\n",
            "1it [00:00, 45.84it/s]"
          ]
        },
        {
          "output_type": "stream",
          "name": "stdout",
          "text": [
            "{\"train\": {\"eval_examples_count\": 10, \"metrics\": {\"ner_f1\": 100.0, \"ner_token_f1\": 100.0}, \"time_spent\": \"0:03:37\", \"epochs_done\": 9, \"batches_seen\": 360, \"train_examples_seen\": 3591, \"loss\": 0.004282917259843089}}\n"
          ]
        },
        {
          "output_type": "stream",
          "name": "stderr",
          "text": [
            "\n",
            "INFO:train_report:{\"train\": {\"eval_examples_count\": 10, \"metrics\": {\"ner_f1\": 100.0, \"ner_token_f1\": 100.0}, \"time_spent\": \"0:03:37\", \"epochs_done\": 9, \"batches_seen\": 360, \"train_examples_seen\": 3591, \"loss\": 0.004282917259843089}}\n",
            "\n",
            "5it [00:00, 51.95it/s]\n",
            "2023-12-21 20:41:32.860 INFO in 'deeppavlov.core.trainers.nn_trainer'['nn_trainer'] at line 211: Did not improve on the ner_f1 of 84.1727\n",
            "INFO:deeppavlov.core.trainers.nn_trainer:Did not improve on the ner_f1 of 84.1727\n"
          ]
        },
        {
          "output_type": "stream",
          "name": "stdout",
          "text": [
            "{\"valid\": {\"eval_examples_count\": 49, \"metrics\": {\"ner_f1\": 81.5884, \"ner_token_f1\": 88.2217}, \"time_spent\": \"0:03:37\", \"epochs_done\": 9, \"batches_seen\": 360, \"train_examples_seen\": 3591, \"impatience\": 1, \"patience_limit\": 100}}\n"
          ]
        },
        {
          "output_type": "stream",
          "name": "stderr",
          "text": [
            "INFO:train_report:{\"valid\": {\"eval_examples_count\": 49, \"metrics\": {\"ner_f1\": 81.5884, \"ner_token_f1\": 88.2217}, \"time_spent\": \"0:03:37\", \"epochs_done\": 9, \"batches_seen\": 360, \"train_examples_seen\": 3591, \"impatience\": 1, \"patience_limit\": 100}}\n",
            "28it [00:03,  7.13it/s]\n",
            "1it [00:00, 27.27it/s]"
          ]
        },
        {
          "output_type": "stream",
          "name": "stdout",
          "text": [
            "{\"train\": {\"eval_examples_count\": 10, \"metrics\": {\"ner_f1\": 100.0, \"ner_token_f1\": 100.0}, \"time_spent\": \"0:03:40\", \"epochs_done\": 9, \"batches_seen\": 380, \"train_examples_seen\": 3791, \"loss\": 0.0009470148710533976}}\n"
          ]
        },
        {
          "output_type": "stream",
          "name": "stderr",
          "text": [
            "\n",
            "INFO:train_report:{\"train\": {\"eval_examples_count\": 10, \"metrics\": {\"ner_f1\": 100.0, \"ner_token_f1\": 100.0}, \"time_spent\": \"0:03:40\", \"epochs_done\": 9, \"batches_seen\": 380, \"train_examples_seen\": 3791, \"loss\": 0.0009470148710533976}}\n",
            "\n",
            "0it [00:00, ?it/s]\u001b[A\n",
            "5it [00:00, 37.44it/s]\n",
            "2023-12-21 20:41:35.855 INFO in 'deeppavlov.core.trainers.nn_trainer'['nn_trainer'] at line 206: Improved best ner_f1 from 84.1727 to 85.0\n",
            "INFO:deeppavlov.core.trainers.nn_trainer:Improved best ner_f1 from 84.1727 to 85.0\n",
            "2023-12-21 20:41:35.858 INFO in 'deeppavlov.core.trainers.nn_trainer'['nn_trainer'] at line 208: Saving model\n",
            "INFO:deeppavlov.core.trainers.nn_trainer:Saving model\n",
            "2023-12-21 20:41:35.862 INFO in 'deeppavlov.core.models.torch_model'['torch_model'] at line 175: Saving model to /root/.deeppavlov/models/ner_rus_bert_torch/model.pth.tar.\n",
            "INFO:deeppavlov.core.models.torch_model:Saving model to /root/.deeppavlov/models/ner_rus_bert_torch/model.pth.tar.\n"
          ]
        },
        {
          "output_type": "stream",
          "name": "stdout",
          "text": [
            "{\"valid\": {\"eval_examples_count\": 49, \"metrics\": {\"ner_f1\": 85.0, \"ner_token_f1\": 90.1602}, \"time_spent\": \"0:03:40\", \"epochs_done\": 9, \"batches_seen\": 380, \"train_examples_seen\": 3791, \"impatience\": 0, \"patience_limit\": 100}}\n"
          ]
        },
        {
          "output_type": "stream",
          "name": "stderr",
          "text": [
            "INFO:train_report:{\"valid\": {\"eval_examples_count\": 49, \"metrics\": {\"ner_f1\": 85.0, \"ner_token_f1\": 90.1602}, \"time_spent\": \"0:03:40\", \"epochs_done\": 9, \"batches_seen\": 380, \"train_examples_seen\": 3791, \"impatience\": 0, \"patience_limit\": 100}}\n",
            "39it [00:31,  1.23it/s]\n",
            "9it [00:01,  7.49it/s]\n",
            "1it [00:00, 43.70it/s]"
          ]
        },
        {
          "output_type": "stream",
          "name": "stdout",
          "text": [
            "{\"train\": {\"eval_examples_count\": 10, \"metrics\": {\"ner_f1\": 100.0, \"ner_token_f1\": 100.0}, \"time_spent\": \"0:04:09\", \"epochs_done\": 10, \"batches_seen\": 400, \"train_examples_seen\": 3990, \"loss\": 0.001460553627111949}}\n"
          ]
        },
        {
          "output_type": "stream",
          "name": "stderr",
          "text": [
            "\n",
            "INFO:train_report:{\"train\": {\"eval_examples_count\": 10, \"metrics\": {\"ner_f1\": 100.0, \"ner_token_f1\": 100.0}, \"time_spent\": \"0:04:09\", \"epochs_done\": 10, \"batches_seen\": 400, \"train_examples_seen\": 3990, \"loss\": 0.001460553627111949}}\n",
            "\n",
            "5it [00:00, 54.35it/s]\n",
            "2023-12-21 20:42:04.772 INFO in 'deeppavlov.core.trainers.nn_trainer'['nn_trainer'] at line 206: Improved best ner_f1 from 85.0 to 85.7143\n",
            "INFO:deeppavlov.core.trainers.nn_trainer:Improved best ner_f1 from 85.0 to 85.7143\n",
            "2023-12-21 20:42:04.775 INFO in 'deeppavlov.core.trainers.nn_trainer'['nn_trainer'] at line 208: Saving model\n",
            "INFO:deeppavlov.core.trainers.nn_trainer:Saving model\n",
            "2023-12-21 20:42:04.779 INFO in 'deeppavlov.core.models.torch_model'['torch_model'] at line 175: Saving model to /root/.deeppavlov/models/ner_rus_bert_torch/model.pth.tar.\n",
            "INFO:deeppavlov.core.models.torch_model:Saving model to /root/.deeppavlov/models/ner_rus_bert_torch/model.pth.tar.\n"
          ]
        },
        {
          "output_type": "stream",
          "name": "stdout",
          "text": [
            "{\"valid\": {\"eval_examples_count\": 49, \"metrics\": {\"ner_f1\": 85.7143, \"ner_token_f1\": 90.8257}, \"time_spent\": \"0:04:09\", \"epochs_done\": 10, \"batches_seen\": 400, \"train_examples_seen\": 3990, \"impatience\": 0, \"patience_limit\": 100}}\n"
          ]
        },
        {
          "output_type": "stream",
          "name": "stderr",
          "text": [
            "INFO:train_report:{\"valid\": {\"eval_examples_count\": 49, \"metrics\": {\"ner_f1\": 85.7143, \"ner_token_f1\": 90.8257}, \"time_spent\": \"0:04:09\", \"epochs_done\": 10, \"batches_seen\": 400, \"train_examples_seen\": 3990, \"impatience\": 0, \"patience_limit\": 100}}\n",
            "29it [00:25,  7.12it/s]\n",
            "1it [00:00, 40.30it/s]"
          ]
        },
        {
          "output_type": "stream",
          "name": "stdout",
          "text": [
            "{\"train\": {\"eval_examples_count\": 10, \"metrics\": {\"ner_f1\": 100.0, \"ner_token_f1\": 100.0}, \"time_spent\": \"0:04:33\", \"epochs_done\": 10, \"batches_seen\": 420, \"train_examples_seen\": 4190, \"loss\": 0.0021365153559600005}}\n"
          ]
        },
        {
          "output_type": "stream",
          "name": "stderr",
          "text": [
            "\n",
            "INFO:train_report:{\"train\": {\"eval_examples_count\": 10, \"metrics\": {\"ner_f1\": 100.0, \"ner_token_f1\": 100.0}, \"time_spent\": \"0:04:33\", \"epochs_done\": 10, \"batches_seen\": 420, \"train_examples_seen\": 4190, \"loss\": 0.0021365153559600005}}\n",
            "\n",
            "5it [00:00, 51.36it/s]\n",
            "2023-12-21 20:42:29.490 INFO in 'deeppavlov.core.trainers.nn_trainer'['nn_trainer'] at line 211: Did not improve on the ner_f1 of 85.7143\n",
            "INFO:deeppavlov.core.trainers.nn_trainer:Did not improve on the ner_f1 of 85.7143\n"
          ]
        },
        {
          "output_type": "stream",
          "name": "stdout",
          "text": [
            "{\"valid\": {\"eval_examples_count\": 49, \"metrics\": {\"ner_f1\": 84.3206, \"ner_token_f1\": 89.4855}, \"time_spent\": \"0:04:33\", \"epochs_done\": 10, \"batches_seen\": 420, \"train_examples_seen\": 4190, \"impatience\": 1, \"patience_limit\": 100}}\n"
          ]
        },
        {
          "output_type": "stream",
          "name": "stderr",
          "text": [
            "INFO:train_report:{\"valid\": {\"eval_examples_count\": 49, \"metrics\": {\"ner_f1\": 84.3206, \"ner_token_f1\": 89.4855}, \"time_spent\": \"0:04:33\", \"epochs_done\": 10, \"batches_seen\": 420, \"train_examples_seen\": 4190, \"impatience\": 1, \"patience_limit\": 100}}\n",
            "39it [00:27,  1.42it/s]\n",
            "10it [00:01,  7.35it/s]\n",
            "1it [00:00, 44.55it/s]"
          ]
        },
        {
          "output_type": "stream",
          "name": "stdout",
          "text": [
            "{\"train\": {\"eval_examples_count\": 10, \"metrics\": {\"ner_f1\": 100.0, \"ner_token_f1\": 100.0}, \"time_spent\": \"0:04:36\", \"epochs_done\": 11, \"batches_seen\": 440, \"train_examples_seen\": 4389, \"loss\": 0.000530942517798394}}\n"
          ]
        },
        {
          "output_type": "stream",
          "name": "stderr",
          "text": [
            "\n",
            "INFO:train_report:{\"train\": {\"eval_examples_count\": 10, \"metrics\": {\"ner_f1\": 100.0, \"ner_token_f1\": 100.0}, \"time_spent\": \"0:04:36\", \"epochs_done\": 11, \"batches_seen\": 440, \"train_examples_seen\": 4389, \"loss\": 0.000530942517798394}}\n",
            "\n",
            "5it [00:00, 50.68it/s]\n",
            "2023-12-21 20:42:32.307 INFO in 'deeppavlov.core.trainers.nn_trainer'['nn_trainer'] at line 211: Did not improve on the ner_f1 of 85.7143\n",
            "INFO:deeppavlov.core.trainers.nn_trainer:Did not improve on the ner_f1 of 85.7143\n"
          ]
        },
        {
          "output_type": "stream",
          "name": "stdout",
          "text": [
            "{\"valid\": {\"eval_examples_count\": 49, \"metrics\": {\"ner_f1\": 83.8028, \"ner_token_f1\": 89.5928}, \"time_spent\": \"0:04:36\", \"epochs_done\": 11, \"batches_seen\": 440, \"train_examples_seen\": 4389, \"impatience\": 2, \"patience_limit\": 100}}\n"
          ]
        },
        {
          "output_type": "stream",
          "name": "stderr",
          "text": [
            "INFO:train_report:{\"valid\": {\"eval_examples_count\": 49, \"metrics\": {\"ner_f1\": 83.8028, \"ner_token_f1\": 89.5928}, \"time_spent\": \"0:04:36\", \"epochs_done\": 11, \"batches_seen\": 440, \"train_examples_seen\": 4389, \"impatience\": 2, \"patience_limit\": 100}}\n",
            "30it [00:04,  7.38it/s]\n",
            "1it [00:00, 29.36it/s]"
          ]
        },
        {
          "output_type": "stream",
          "name": "stdout",
          "text": [
            "{\"train\": {\"eval_examples_count\": 10, \"metrics\": {\"ner_f1\": 100.0, \"ner_token_f1\": 100.0}, \"time_spent\": \"0:04:39\", \"epochs_done\": 11, \"batches_seen\": 460, \"train_examples_seen\": 4589, \"loss\": 0.0010248368125758134}}\n"
          ]
        },
        {
          "output_type": "stream",
          "name": "stderr",
          "text": [
            "\n",
            "INFO:train_report:{\"train\": {\"eval_examples_count\": 10, \"metrics\": {\"ner_f1\": 100.0, \"ner_token_f1\": 100.0}, \"time_spent\": \"0:04:39\", \"epochs_done\": 11, \"batches_seen\": 460, \"train_examples_seen\": 4589, \"loss\": 0.0010248368125758134}}\n",
            "\n",
            "0it [00:00, ?it/s]\u001b[A\n",
            "5it [00:00, 37.23it/s]\n",
            "2023-12-21 20:42:35.187 INFO in 'deeppavlov.core.trainers.nn_trainer'['nn_trainer'] at line 211: Did not improve on the ner_f1 of 85.7143\n",
            "INFO:deeppavlov.core.trainers.nn_trainer:Did not improve on the ner_f1 of 85.7143\n"
          ]
        },
        {
          "output_type": "stream",
          "name": "stdout",
          "text": [
            "{\"valid\": {\"eval_examples_count\": 49, \"metrics\": {\"ner_f1\": 84.8921, \"ner_token_f1\": 90.3226}, \"time_spent\": \"0:04:39\", \"epochs_done\": 11, \"batches_seen\": 460, \"train_examples_seen\": 4589, \"impatience\": 3, \"patience_limit\": 100}}\n"
          ]
        },
        {
          "output_type": "stream",
          "name": "stderr",
          "text": [
            "INFO:train_report:{\"valid\": {\"eval_examples_count\": 49, \"metrics\": {\"ner_f1\": 84.8921, \"ner_token_f1\": 90.3226}, \"time_spent\": \"0:04:39\", \"epochs_done\": 11, \"batches_seen\": 460, \"train_examples_seen\": 4589, \"impatience\": 3, \"patience_limit\": 100}}\n",
            "39it [00:05,  6.90it/s]\n",
            "11it [00:01,  7.29it/s]\n",
            "1it [00:00, 47.71it/s]"
          ]
        },
        {
          "output_type": "stream",
          "name": "stdout",
          "text": [
            "{\"train\": {\"eval_examples_count\": 10, \"metrics\": {\"ner_f1\": 100.0, \"ner_token_f1\": 100.0}, \"time_spent\": \"0:04:42\", \"epochs_done\": 12, \"batches_seen\": 480, \"train_examples_seen\": 4788, \"loss\": 0.0029184395898482762}}\n"
          ]
        },
        {
          "output_type": "stream",
          "name": "stderr",
          "text": [
            "\n",
            "INFO:train_report:{\"train\": {\"eval_examples_count\": 10, \"metrics\": {\"ner_f1\": 100.0, \"ner_token_f1\": 100.0}, \"time_spent\": \"0:04:42\", \"epochs_done\": 12, \"batches_seen\": 480, \"train_examples_seen\": 4788, \"loss\": 0.0029184395898482762}}\n",
            "\n",
            "0it [00:00, ?it/s]\u001b[A\n",
            "5it [00:00, 42.54it/s]\n",
            "2023-12-21 20:42:38.166 INFO in 'deeppavlov.core.trainers.nn_trainer'['nn_trainer'] at line 211: Did not improve on the ner_f1 of 85.7143\n",
            "INFO:deeppavlov.core.trainers.nn_trainer:Did not improve on the ner_f1 of 85.7143\n"
          ]
        },
        {
          "output_type": "stream",
          "name": "stdout",
          "text": [
            "{\"valid\": {\"eval_examples_count\": 49, \"metrics\": {\"ner_f1\": 84.8276, \"ner_token_f1\": 89.7778}, \"time_spent\": \"0:04:42\", \"epochs_done\": 12, \"batches_seen\": 480, \"train_examples_seen\": 4788, \"impatience\": 4, \"patience_limit\": 100}}\n"
          ]
        },
        {
          "output_type": "stream",
          "name": "stderr",
          "text": [
            "INFO:train_report:{\"valid\": {\"eval_examples_count\": 49, \"metrics\": {\"ner_f1\": 84.8276, \"ner_token_f1\": 89.7778}, \"time_spent\": \"0:04:42\", \"epochs_done\": 12, \"batches_seen\": 480, \"train_examples_seen\": 4788, \"impatience\": 4, \"patience_limit\": 100}}\n",
            "31it [00:04,  7.39it/s]\n",
            "1it [00:00, 41.73it/s]"
          ]
        },
        {
          "output_type": "stream",
          "name": "stdout",
          "text": [
            "{\"train\": {\"eval_examples_count\": 10, \"metrics\": {\"ner_f1\": 100.0, \"ner_token_f1\": 100.0}, \"time_spent\": \"0:04:45\", \"epochs_done\": 12, \"batches_seen\": 500, \"train_examples_seen\": 4988, \"loss\": 0.0006313132384093478}}\n"
          ]
        },
        {
          "output_type": "stream",
          "name": "stderr",
          "text": [
            "\n",
            "INFO:train_report:{\"train\": {\"eval_examples_count\": 10, \"metrics\": {\"ner_f1\": 100.0, \"ner_token_f1\": 100.0}, \"time_spent\": \"0:04:45\", \"epochs_done\": 12, \"batches_seen\": 500, \"train_examples_seen\": 4988, \"loss\": 0.0006313132384093478}}\n",
            "\n",
            "0it [00:00, ?it/s]\u001b[A\n",
            "5it [00:00, 47.04it/s]\n",
            "2023-12-21 20:42:41.20 INFO in 'deeppavlov.core.trainers.nn_trainer'['nn_trainer'] at line 211: Did not improve on the ner_f1 of 85.7143\n",
            "INFO:deeppavlov.core.trainers.nn_trainer:Did not improve on the ner_f1 of 85.7143\n"
          ]
        },
        {
          "output_type": "stream",
          "name": "stdout",
          "text": [
            "{\"valid\": {\"eval_examples_count\": 49, \"metrics\": {\"ner_f1\": 85.4093, \"ner_token_f1\": 90.411}, \"time_spent\": \"0:04:45\", \"epochs_done\": 12, \"batches_seen\": 500, \"train_examples_seen\": 4988, \"impatience\": 5, \"patience_limit\": 100}}\n"
          ]
        },
        {
          "output_type": "stream",
          "name": "stderr",
          "text": [
            "INFO:train_report:{\"valid\": {\"eval_examples_count\": 49, \"metrics\": {\"ner_f1\": 85.4093, \"ner_token_f1\": 90.411}, \"time_spent\": \"0:04:45\", \"epochs_done\": 12, \"batches_seen\": 500, \"train_examples_seen\": 4988, \"impatience\": 5, \"patience_limit\": 100}}\n",
            "39it [00:05,  6.92it/s]\n",
            "12it [00:01,  7.43it/s]\n",
            "1it [00:00, 44.66it/s]"
          ]
        },
        {
          "output_type": "stream",
          "name": "stdout",
          "text": [
            "{\"train\": {\"eval_examples_count\": 10, \"metrics\": {\"ner_f1\": 100.0, \"ner_token_f1\": 100.0}, \"time_spent\": \"0:04:48\", \"epochs_done\": 13, \"batches_seen\": 520, \"train_examples_seen\": 5187, \"loss\": 0.0004257196211256087}}\n"
          ]
        },
        {
          "output_type": "stream",
          "name": "stderr",
          "text": [
            "\n",
            "INFO:train_report:{\"train\": {\"eval_examples_count\": 10, \"metrics\": {\"ner_f1\": 100.0, \"ner_token_f1\": 100.0}, \"time_spent\": \"0:04:48\", \"epochs_done\": 13, \"batches_seen\": 520, \"train_examples_seen\": 5187, \"loss\": 0.0004257196211256087}}\n",
            "\n",
            "5it [00:00, 51.11it/s]\n",
            "2023-12-21 20:42:43.851 INFO in 'deeppavlov.core.trainers.nn_trainer'['nn_trainer'] at line 211: Did not improve on the ner_f1 of 85.7143\n",
            "INFO:deeppavlov.core.trainers.nn_trainer:Did not improve on the ner_f1 of 85.7143\n"
          ]
        },
        {
          "output_type": "stream",
          "name": "stdout",
          "text": [
            "{\"valid\": {\"eval_examples_count\": 49, \"metrics\": {\"ner_f1\": 85.4093, \"ner_token_f1\": 90.411}, \"time_spent\": \"0:04:48\", \"epochs_done\": 13, \"batches_seen\": 520, \"train_examples_seen\": 5187, \"impatience\": 6, \"patience_limit\": 100}}\n"
          ]
        },
        {
          "output_type": "stream",
          "name": "stderr",
          "text": [
            "INFO:train_report:{\"valid\": {\"eval_examples_count\": 49, \"metrics\": {\"ner_f1\": 85.4093, \"ner_token_f1\": 90.411}, \"time_spent\": \"0:04:48\", \"epochs_done\": 13, \"batches_seen\": 520, \"train_examples_seen\": 5187, \"impatience\": 6, \"patience_limit\": 100}}\n",
            "32it [00:04,  7.43it/s]\n",
            "1it [00:00, 45.34it/s]"
          ]
        },
        {
          "output_type": "stream",
          "name": "stdout",
          "text": [
            "{\"train\": {\"eval_examples_count\": 10, \"metrics\": {\"ner_f1\": 100.0, \"ner_token_f1\": 100.0}, \"time_spent\": \"0:04:51\", \"epochs_done\": 13, \"batches_seen\": 540, \"train_examples_seen\": 5387, \"loss\": 0.00041742626199265943}}\n"
          ]
        },
        {
          "output_type": "stream",
          "name": "stderr",
          "text": [
            "\n",
            "INFO:train_report:{\"train\": {\"eval_examples_count\": 10, \"metrics\": {\"ner_f1\": 100.0, \"ner_token_f1\": 100.0}, \"time_spent\": \"0:04:51\", \"epochs_done\": 13, \"batches_seen\": 540, \"train_examples_seen\": 5387, \"loss\": 0.00041742626199265943}}\n",
            "\n",
            "0it [00:00, ?it/s]\u001b[A\n",
            "5it [00:00, 46.42it/s]\n",
            "2023-12-21 20:42:46.678 INFO in 'deeppavlov.core.trainers.nn_trainer'['nn_trainer'] at line 211: Did not improve on the ner_f1 of 85.7143\n",
            "INFO:deeppavlov.core.trainers.nn_trainer:Did not improve on the ner_f1 of 85.7143\n"
          ]
        },
        {
          "output_type": "stream",
          "name": "stdout",
          "text": [
            "{\"valid\": {\"eval_examples_count\": 49, \"metrics\": {\"ner_f1\": 84.5878, \"ner_token_f1\": 89.9083}, \"time_spent\": \"0:04:51\", \"epochs_done\": 13, \"batches_seen\": 540, \"train_examples_seen\": 5387, \"impatience\": 7, \"patience_limit\": 100}}\n"
          ]
        },
        {
          "output_type": "stream",
          "name": "stderr",
          "text": [
            "INFO:train_report:{\"valid\": {\"eval_examples_count\": 49, \"metrics\": {\"ner_f1\": 84.5878, \"ner_token_f1\": 89.9083}, \"time_spent\": \"0:04:51\", \"epochs_done\": 13, \"batches_seen\": 540, \"train_examples_seen\": 5387, \"impatience\": 7, \"patience_limit\": 100}}\n",
            "39it [00:05,  7.02it/s]\n",
            "13it [00:01,  7.15it/s]\n",
            "1it [00:00, 33.09it/s]"
          ]
        },
        {
          "output_type": "stream",
          "name": "stdout",
          "text": [
            "{\"train\": {\"eval_examples_count\": 10, \"metrics\": {\"ner_f1\": 100.0, \"ner_token_f1\": 100.0}, \"time_spent\": \"0:04:54\", \"epochs_done\": 14, \"batches_seen\": 560, \"train_examples_seen\": 5586, \"loss\": 0.0003642905445303768}}\n"
          ]
        },
        {
          "output_type": "stream",
          "name": "stderr",
          "text": [
            "\n",
            "INFO:train_report:{\"train\": {\"eval_examples_count\": 10, \"metrics\": {\"ner_f1\": 100.0, \"ner_token_f1\": 100.0}, \"time_spent\": \"0:04:54\", \"epochs_done\": 14, \"batches_seen\": 560, \"train_examples_seen\": 5586, \"loss\": 0.0003642905445303768}}\n",
            "\n",
            "0it [00:00, ?it/s]\u001b[A\n",
            "5it [00:00, 34.32it/s]\n",
            "2023-12-21 20:42:49.749 INFO in 'deeppavlov.core.trainers.nn_trainer'['nn_trainer'] at line 211: Did not improve on the ner_f1 of 85.7143\n",
            "INFO:deeppavlov.core.trainers.nn_trainer:Did not improve on the ner_f1 of 85.7143\n"
          ]
        },
        {
          "output_type": "stream",
          "name": "stdout",
          "text": [
            "{\"valid\": {\"eval_examples_count\": 49, \"metrics\": {\"ner_f1\": 84.5878, \"ner_token_f1\": 89.9083}, \"time_spent\": \"0:04:54\", \"epochs_done\": 14, \"batches_seen\": 560, \"train_examples_seen\": 5586, \"impatience\": 8, \"patience_limit\": 100}}\n"
          ]
        },
        {
          "output_type": "stream",
          "name": "stderr",
          "text": [
            "INFO:train_report:{\"valid\": {\"eval_examples_count\": 49, \"metrics\": {\"ner_f1\": 84.5878, \"ner_token_f1\": 89.9083}, \"time_spent\": \"0:04:54\", \"epochs_done\": 14, \"batches_seen\": 560, \"train_examples_seen\": 5586, \"impatience\": 8, \"patience_limit\": 100}}\n",
            "33it [00:04,  7.56it/s]\n",
            "1it [00:00, 38.85it/s]"
          ]
        },
        {
          "output_type": "stream",
          "name": "stdout",
          "text": [
            "{\"train\": {\"eval_examples_count\": 10, \"metrics\": {\"ner_f1\": 100.0, \"ner_token_f1\": 100.0}, \"time_spent\": \"0:04:56\", \"epochs_done\": 14, \"batches_seen\": 580, \"train_examples_seen\": 5786, \"loss\": 0.0003881934186210856}}\n"
          ]
        },
        {
          "output_type": "stream",
          "name": "stderr",
          "text": [
            "\n",
            "INFO:train_report:{\"train\": {\"eval_examples_count\": 10, \"metrics\": {\"ner_f1\": 100.0, \"ner_token_f1\": 100.0}, \"time_spent\": \"0:04:56\", \"epochs_done\": 14, \"batches_seen\": 580, \"train_examples_seen\": 5786, \"loss\": 0.0003881934186210856}}\n",
            "\n",
            "0it [00:00, ?it/s]\u001b[A\n",
            "5it [00:00, 47.16it/s]\n",
            "2023-12-21 20:42:52.636 INFO in 'deeppavlov.core.trainers.nn_trainer'['nn_trainer'] at line 211: Did not improve on the ner_f1 of 85.7143\n",
            "INFO:deeppavlov.core.trainers.nn_trainer:Did not improve on the ner_f1 of 85.7143\n"
          ]
        },
        {
          "output_type": "stream",
          "name": "stdout",
          "text": [
            "{\"valid\": {\"eval_examples_count\": 49, \"metrics\": {\"ner_f1\": 84.5878, \"ner_token_f1\": 89.9083}, \"time_spent\": \"0:04:57\", \"epochs_done\": 14, \"batches_seen\": 580, \"train_examples_seen\": 5786, \"impatience\": 9, \"patience_limit\": 100}}\n"
          ]
        },
        {
          "output_type": "stream",
          "name": "stderr",
          "text": [
            "INFO:train_report:{\"valid\": {\"eval_examples_count\": 49, \"metrics\": {\"ner_f1\": 84.5878, \"ner_token_f1\": 89.9083}, \"time_spent\": \"0:04:57\", \"epochs_done\": 14, \"batches_seen\": 580, \"train_examples_seen\": 5786, \"impatience\": 9, \"patience_limit\": 100}}\n",
            "39it [00:05,  6.73it/s]\n",
            "14it [00:01,  7.32it/s]\n",
            "1it [00:00, 36.36it/s]"
          ]
        },
        {
          "output_type": "stream",
          "name": "stdout",
          "text": [
            "{\"train\": {\"eval_examples_count\": 10, \"metrics\": {\"ner_f1\": 100.0, \"ner_token_f1\": 100.0}, \"time_spent\": \"0:04:59\", \"epochs_done\": 15, \"batches_seen\": 600, \"train_examples_seen\": 5985, \"loss\": 0.00029532061162171883}}\n"
          ]
        },
        {
          "output_type": "stream",
          "name": "stderr",
          "text": [
            "\n",
            "INFO:train_report:{\"train\": {\"eval_examples_count\": 10, \"metrics\": {\"ner_f1\": 100.0, \"ner_token_f1\": 100.0}, \"time_spent\": \"0:04:59\", \"epochs_done\": 15, \"batches_seen\": 600, \"train_examples_seen\": 5985, \"loss\": 0.00029532061162171883}}\n",
            "\n",
            "5it [00:00, 51.41it/s]\n",
            "2023-12-21 20:42:55.541 INFO in 'deeppavlov.core.trainers.nn_trainer'['nn_trainer'] at line 211: Did not improve on the ner_f1 of 85.7143\n",
            "INFO:deeppavlov.core.trainers.nn_trainer:Did not improve on the ner_f1 of 85.7143\n"
          ]
        },
        {
          "output_type": "stream",
          "name": "stdout",
          "text": [
            "{\"valid\": {\"eval_examples_count\": 49, \"metrics\": {\"ner_f1\": 84.8921, \"ner_token_f1\": 90.1149}, \"time_spent\": \"0:04:59\", \"epochs_done\": 15, \"batches_seen\": 600, \"train_examples_seen\": 5985, \"impatience\": 10, \"patience_limit\": 100}}\n"
          ]
        },
        {
          "output_type": "stream",
          "name": "stderr",
          "text": [
            "INFO:train_report:{\"valid\": {\"eval_examples_count\": 49, \"metrics\": {\"ner_f1\": 84.8921, \"ner_token_f1\": 90.1149}, \"time_spent\": \"0:04:59\", \"epochs_done\": 15, \"batches_seen\": 600, \"train_examples_seen\": 5985, \"impatience\": 10, \"patience_limit\": 100}}\n",
            "34it [00:04,  7.51it/s]\n",
            "1it [00:00, 45.17it/s]"
          ]
        },
        {
          "output_type": "stream",
          "name": "stdout",
          "text": [
            "{\"train\": {\"eval_examples_count\": 10, \"metrics\": {\"ner_f1\": 100.0, \"ner_token_f1\": 100.0}, \"time_spent\": \"0:05:02\", \"epochs_done\": 15, \"batches_seen\": 620, \"train_examples_seen\": 6185, \"loss\": 0.0003452946722973138}}\n"
          ]
        },
        {
          "output_type": "stream",
          "name": "stderr",
          "text": [
            "\n",
            "INFO:train_report:{\"train\": {\"eval_examples_count\": 10, \"metrics\": {\"ner_f1\": 100.0, \"ner_token_f1\": 100.0}, \"time_spent\": \"0:05:02\", \"epochs_done\": 15, \"batches_seen\": 620, \"train_examples_seen\": 6185, \"loss\": 0.0003452946722973138}}\n",
            "\n",
            "5it [00:00, 50.68it/s]\n",
            "2023-12-21 20:42:58.362 INFO in 'deeppavlov.core.trainers.nn_trainer'['nn_trainer'] at line 211: Did not improve on the ner_f1 of 85.7143\n",
            "INFO:deeppavlov.core.trainers.nn_trainer:Did not improve on the ner_f1 of 85.7143\n"
          ]
        },
        {
          "output_type": "stream",
          "name": "stdout",
          "text": [
            "{\"valid\": {\"eval_examples_count\": 49, \"metrics\": {\"ner_f1\": 84.5878, \"ner_token_f1\": 89.9083}, \"time_spent\": \"0:05:02\", \"epochs_done\": 15, \"batches_seen\": 620, \"train_examples_seen\": 6185, \"impatience\": 11, \"patience_limit\": 100}}\n"
          ]
        },
        {
          "output_type": "stream",
          "name": "stderr",
          "text": [
            "INFO:train_report:{\"valid\": {\"eval_examples_count\": 49, \"metrics\": {\"ner_f1\": 84.5878, \"ner_token_f1\": 89.9083}, \"time_spent\": \"0:05:02\", \"epochs_done\": 15, \"batches_seen\": 620, \"train_examples_seen\": 6185, \"impatience\": 11, \"patience_limit\": 100}}\n",
            "39it [00:05,  6.98it/s]\n",
            "15it [00:02,  6.87it/s]\n",
            "1it [00:00, 32.40it/s]"
          ]
        },
        {
          "output_type": "stream",
          "name": "stdout",
          "text": [
            "{\"train\": {\"eval_examples_count\": 10, \"metrics\": {\"ner_f1\": 100.0, \"ner_token_f1\": 100.0}, \"time_spent\": \"0:05:05\", \"epochs_done\": 16, \"batches_seen\": 640, \"train_examples_seen\": 6384, \"loss\": 0.0003189837450918276}}\n"
          ]
        },
        {
          "output_type": "stream",
          "name": "stderr",
          "text": [
            "\n",
            "INFO:train_report:{\"train\": {\"eval_examples_count\": 10, \"metrics\": {\"ner_f1\": 100.0, \"ner_token_f1\": 100.0}, \"time_spent\": \"0:05:05\", \"epochs_done\": 16, \"batches_seen\": 640, \"train_examples_seen\": 6384, \"loss\": 0.0003189837450918276}}\n",
            "\n",
            "0it [00:00, ?it/s]\u001b[A\n",
            "5it [00:00, 33.26it/s]\n",
            "2023-12-21 20:43:01.377 INFO in 'deeppavlov.core.trainers.nn_trainer'['nn_trainer'] at line 211: Did not improve on the ner_f1 of 85.7143\n",
            "INFO:deeppavlov.core.trainers.nn_trainer:Did not improve on the ner_f1 of 85.7143\n"
          ]
        },
        {
          "output_type": "stream",
          "name": "stdout",
          "text": [
            "{\"valid\": {\"eval_examples_count\": 49, \"metrics\": {\"ner_f1\": 85.0, \"ner_token_f1\": 90.1602}, \"time_spent\": \"0:05:05\", \"epochs_done\": 16, \"batches_seen\": 640, \"train_examples_seen\": 6384, \"impatience\": 12, \"patience_limit\": 100}}\n"
          ]
        },
        {
          "output_type": "stream",
          "name": "stderr",
          "text": [
            "INFO:train_report:{\"valid\": {\"eval_examples_count\": 49, \"metrics\": {\"ner_f1\": 85.0, \"ner_token_f1\": 90.1602}, \"time_spent\": \"0:05:05\", \"epochs_done\": 16, \"batches_seen\": 640, \"train_examples_seen\": 6384, \"impatience\": 12, \"patience_limit\": 100}}\n",
            "35it [00:05,  7.43it/s]\n",
            "1it [00:00, 44.03it/s]"
          ]
        },
        {
          "output_type": "stream",
          "name": "stdout",
          "text": [
            "{\"train\": {\"eval_examples_count\": 10, \"metrics\": {\"ner_f1\": 100.0, \"ner_token_f1\": 100.0}, \"time_spent\": \"0:05:08\", \"epochs_done\": 16, \"batches_seen\": 660, \"train_examples_seen\": 6584, \"loss\": 0.00029350776603678244}}\n"
          ]
        },
        {
          "output_type": "stream",
          "name": "stderr",
          "text": [
            "\n",
            "INFO:train_report:{\"train\": {\"eval_examples_count\": 10, \"metrics\": {\"ner_f1\": 100.0, \"ner_token_f1\": 100.0}, \"time_spent\": \"0:05:08\", \"epochs_done\": 16, \"batches_seen\": 660, \"train_examples_seen\": 6584, \"loss\": 0.00029350776603678244}}\n",
            "\n",
            "0it [00:00, ?it/s]\u001b[A\n",
            "5it [00:00, 46.02it/s]\n",
            "2023-12-21 20:43:04.352 INFO in 'deeppavlov.core.trainers.nn_trainer'['nn_trainer'] at line 211: Did not improve on the ner_f1 of 85.7143\n",
            "INFO:deeppavlov.core.trainers.nn_trainer:Did not improve on the ner_f1 of 85.7143\n"
          ]
        },
        {
          "output_type": "stream",
          "name": "stdout",
          "text": [
            "{\"valid\": {\"eval_examples_count\": 49, \"metrics\": {\"ner_f1\": 85.4093, \"ner_token_f1\": 90.411}, \"time_spent\": \"0:05:08\", \"epochs_done\": 16, \"batches_seen\": 660, \"train_examples_seen\": 6584, \"impatience\": 13, \"patience_limit\": 100}}\n"
          ]
        },
        {
          "output_type": "stream",
          "name": "stderr",
          "text": [
            "INFO:train_report:{\"valid\": {\"eval_examples_count\": 49, \"metrics\": {\"ner_f1\": 85.4093, \"ner_token_f1\": 90.411}, \"time_spent\": \"0:05:08\", \"epochs_done\": 16, \"batches_seen\": 660, \"train_examples_seen\": 6584, \"impatience\": 13, \"patience_limit\": 100}}\n",
            "39it [00:05,  6.70it/s]\n",
            "16it [00:02,  7.66it/s]\n",
            "1it [00:00, 35.99it/s]"
          ]
        },
        {
          "output_type": "stream",
          "name": "stdout",
          "text": [
            "{\"train\": {\"eval_examples_count\": 10, \"metrics\": {\"ner_f1\": 100.0, \"ner_token_f1\": 100.0}, \"time_spent\": \"0:05:11\", \"epochs_done\": 17, \"batches_seen\": 680, \"train_examples_seen\": 6783, \"loss\": 0.0014463555024121888}}\n"
          ]
        },
        {
          "output_type": "stream",
          "name": "stderr",
          "text": [
            "\n",
            "INFO:train_report:{\"train\": {\"eval_examples_count\": 10, \"metrics\": {\"ner_f1\": 100.0, \"ner_token_f1\": 100.0}, \"time_spent\": \"0:05:11\", \"epochs_done\": 17, \"batches_seen\": 680, \"train_examples_seen\": 6783, \"loss\": 0.0014463555024121888}}\n",
            "\n",
            "5it [00:00, 50.99it/s]\n",
            "2023-12-21 20:43:07.180 INFO in 'deeppavlov.core.trainers.nn_trainer'['nn_trainer'] at line 211: Did not improve on the ner_f1 of 85.7143\n",
            "INFO:deeppavlov.core.trainers.nn_trainer:Did not improve on the ner_f1 of 85.7143\n"
          ]
        },
        {
          "output_type": "stream",
          "name": "stdout",
          "text": [
            "{\"valid\": {\"eval_examples_count\": 49, \"metrics\": {\"ner_f1\": 85.6115, \"ner_token_f1\": 90.5747}, \"time_spent\": \"0:05:11\", \"epochs_done\": 17, \"batches_seen\": 680, \"train_examples_seen\": 6783, \"impatience\": 14, \"patience_limit\": 100}}\n"
          ]
        },
        {
          "output_type": "stream",
          "name": "stderr",
          "text": [
            "INFO:train_report:{\"valid\": {\"eval_examples_count\": 49, \"metrics\": {\"ner_f1\": 85.6115, \"ner_token_f1\": 90.5747}, \"time_spent\": \"0:05:11\", \"epochs_done\": 17, \"batches_seen\": 680, \"train_examples_seen\": 6783, \"impatience\": 14, \"patience_limit\": 100}}\n",
            "36it [00:04,  7.42it/s]\n",
            "1it [00:00, 43.83it/s]"
          ]
        },
        {
          "output_type": "stream",
          "name": "stdout",
          "text": [
            "{\"train\": {\"eval_examples_count\": 10, \"metrics\": {\"ner_f1\": 100.0, \"ner_token_f1\": 100.0}, \"time_spent\": \"0:05:14\", \"epochs_done\": 17, \"batches_seen\": 700, \"train_examples_seen\": 6983, \"loss\": 0.0002885650457756128}}\n"
          ]
        },
        {
          "output_type": "stream",
          "name": "stderr",
          "text": [
            "\n",
            "INFO:train_report:{\"train\": {\"eval_examples_count\": 10, \"metrics\": {\"ner_f1\": 100.0, \"ner_token_f1\": 100.0}, \"time_spent\": \"0:05:14\", \"epochs_done\": 17, \"batches_seen\": 700, \"train_examples_seen\": 6983, \"loss\": 0.0002885650457756128}}\n",
            "\n",
            "0it [00:00, ?it/s]\u001b[A\n",
            "5it [00:00, 44.70it/s]\n",
            "2023-12-21 20:43:10.10 INFO in 'deeppavlov.core.trainers.nn_trainer'['nn_trainer'] at line 206: Improved best ner_f1 from 85.7143 to 85.9206\n",
            "INFO:deeppavlov.core.trainers.nn_trainer:Improved best ner_f1 from 85.7143 to 85.9206\n",
            "2023-12-21 20:43:10.13 INFO in 'deeppavlov.core.trainers.nn_trainer'['nn_trainer'] at line 208: Saving model\n",
            "INFO:deeppavlov.core.trainers.nn_trainer:Saving model\n",
            "2023-12-21 20:43:10.17 INFO in 'deeppavlov.core.models.torch_model'['torch_model'] at line 175: Saving model to /root/.deeppavlov/models/ner_rus_bert_torch/model.pth.tar.\n",
            "INFO:deeppavlov.core.models.torch_model:Saving model to /root/.deeppavlov/models/ner_rus_bert_torch/model.pth.tar.\n"
          ]
        },
        {
          "output_type": "stream",
          "name": "stdout",
          "text": [
            "{\"valid\": {\"eval_examples_count\": 49, \"metrics\": {\"ner_f1\": 85.9206, \"ner_token_f1\": 90.7834}, \"time_spent\": \"0:05:14\", \"epochs_done\": 17, \"batches_seen\": 700, \"train_examples_seen\": 6983, \"impatience\": 0, \"patience_limit\": 100}}\n"
          ]
        },
        {
          "output_type": "stream",
          "name": "stderr",
          "text": [
            "INFO:train_report:{\"valid\": {\"eval_examples_count\": 49, \"metrics\": {\"ner_f1\": 85.9206, \"ner_token_f1\": 90.7834}, \"time_spent\": \"0:05:14\", \"epochs_done\": 17, \"batches_seen\": 700, \"train_examples_seen\": 6983, \"impatience\": 0, \"patience_limit\": 100}}\n",
            "39it [00:24,  1.61it/s]\n",
            "17it [00:02,  7.42it/s]\n",
            "1it [00:00, 33.52it/s]"
          ]
        },
        {
          "output_type": "stream",
          "name": "stdout",
          "text": [
            "{\"train\": {\"eval_examples_count\": 10, \"metrics\": {\"ner_f1\": 100.0, \"ner_token_f1\": 100.0}, \"time_spent\": \"0:05:35\", \"epochs_done\": 18, \"batches_seen\": 720, \"train_examples_seen\": 7182, \"loss\": 0.00029462397142197003}}\n"
          ]
        },
        {
          "output_type": "stream",
          "name": "stderr",
          "text": [
            "\n",
            "INFO:train_report:{\"train\": {\"eval_examples_count\": 10, \"metrics\": {\"ner_f1\": 100.0, \"ner_token_f1\": 100.0}, \"time_spent\": \"0:05:35\", \"epochs_done\": 18, \"batches_seen\": 720, \"train_examples_seen\": 7182, \"loss\": 0.00029462397142197003}}\n",
            "\n",
            "0it [00:00, ?it/s]\u001b[A\n",
            "5it [00:00, 43.35it/s]\n",
            "2023-12-21 20:43:31.643 INFO in 'deeppavlov.core.trainers.nn_trainer'['nn_trainer'] at line 211: Did not improve on the ner_f1 of 85.9206\n",
            "INFO:deeppavlov.core.trainers.nn_trainer:Did not improve on the ner_f1 of 85.9206\n"
          ]
        },
        {
          "output_type": "stream",
          "name": "stdout",
          "text": [
            "{\"valid\": {\"eval_examples_count\": 49, \"metrics\": {\"ner_f1\": 85.6115, \"ner_token_f1\": 90.5747}, \"time_spent\": \"0:05:36\", \"epochs_done\": 18, \"batches_seen\": 720, \"train_examples_seen\": 7182, \"impatience\": 1, \"patience_limit\": 100}}\n"
          ]
        },
        {
          "output_type": "stream",
          "name": "stderr",
          "text": [
            "INFO:train_report:{\"valid\": {\"eval_examples_count\": 49, \"metrics\": {\"ner_f1\": 85.6115, \"ner_token_f1\": 90.5747}, \"time_spent\": \"0:05:36\", \"epochs_done\": 18, \"batches_seen\": 720, \"train_examples_seen\": 7182, \"impatience\": 1, \"patience_limit\": 100}}\n",
            "37it [00:05,  7.64it/s]\n",
            "1it [00:00, 49.98it/s]"
          ]
        },
        {
          "output_type": "stream",
          "name": "stdout",
          "text": [
            "{\"train\": {\"eval_examples_count\": 10, \"metrics\": {\"ner_f1\": 100.0, \"ner_token_f1\": 100.0}, \"time_spent\": \"0:05:38\", \"epochs_done\": 18, \"batches_seen\": 740, \"train_examples_seen\": 7382, \"loss\": 0.0002624032938911114}}\n"
          ]
        },
        {
          "output_type": "stream",
          "name": "stderr",
          "text": [
            "\n",
            "INFO:train_report:{\"train\": {\"eval_examples_count\": 10, \"metrics\": {\"ner_f1\": 100.0, \"ner_token_f1\": 100.0}, \"time_spent\": \"0:05:38\", \"epochs_done\": 18, \"batches_seen\": 740, \"train_examples_seen\": 7382, \"loss\": 0.0002624032938911114}}\n",
            "\n",
            "5it [00:00, 50.44it/s]\n",
            "2023-12-21 20:43:34.461 INFO in 'deeppavlov.core.trainers.nn_trainer'['nn_trainer'] at line 211: Did not improve on the ner_f1 of 85.9206\n",
            "INFO:deeppavlov.core.trainers.nn_trainer:Did not improve on the ner_f1 of 85.9206\n"
          ]
        },
        {
          "output_type": "stream",
          "name": "stdout",
          "text": [
            "{\"valid\": {\"eval_examples_count\": 49, \"metrics\": {\"ner_f1\": 85.3047, \"ner_token_f1\": 90.367}, \"time_spent\": \"0:05:38\", \"epochs_done\": 18, \"batches_seen\": 740, \"train_examples_seen\": 7382, \"impatience\": 2, \"patience_limit\": 100}}\n"
          ]
        },
        {
          "output_type": "stream",
          "name": "stderr",
          "text": [
            "INFO:train_report:{\"valid\": {\"eval_examples_count\": 49, \"metrics\": {\"ner_f1\": 85.3047, \"ner_token_f1\": 90.367}, \"time_spent\": \"0:05:38\", \"epochs_done\": 18, \"batches_seen\": 740, \"train_examples_seen\": 7382, \"impatience\": 2, \"patience_limit\": 100}}\n",
            "39it [00:05,  7.03it/s]\n",
            "18it [00:02,  7.66it/s]\n",
            "1it [00:00, 44.74it/s]"
          ]
        },
        {
          "output_type": "stream",
          "name": "stdout",
          "text": [
            "{\"train\": {\"eval_examples_count\": 10, \"metrics\": {\"ner_f1\": 100.0, \"ner_token_f1\": 100.0}, \"time_spent\": \"0:05:41\", \"epochs_done\": 19, \"batches_seen\": 760, \"train_examples_seen\": 7581, \"loss\": 0.0002568579271610361}}\n"
          ]
        },
        {
          "output_type": "stream",
          "name": "stderr",
          "text": [
            "\n",
            "INFO:train_report:{\"train\": {\"eval_examples_count\": 10, \"metrics\": {\"ner_f1\": 100.0, \"ner_token_f1\": 100.0}, \"time_spent\": \"0:05:41\", \"epochs_done\": 19, \"batches_seen\": 760, \"train_examples_seen\": 7581, \"loss\": 0.0002568579271610361}}\n",
            "\n",
            "5it [00:00, 53.00it/s]\n",
            "2023-12-21 20:43:37.292 INFO in 'deeppavlov.core.trainers.nn_trainer'['nn_trainer'] at line 211: Did not improve on the ner_f1 of 85.9206\n",
            "INFO:deeppavlov.core.trainers.nn_trainer:Did not improve on the ner_f1 of 85.9206\n"
          ]
        },
        {
          "output_type": "stream",
          "name": "stdout",
          "text": [
            "{\"valid\": {\"eval_examples_count\": 49, \"metrics\": {\"ner_f1\": 85.3047, \"ner_token_f1\": 90.367}, \"time_spent\": \"0:05:41\", \"epochs_done\": 19, \"batches_seen\": 760, \"train_examples_seen\": 7581, \"impatience\": 3, \"patience_limit\": 100}}\n"
          ]
        },
        {
          "output_type": "stream",
          "name": "stderr",
          "text": [
            "INFO:train_report:{\"valid\": {\"eval_examples_count\": 49, \"metrics\": {\"ner_f1\": 85.3047, \"ner_token_f1\": 90.367}, \"time_spent\": \"0:05:41\", \"epochs_done\": 19, \"batches_seen\": 760, \"train_examples_seen\": 7581, \"impatience\": 3, \"patience_limit\": 100}}\n",
            "38it [00:05,  7.02it/s]\n",
            "1it [00:00, 34.39it/s]"
          ]
        },
        {
          "output_type": "stream",
          "name": "stdout",
          "text": [
            "{\"train\": {\"eval_examples_count\": 10, \"metrics\": {\"ner_f1\": 100.0, \"ner_token_f1\": 100.0}, \"time_spent\": \"0:05:44\", \"epochs_done\": 19, \"batches_seen\": 780, \"train_examples_seen\": 7780, \"loss\": 0.0002335525641683489}}\n"
          ]
        },
        {
          "output_type": "stream",
          "name": "stderr",
          "text": [
            "\n",
            "INFO:train_report:{\"train\": {\"eval_examples_count\": 10, \"metrics\": {\"ner_f1\": 100.0, \"ner_token_f1\": 100.0}, \"time_spent\": \"0:05:44\", \"epochs_done\": 19, \"batches_seen\": 780, \"train_examples_seen\": 7780, \"loss\": 0.0002335525641683489}}\n",
            "\n",
            "0it [00:00, ?it/s]\u001b[A\n",
            "5it [00:00, 40.08it/s]\n",
            "2023-12-21 20:43:40.235 INFO in 'deeppavlov.core.trainers.nn_trainer'['nn_trainer'] at line 211: Did not improve on the ner_f1 of 85.9206\n",
            "INFO:deeppavlov.core.trainers.nn_trainer:Did not improve on the ner_f1 of 85.9206\n"
          ]
        },
        {
          "output_type": "stream",
          "name": "stdout",
          "text": [
            "{\"valid\": {\"eval_examples_count\": 49, \"metrics\": {\"ner_f1\": 85.3047, \"ner_token_f1\": 90.367}, \"time_spent\": \"0:05:44\", \"epochs_done\": 19, \"batches_seen\": 780, \"train_examples_seen\": 7780, \"impatience\": 4, \"patience_limit\": 100}}\n"
          ]
        },
        {
          "output_type": "stream",
          "name": "stderr",
          "text": [
            "INFO:train_report:{\"valid\": {\"eval_examples_count\": 49, \"metrics\": {\"ner_f1\": 85.3047, \"ner_token_f1\": 90.367}, \"time_spent\": \"0:05:44\", \"epochs_done\": 19, \"batches_seen\": 780, \"train_examples_seen\": 7780, \"impatience\": 4, \"patience_limit\": 100}}\n",
            "39it [00:05,  6.92it/s]\n",
            "19it [00:02,  7.56it/s]\n",
            "1it [00:00, 41.96it/s]"
          ]
        },
        {
          "output_type": "stream",
          "name": "stdout",
          "text": [
            "{\"train\": {\"eval_examples_count\": 10, \"metrics\": {\"ner_f1\": 100.0, \"ner_token_f1\": 100.0}, \"time_spent\": \"0:05:47\", \"epochs_done\": 20, \"batches_seen\": 800, \"train_examples_seen\": 7980, \"loss\": 0.00025535068780300205}}\n"
          ]
        },
        {
          "output_type": "stream",
          "name": "stderr",
          "text": [
            "\n",
            "INFO:train_report:{\"train\": {\"eval_examples_count\": 10, \"metrics\": {\"ner_f1\": 100.0, \"ner_token_f1\": 100.0}, \"time_spent\": \"0:05:47\", \"epochs_done\": 20, \"batches_seen\": 800, \"train_examples_seen\": 7980, \"loss\": 0.00025535068780300205}}\n",
            "\n",
            "0it [00:00, ?it/s]\u001b[A\n",
            "5it [00:00, 45.54it/s]\n",
            "2023-12-21 20:43:43.142 INFO in 'deeppavlov.core.trainers.nn_trainer'['nn_trainer'] at line 211: Did not improve on the ner_f1 of 85.9206\n",
            "INFO:deeppavlov.core.trainers.nn_trainer:Did not improve on the ner_f1 of 85.9206\n"
          ]
        },
        {
          "output_type": "stream",
          "name": "stdout",
          "text": [
            "{\"valid\": {\"eval_examples_count\": 49, \"metrics\": {\"ner_f1\": 85.3047, \"ner_token_f1\": 90.367}, \"time_spent\": \"0:05:47\", \"epochs_done\": 20, \"batches_seen\": 800, \"train_examples_seen\": 7980, \"impatience\": 5, \"patience_limit\": 100}}\n"
          ]
        },
        {
          "output_type": "stream",
          "name": "stderr",
          "text": [
            "INFO:train_report:{\"valid\": {\"eval_examples_count\": 49, \"metrics\": {\"ner_f1\": 85.3047, \"ner_token_f1\": 90.367}, \"time_spent\": \"0:05:47\", \"epochs_done\": 20, \"batches_seen\": 800, \"train_examples_seen\": 7980, \"impatience\": 5, \"patience_limit\": 100}}\n",
            "39it [00:05,  7.18it/s]\n",
            "0it [00:00, ?it/s]\n",
            "1it [00:00, 41.18it/s]"
          ]
        },
        {
          "output_type": "stream",
          "name": "stdout",
          "text": [
            "{\"train\": {\"eval_examples_count\": 10, \"metrics\": {\"ner_f1\": 100.0, \"ner_token_f1\": 100.0}, \"time_spent\": \"0:05:50\", \"epochs_done\": 21, \"batches_seen\": 820, \"train_examples_seen\": 8179, \"loss\": 0.00022686095617245882}}\n"
          ]
        },
        {
          "output_type": "stream",
          "name": "stderr",
          "text": [
            "\n",
            "INFO:train_report:{\"train\": {\"eval_examples_count\": 10, \"metrics\": {\"ner_f1\": 100.0, \"ner_token_f1\": 100.0}, \"time_spent\": \"0:05:50\", \"epochs_done\": 21, \"batches_seen\": 820, \"train_examples_seen\": 8179, \"loss\": 0.00022686095617245882}}\n",
            "\n",
            "0it [00:00, ?it/s]\u001b[A\n",
            "5it [00:00, 39.08it/s]\n",
            "2023-12-21 20:43:46.13 INFO in 'deeppavlov.core.trainers.nn_trainer'['nn_trainer'] at line 211: Did not improve on the ner_f1 of 85.9206\n",
            "INFO:deeppavlov.core.trainers.nn_trainer:Did not improve on the ner_f1 of 85.9206\n"
          ]
        },
        {
          "output_type": "stream",
          "name": "stdout",
          "text": [
            "{\"valid\": {\"eval_examples_count\": 49, \"metrics\": {\"ner_f1\": 85.3047, \"ner_token_f1\": 90.367}, \"time_spent\": \"0:05:50\", \"epochs_done\": 21, \"batches_seen\": 820, \"train_examples_seen\": 8179, \"impatience\": 6, \"patience_limit\": 100}}\n"
          ]
        },
        {
          "output_type": "stream",
          "name": "stderr",
          "text": [
            "INFO:train_report:{\"valid\": {\"eval_examples_count\": 49, \"metrics\": {\"ner_f1\": 85.3047, \"ner_token_f1\": 90.367}, \"time_spent\": \"0:05:50\", \"epochs_done\": 21, \"batches_seen\": 820, \"train_examples_seen\": 8179, \"impatience\": 6, \"patience_limit\": 100}}\n",
            "20it [00:02,  7.43it/s]\n",
            "1it [00:00, 37.01it/s]"
          ]
        },
        {
          "output_type": "stream",
          "name": "stdout",
          "text": [
            "{\"train\": {\"eval_examples_count\": 10, \"metrics\": {\"ner_f1\": 100.0, \"ner_token_f1\": 100.0}, \"time_spent\": \"0:05:53\", \"epochs_done\": 21, \"batches_seen\": 840, \"train_examples_seen\": 8379, \"loss\": 0.0002446658145345282}}\n"
          ]
        },
        {
          "output_type": "stream",
          "name": "stderr",
          "text": [
            "\n",
            "INFO:train_report:{\"train\": {\"eval_examples_count\": 10, \"metrics\": {\"ner_f1\": 100.0, \"ner_token_f1\": 100.0}, \"time_spent\": \"0:05:53\", \"epochs_done\": 21, \"batches_seen\": 840, \"train_examples_seen\": 8379, \"loss\": 0.0002446658145345282}}\n",
            "\n",
            "5it [00:00, 50.66it/s]\n",
            "2023-12-21 20:43:48.864 INFO in 'deeppavlov.core.trainers.nn_trainer'['nn_trainer'] at line 211: Did not improve on the ner_f1 of 85.9206\n",
            "INFO:deeppavlov.core.trainers.nn_trainer:Did not improve on the ner_f1 of 85.9206\n"
          ]
        },
        {
          "output_type": "stream",
          "name": "stdout",
          "text": [
            "{\"valid\": {\"eval_examples_count\": 49, \"metrics\": {\"ner_f1\": 85.3047, \"ner_token_f1\": 90.367}, \"time_spent\": \"0:05:53\", \"epochs_done\": 21, \"batches_seen\": 840, \"train_examples_seen\": 8379, \"impatience\": 7, \"patience_limit\": 100}}\n"
          ]
        },
        {
          "output_type": "stream",
          "name": "stderr",
          "text": [
            "INFO:train_report:{\"valid\": {\"eval_examples_count\": 49, \"metrics\": {\"ner_f1\": 85.3047, \"ner_token_f1\": 90.367}, \"time_spent\": \"0:05:53\", \"epochs_done\": 21, \"batches_seen\": 840, \"train_examples_seen\": 8379, \"impatience\": 7, \"patience_limit\": 100}}\n",
            "39it [00:05,  6.99it/s]\n",
            "1it [00:00,  6.84it/s]\n",
            "1it [00:00, 32.10it/s]"
          ]
        },
        {
          "output_type": "stream",
          "name": "stdout",
          "text": [
            "{\"train\": {\"eval_examples_count\": 10, \"metrics\": {\"ner_f1\": 100.0, \"ner_token_f1\": 100.0}, \"time_spent\": \"0:05:56\", \"epochs_done\": 22, \"batches_seen\": 860, \"train_examples_seen\": 8578, \"loss\": 0.0002202407893491909}}\n"
          ]
        },
        {
          "output_type": "stream",
          "name": "stderr",
          "text": [
            "\n",
            "INFO:train_report:{\"train\": {\"eval_examples_count\": 10, \"metrics\": {\"ner_f1\": 100.0, \"ner_token_f1\": 100.0}, \"time_spent\": \"0:05:56\", \"epochs_done\": 22, \"batches_seen\": 860, \"train_examples_seen\": 8578, \"loss\": 0.0002202407893491909}}\n",
            "\n",
            "0it [00:00, ?it/s]\u001b[A\n",
            "5it [00:00, 36.19it/s]\n",
            "2023-12-21 20:43:51.771 INFO in 'deeppavlov.core.trainers.nn_trainer'['nn_trainer'] at line 211: Did not improve on the ner_f1 of 85.9206\n",
            "INFO:deeppavlov.core.trainers.nn_trainer:Did not improve on the ner_f1 of 85.9206\n"
          ]
        },
        {
          "output_type": "stream",
          "name": "stdout",
          "text": [
            "{\"valid\": {\"eval_examples_count\": 49, \"metrics\": {\"ner_f1\": 85.3047, \"ner_token_f1\": 90.367}, \"time_spent\": \"0:05:56\", \"epochs_done\": 22, \"batches_seen\": 860, \"train_examples_seen\": 8578, \"impatience\": 8, \"patience_limit\": 100}}\n"
          ]
        },
        {
          "output_type": "stream",
          "name": "stderr",
          "text": [
            "INFO:train_report:{\"valid\": {\"eval_examples_count\": 49, \"metrics\": {\"ner_f1\": 85.3047, \"ner_token_f1\": 90.367}, \"time_spent\": \"0:05:56\", \"epochs_done\": 22, \"batches_seen\": 860, \"train_examples_seen\": 8578, \"impatience\": 8, \"patience_limit\": 100}}\n",
            "21it [00:03,  7.11it/s]\n",
            "1it [00:00, 35.71it/s]"
          ]
        },
        {
          "output_type": "stream",
          "name": "stdout",
          "text": [
            "{\"train\": {\"eval_examples_count\": 10, \"metrics\": {\"ner_f1\": 100.0, \"ner_token_f1\": 100.0}, \"time_spent\": \"0:05:59\", \"epochs_done\": 22, \"batches_seen\": 880, \"train_examples_seen\": 8778, \"loss\": 0.00022150835502543487}}\n"
          ]
        },
        {
          "output_type": "stream",
          "name": "stderr",
          "text": [
            "\n",
            "INFO:train_report:{\"train\": {\"eval_examples_count\": 10, \"metrics\": {\"ner_f1\": 100.0, \"ner_token_f1\": 100.0}, \"time_spent\": \"0:05:59\", \"epochs_done\": 22, \"batches_seen\": 880, \"train_examples_seen\": 8778, \"loss\": 0.00022150835502543487}}\n",
            "\n",
            "5it [00:00, 50.49it/s]\n",
            "2023-12-21 20:43:54.726 INFO in 'deeppavlov.core.trainers.nn_trainer'['nn_trainer'] at line 211: Did not improve on the ner_f1 of 85.9206\n",
            "INFO:deeppavlov.core.trainers.nn_trainer:Did not improve on the ner_f1 of 85.9206\n"
          ]
        },
        {
          "output_type": "stream",
          "name": "stdout",
          "text": [
            "{\"valid\": {\"eval_examples_count\": 49, \"metrics\": {\"ner_f1\": 85.3047, \"ner_token_f1\": 90.367}, \"time_spent\": \"0:05:59\", \"epochs_done\": 22, \"batches_seen\": 880, \"train_examples_seen\": 8778, \"impatience\": 9, \"patience_limit\": 100}}\n"
          ]
        },
        {
          "output_type": "stream",
          "name": "stderr",
          "text": [
            "INFO:train_report:{\"valid\": {\"eval_examples_count\": 49, \"metrics\": {\"ner_f1\": 85.3047, \"ner_token_f1\": 90.367}, \"time_spent\": \"0:05:59\", \"epochs_done\": 22, \"batches_seen\": 880, \"train_examples_seen\": 8778, \"impatience\": 9, \"patience_limit\": 100}}\n",
            "39it [00:05,  6.78it/s]\n",
            "2it [00:00,  7.60it/s]\n",
            "1it [00:00, 41.36it/s]"
          ]
        },
        {
          "output_type": "stream",
          "name": "stdout",
          "text": [
            "{\"train\": {\"eval_examples_count\": 10, \"metrics\": {\"ner_f1\": 100.0, \"ner_token_f1\": 100.0}, \"time_spent\": \"0:06:01\", \"epochs_done\": 23, \"batches_seen\": 900, \"train_examples_seen\": 8977, \"loss\": 0.00021402499260148033}}\n"
          ]
        },
        {
          "output_type": "stream",
          "name": "stderr",
          "text": [
            "\n",
            "INFO:train_report:{\"train\": {\"eval_examples_count\": 10, \"metrics\": {\"ner_f1\": 100.0, \"ner_token_f1\": 100.0}, \"time_spent\": \"0:06:01\", \"epochs_done\": 23, \"batches_seen\": 900, \"train_examples_seen\": 8977, \"loss\": 0.00021402499260148033}}\n",
            "\n",
            "5it [00:00, 51.23it/s]\n",
            "2023-12-21 20:43:57.604 INFO in 'deeppavlov.core.trainers.nn_trainer'['nn_trainer'] at line 211: Did not improve on the ner_f1 of 85.9206\n",
            "INFO:deeppavlov.core.trainers.nn_trainer:Did not improve on the ner_f1 of 85.9206\n"
          ]
        },
        {
          "output_type": "stream",
          "name": "stdout",
          "text": [
            "{\"valid\": {\"eval_examples_count\": 49, \"metrics\": {\"ner_f1\": 85.3047, \"ner_token_f1\": 90.367}, \"time_spent\": \"0:06:02\", \"epochs_done\": 23, \"batches_seen\": 900, \"train_examples_seen\": 8977, \"impatience\": 10, \"patience_limit\": 100}}\n"
          ]
        },
        {
          "output_type": "stream",
          "name": "stderr",
          "text": [
            "INFO:train_report:{\"valid\": {\"eval_examples_count\": 49, \"metrics\": {\"ner_f1\": 85.3047, \"ner_token_f1\": 90.367}, \"time_spent\": \"0:06:02\", \"epochs_done\": 23, \"batches_seen\": 900, \"train_examples_seen\": 8977, \"impatience\": 10, \"patience_limit\": 100}}\n",
            "22it [00:03,  7.34it/s]\n",
            "1it [00:00, 42.50it/s]"
          ]
        },
        {
          "output_type": "stream",
          "name": "stdout",
          "text": [
            "{\"train\": {\"eval_examples_count\": 10, \"metrics\": {\"ner_f1\": 100.0, \"ner_token_f1\": 100.0}, \"time_spent\": \"0:06:04\", \"epochs_done\": 23, \"batches_seen\": 920, \"train_examples_seen\": 9177, \"loss\": 0.0001957228647370357}}\n"
          ]
        },
        {
          "output_type": "stream",
          "name": "stderr",
          "text": [
            "\n",
            "INFO:train_report:{\"train\": {\"eval_examples_count\": 10, \"metrics\": {\"ner_f1\": 100.0, \"ner_token_f1\": 100.0}, \"time_spent\": \"0:06:04\", \"epochs_done\": 23, \"batches_seen\": 920, \"train_examples_seen\": 9177, \"loss\": 0.0001957228647370357}}\n",
            "\n",
            "0it [00:00, ?it/s]\u001b[A\n",
            "5it [00:00, 45.08it/s]\n",
            "2023-12-21 20:44:00.471 INFO in 'deeppavlov.core.trainers.nn_trainer'['nn_trainer'] at line 211: Did not improve on the ner_f1 of 85.9206\n",
            "INFO:deeppavlov.core.trainers.nn_trainer:Did not improve on the ner_f1 of 85.9206\n"
          ]
        },
        {
          "output_type": "stream",
          "name": "stdout",
          "text": [
            "{\"valid\": {\"eval_examples_count\": 49, \"metrics\": {\"ner_f1\": 85.3047, \"ner_token_f1\": 90.367}, \"time_spent\": \"0:06:04\", \"epochs_done\": 23, \"batches_seen\": 920, \"train_examples_seen\": 9177, \"impatience\": 11, \"patience_limit\": 100}}\n"
          ]
        },
        {
          "output_type": "stream",
          "name": "stderr",
          "text": [
            "INFO:train_report:{\"valid\": {\"eval_examples_count\": 49, \"metrics\": {\"ner_f1\": 85.3047, \"ner_token_f1\": 90.367}, \"time_spent\": \"0:06:04\", \"epochs_done\": 23, \"batches_seen\": 920, \"train_examples_seen\": 9177, \"impatience\": 11, \"patience_limit\": 100}}\n",
            "39it [00:05,  7.00it/s]\n",
            "3it [00:00,  7.55it/s]\n",
            "1it [00:00, 34.96it/s]"
          ]
        },
        {
          "output_type": "stream",
          "name": "stdout",
          "text": [
            "{\"train\": {\"eval_examples_count\": 10, \"metrics\": {\"ner_f1\": 100.0, \"ner_token_f1\": 100.0}, \"time_spent\": \"0:06:07\", \"epochs_done\": 24, \"batches_seen\": 940, \"train_examples_seen\": 9376, \"loss\": 0.00021184493671171366}}\n"
          ]
        },
        {
          "output_type": "stream",
          "name": "stderr",
          "text": [
            "\n",
            "INFO:train_report:{\"train\": {\"eval_examples_count\": 10, \"metrics\": {\"ner_f1\": 100.0, \"ner_token_f1\": 100.0}, \"time_spent\": \"0:06:07\", \"epochs_done\": 24, \"batches_seen\": 940, \"train_examples_seen\": 9376, \"loss\": 0.00021184493671171366}}\n",
            "\n",
            "0it [00:00, ?it/s]\u001b[A\n",
            "5it [00:00, 44.86it/s]\n",
            "2023-12-21 20:44:03.328 INFO in 'deeppavlov.core.trainers.nn_trainer'['nn_trainer'] at line 211: Did not improve on the ner_f1 of 85.9206\n",
            "INFO:deeppavlov.core.trainers.nn_trainer:Did not improve on the ner_f1 of 85.9206\n"
          ]
        },
        {
          "output_type": "stream",
          "name": "stdout",
          "text": [
            "{\"valid\": {\"eval_examples_count\": 49, \"metrics\": {\"ner_f1\": 85.3047, \"ner_token_f1\": 90.367}, \"time_spent\": \"0:06:07\", \"epochs_done\": 24, \"batches_seen\": 940, \"train_examples_seen\": 9376, \"impatience\": 12, \"patience_limit\": 100}}\n"
          ]
        },
        {
          "output_type": "stream",
          "name": "stderr",
          "text": [
            "INFO:train_report:{\"valid\": {\"eval_examples_count\": 49, \"metrics\": {\"ner_f1\": 85.3047, \"ner_token_f1\": 90.367}, \"time_spent\": \"0:06:07\", \"epochs_done\": 24, \"batches_seen\": 940, \"train_examples_seen\": 9376, \"impatience\": 12, \"patience_limit\": 100}}\n",
            "23it [00:03,  7.07it/s]\n",
            "1it [00:00, 28.57it/s]"
          ]
        },
        {
          "output_type": "stream",
          "name": "stdout",
          "text": [
            "{\"train\": {\"eval_examples_count\": 10, \"metrics\": {\"ner_f1\": 100.0, \"ner_token_f1\": 100.0}, \"time_spent\": \"0:06:10\", \"epochs_done\": 24, \"batches_seen\": 960, \"train_examples_seen\": 9576, \"loss\": 0.00017987969258683733}}\n"
          ]
        },
        {
          "output_type": "stream",
          "name": "stderr",
          "text": [
            "\n",
            "INFO:train_report:{\"train\": {\"eval_examples_count\": 10, \"metrics\": {\"ner_f1\": 100.0, \"ner_token_f1\": 100.0}, \"time_spent\": \"0:06:10\", \"epochs_done\": 24, \"batches_seen\": 960, \"train_examples_seen\": 9576, \"loss\": 0.00017987969258683733}}\n",
            "\n",
            "0it [00:00, ?it/s]\u001b[A\n",
            "5it [00:00, 36.73it/s]\n",
            "2023-12-21 20:44:06.358 INFO in 'deeppavlov.core.trainers.nn_trainer'['nn_trainer'] at line 211: Did not improve on the ner_f1 of 85.9206\n",
            "INFO:deeppavlov.core.trainers.nn_trainer:Did not improve on the ner_f1 of 85.9206\n"
          ]
        },
        {
          "output_type": "stream",
          "name": "stdout",
          "text": [
            "{\"valid\": {\"eval_examples_count\": 49, \"metrics\": {\"ner_f1\": 85.3047, \"ner_token_f1\": 90.367}, \"time_spent\": \"0:06:10\", \"epochs_done\": 24, \"batches_seen\": 960, \"train_examples_seen\": 9576, \"impatience\": 13, \"patience_limit\": 100}}\n"
          ]
        },
        {
          "output_type": "stream",
          "name": "stderr",
          "text": [
            "INFO:train_report:{\"valid\": {\"eval_examples_count\": 49, \"metrics\": {\"ner_f1\": 85.3047, \"ner_token_f1\": 90.367}, \"time_spent\": \"0:06:10\", \"epochs_done\": 24, \"batches_seen\": 960, \"train_examples_seen\": 9576, \"impatience\": 13, \"patience_limit\": 100}}\n",
            "39it [00:05,  6.72it/s]\n",
            "4it [00:00,  7.62it/s]\n",
            "1it [00:00, 38.80it/s]"
          ]
        },
        {
          "output_type": "stream",
          "name": "stdout",
          "text": [
            "{\"train\": {\"eval_examples_count\": 10, \"metrics\": {\"ner_f1\": 100.0, \"ner_token_f1\": 100.0}, \"time_spent\": \"0:06:13\", \"epochs_done\": 25, \"batches_seen\": 980, \"train_examples_seen\": 9775, \"loss\": 0.00019148845312884079}}\n"
          ]
        },
        {
          "output_type": "stream",
          "name": "stderr",
          "text": [
            "\n",
            "INFO:train_report:{\"train\": {\"eval_examples_count\": 10, \"metrics\": {\"ner_f1\": 100.0, \"ner_token_f1\": 100.0}, \"time_spent\": \"0:06:13\", \"epochs_done\": 25, \"batches_seen\": 980, \"train_examples_seen\": 9775, \"loss\": 0.00019148845312884079}}\n",
            "\n",
            "0it [00:00, ?it/s]\u001b[A\n",
            "5it [00:00, 45.64it/s]\n",
            "2023-12-21 20:44:09.274 INFO in 'deeppavlov.core.trainers.nn_trainer'['nn_trainer'] at line 211: Did not improve on the ner_f1 of 85.9206\n",
            "INFO:deeppavlov.core.trainers.nn_trainer:Did not improve on the ner_f1 of 85.9206\n"
          ]
        },
        {
          "output_type": "stream",
          "name": "stdout",
          "text": [
            "{\"valid\": {\"eval_examples_count\": 49, \"metrics\": {\"ner_f1\": 85.3047, \"ner_token_f1\": 90.367}, \"time_spent\": \"0:06:13\", \"epochs_done\": 25, \"batches_seen\": 980, \"train_examples_seen\": 9775, \"impatience\": 14, \"patience_limit\": 100}}\n"
          ]
        },
        {
          "output_type": "stream",
          "name": "stderr",
          "text": [
            "INFO:train_report:{\"valid\": {\"eval_examples_count\": 49, \"metrics\": {\"ner_f1\": 85.3047, \"ner_token_f1\": 90.367}, \"time_spent\": \"0:06:13\", \"epochs_done\": 25, \"batches_seen\": 980, \"train_examples_seen\": 9775, \"impatience\": 14, \"patience_limit\": 100}}\n",
            "24it [00:03,  7.51it/s]\n",
            "1it [00:00, 41.12it/s]"
          ]
        },
        {
          "output_type": "stream",
          "name": "stdout",
          "text": [
            "{\"train\": {\"eval_examples_count\": 10, \"metrics\": {\"ner_f1\": 100.0, \"ner_token_f1\": 100.0}, \"time_spent\": \"0:06:16\", \"epochs_done\": 25, \"batches_seen\": 1000, \"train_examples_seen\": 9975, \"loss\": 0.00019225235882913694}}\n"
          ]
        },
        {
          "output_type": "stream",
          "name": "stderr",
          "text": [
            "\n",
            "INFO:train_report:{\"train\": {\"eval_examples_count\": 10, \"metrics\": {\"ner_f1\": 100.0, \"ner_token_f1\": 100.0}, \"time_spent\": \"0:06:16\", \"epochs_done\": 25, \"batches_seen\": 1000, \"train_examples_seen\": 9975, \"loss\": 0.00019225235882913694}}\n",
            "\n",
            "0it [00:00, ?it/s]\u001b[A\n",
            "5it [00:00, 47.13it/s]\n",
            "2023-12-21 20:44:12.111 INFO in 'deeppavlov.core.trainers.nn_trainer'['nn_trainer'] at line 211: Did not improve on the ner_f1 of 85.9206\n",
            "INFO:deeppavlov.core.trainers.nn_trainer:Did not improve on the ner_f1 of 85.9206\n"
          ]
        },
        {
          "output_type": "stream",
          "name": "stdout",
          "text": [
            "{\"valid\": {\"eval_examples_count\": 49, \"metrics\": {\"ner_f1\": 85.3047, \"ner_token_f1\": 90.367}, \"time_spent\": \"0:06:16\", \"epochs_done\": 25, \"batches_seen\": 1000, \"train_examples_seen\": 9975, \"impatience\": 15, \"patience_limit\": 100}}\n"
          ]
        },
        {
          "output_type": "stream",
          "name": "stderr",
          "text": [
            "INFO:train_report:{\"valid\": {\"eval_examples_count\": 49, \"metrics\": {\"ner_f1\": 85.3047, \"ner_token_f1\": 90.367}, \"time_spent\": \"0:06:16\", \"epochs_done\": 25, \"batches_seen\": 1000, \"train_examples_seen\": 9975, \"impatience\": 15, \"patience_limit\": 100}}\n",
            "39it [00:05,  6.99it/s]\n",
            "5it [00:00,  7.42it/s]\n",
            "1it [00:00, 40.37it/s]"
          ]
        },
        {
          "output_type": "stream",
          "name": "stdout",
          "text": [
            "{\"train\": {\"eval_examples_count\": 10, \"metrics\": {\"ner_f1\": 100.0, \"ner_token_f1\": 100.0}, \"time_spent\": \"0:06:19\", \"epochs_done\": 26, \"batches_seen\": 1020, \"train_examples_seen\": 10174, \"loss\": 0.00017841464214143343}}\n"
          ]
        },
        {
          "output_type": "stream",
          "name": "stderr",
          "text": [
            "\n",
            "INFO:train_report:{\"train\": {\"eval_examples_count\": 10, \"metrics\": {\"ner_f1\": 100.0, \"ner_token_f1\": 100.0}, \"time_spent\": \"0:06:19\", \"epochs_done\": 26, \"batches_seen\": 1020, \"train_examples_seen\": 10174, \"loss\": 0.00017841464214143343}}\n",
            "\n",
            "5it [00:00, 51.23it/s]\n",
            "2023-12-21 20:44:14.975 INFO in 'deeppavlov.core.trainers.nn_trainer'['nn_trainer'] at line 211: Did not improve on the ner_f1 of 85.9206\n",
            "INFO:deeppavlov.core.trainers.nn_trainer:Did not improve on the ner_f1 of 85.9206\n"
          ]
        },
        {
          "output_type": "stream",
          "name": "stdout",
          "text": [
            "{\"valid\": {\"eval_examples_count\": 49, \"metrics\": {\"ner_f1\": 85.3047, \"ner_token_f1\": 90.367}, \"time_spent\": \"0:06:19\", \"epochs_done\": 26, \"batches_seen\": 1020, \"train_examples_seen\": 10174, \"impatience\": 16, \"patience_limit\": 100}}\n"
          ]
        },
        {
          "output_type": "stream",
          "name": "stderr",
          "text": [
            "INFO:train_report:{\"valid\": {\"eval_examples_count\": 49, \"metrics\": {\"ner_f1\": 85.3047, \"ner_token_f1\": 90.367}, \"time_spent\": \"0:06:19\", \"epochs_done\": 26, \"batches_seen\": 1020, \"train_examples_seen\": 10174, \"impatience\": 16, \"patience_limit\": 100}}\n",
            "25it [00:03,  7.11it/s]\n",
            "1it [00:00, 26.77it/s]"
          ]
        },
        {
          "output_type": "stream",
          "name": "stdout",
          "text": [
            "{\"train\": {\"eval_examples_count\": 10, \"metrics\": {\"ner_f1\": 100.0, \"ner_token_f1\": 100.0}, \"time_spent\": \"0:06:22\", \"epochs_done\": 26, \"batches_seen\": 1040, \"train_examples_seen\": 10374, \"loss\": 0.00017974054062506185}}\n"
          ]
        },
        {
          "output_type": "stream",
          "name": "stderr",
          "text": [
            "\n",
            "INFO:train_report:{\"train\": {\"eval_examples_count\": 10, \"metrics\": {\"ner_f1\": 100.0, \"ner_token_f1\": 100.0}, \"time_spent\": \"0:06:22\", \"epochs_done\": 26, \"batches_seen\": 1040, \"train_examples_seen\": 10374, \"loss\": 0.00017974054062506185}}\n",
            "\n",
            "0it [00:00, ?it/s]\u001b[A\n",
            "5it [00:00, 33.81it/s]\n",
            "2023-12-21 20:44:17.918 INFO in 'deeppavlov.core.trainers.nn_trainer'['nn_trainer'] at line 211: Did not improve on the ner_f1 of 85.9206\n",
            "INFO:deeppavlov.core.trainers.nn_trainer:Did not improve on the ner_f1 of 85.9206\n"
          ]
        },
        {
          "output_type": "stream",
          "name": "stdout",
          "text": [
            "{\"valid\": {\"eval_examples_count\": 49, \"metrics\": {\"ner_f1\": 85.3047, \"ner_token_f1\": 90.367}, \"time_spent\": \"0:06:22\", \"epochs_done\": 26, \"batches_seen\": 1040, \"train_examples_seen\": 10374, \"impatience\": 17, \"patience_limit\": 100}}\n"
          ]
        },
        {
          "output_type": "stream",
          "name": "stderr",
          "text": [
            "INFO:train_report:{\"valid\": {\"eval_examples_count\": 49, \"metrics\": {\"ner_f1\": 85.3047, \"ner_token_f1\": 90.367}, \"time_spent\": \"0:06:22\", \"epochs_done\": 26, \"batches_seen\": 1040, \"train_examples_seen\": 10374, \"impatience\": 17, \"patience_limit\": 100}}\n",
            "39it [00:05,  6.75it/s]\n",
            "6it [00:00,  7.40it/s]\n",
            "1it [00:00, 31.40it/s]"
          ]
        },
        {
          "output_type": "stream",
          "name": "stdout",
          "text": [
            "{\"train\": {\"eval_examples_count\": 10, \"metrics\": {\"ner_f1\": 100.0, \"ner_token_f1\": 100.0}, \"time_spent\": \"0:06:25\", \"epochs_done\": 27, \"batches_seen\": 1060, \"train_examples_seen\": 10573, \"loss\": 0.00016193787087104283}}\n"
          ]
        },
        {
          "output_type": "stream",
          "name": "stderr",
          "text": [
            "\n",
            "INFO:train_report:{\"train\": {\"eval_examples_count\": 10, \"metrics\": {\"ner_f1\": 100.0, \"ner_token_f1\": 100.0}, \"time_spent\": \"0:06:25\", \"epochs_done\": 27, \"batches_seen\": 1060, \"train_examples_seen\": 10573, \"loss\": 0.00016193787087104283}}\n",
            "\n",
            "5it [00:00, 50.49it/s]\n",
            "2023-12-21 20:44:20.935 INFO in 'deeppavlov.core.trainers.nn_trainer'['nn_trainer'] at line 211: Did not improve on the ner_f1 of 85.9206\n",
            "INFO:deeppavlov.core.trainers.nn_trainer:Did not improve on the ner_f1 of 85.9206\n"
          ]
        },
        {
          "output_type": "stream",
          "name": "stdout",
          "text": [
            "{\"valid\": {\"eval_examples_count\": 49, \"metrics\": {\"ner_f1\": 85.3047, \"ner_token_f1\": 90.367}, \"time_spent\": \"0:06:25\", \"epochs_done\": 27, \"batches_seen\": 1060, \"train_examples_seen\": 10573, \"impatience\": 18, \"patience_limit\": 100}}\n"
          ]
        },
        {
          "output_type": "stream",
          "name": "stderr",
          "text": [
            "INFO:train_report:{\"valid\": {\"eval_examples_count\": 49, \"metrics\": {\"ner_f1\": 85.3047, \"ner_token_f1\": 90.367}, \"time_spent\": \"0:06:25\", \"epochs_done\": 27, \"batches_seen\": 1060, \"train_examples_seen\": 10573, \"impatience\": 18, \"patience_limit\": 100}}\n",
            "26it [00:03,  7.37it/s]\n",
            "1it [00:00, 37.38it/s]"
          ]
        },
        {
          "output_type": "stream",
          "name": "stdout",
          "text": [
            "{\"train\": {\"eval_examples_count\": 10, \"metrics\": {\"ner_f1\": 100.0, \"ner_token_f1\": 100.0}, \"time_spent\": \"0:06:28\", \"epochs_done\": 27, \"batches_seen\": 1080, \"train_examples_seen\": 10773, \"loss\": 0.00016565018086112104}}\n"
          ]
        },
        {
          "output_type": "stream",
          "name": "stderr",
          "text": [
            "\n",
            "INFO:train_report:{\"train\": {\"eval_examples_count\": 10, \"metrics\": {\"ner_f1\": 100.0, \"ner_token_f1\": 100.0}, \"time_spent\": \"0:06:28\", \"epochs_done\": 27, \"batches_seen\": 1080, \"train_examples_seen\": 10773, \"loss\": 0.00016565018086112104}}\n",
            "\n",
            "5it [00:00, 50.70it/s]\n",
            "2023-12-21 20:44:23.784 INFO in 'deeppavlov.core.trainers.nn_trainer'['nn_trainer'] at line 211: Did not improve on the ner_f1 of 85.9206\n",
            "INFO:deeppavlov.core.trainers.nn_trainer:Did not improve on the ner_f1 of 85.9206\n"
          ]
        },
        {
          "output_type": "stream",
          "name": "stdout",
          "text": [
            "{\"valid\": {\"eval_examples_count\": 49, \"metrics\": {\"ner_f1\": 85.3047, \"ner_token_f1\": 90.367}, \"time_spent\": \"0:06:28\", \"epochs_done\": 27, \"batches_seen\": 1080, \"train_examples_seen\": 10773, \"impatience\": 19, \"patience_limit\": 100}}\n"
          ]
        },
        {
          "output_type": "stream",
          "name": "stderr",
          "text": [
            "INFO:train_report:{\"valid\": {\"eval_examples_count\": 49, \"metrics\": {\"ner_f1\": 85.3047, \"ner_token_f1\": 90.367}, \"time_spent\": \"0:06:28\", \"epochs_done\": 27, \"batches_seen\": 1080, \"train_examples_seen\": 10773, \"impatience\": 19, \"patience_limit\": 100}}\n",
            "39it [00:05,  6.95it/s]\n",
            "7it [00:00,  7.41it/s]\n",
            "1it [00:00, 39.95it/s]"
          ]
        },
        {
          "output_type": "stream",
          "name": "stdout",
          "text": [
            "{\"train\": {\"eval_examples_count\": 10, \"metrics\": {\"ner_f1\": 100.0, \"ner_token_f1\": 100.0}, \"time_spent\": \"0:06:30\", \"epochs_done\": 28, \"batches_seen\": 1100, \"train_examples_seen\": 10972, \"loss\": 0.00016465872249682434}}\n"
          ]
        },
        {
          "output_type": "stream",
          "name": "stderr",
          "text": [
            "\n",
            "INFO:train_report:{\"train\": {\"eval_examples_count\": 10, \"metrics\": {\"ner_f1\": 100.0, \"ner_token_f1\": 100.0}, \"time_spent\": \"0:06:30\", \"epochs_done\": 28, \"batches_seen\": 1100, \"train_examples_seen\": 10972, \"loss\": 0.00016465872249682434}}\n",
            "\n",
            "5it [00:00, 50.41it/s]\n",
            "2023-12-21 20:44:26.634 INFO in 'deeppavlov.core.trainers.nn_trainer'['nn_trainer'] at line 211: Did not improve on the ner_f1 of 85.9206\n",
            "INFO:deeppavlov.core.trainers.nn_trainer:Did not improve on the ner_f1 of 85.9206\n"
          ]
        },
        {
          "output_type": "stream",
          "name": "stdout",
          "text": [
            "{\"valid\": {\"eval_examples_count\": 49, \"metrics\": {\"ner_f1\": 85.3047, \"ner_token_f1\": 90.367}, \"time_spent\": \"0:06:31\", \"epochs_done\": 28, \"batches_seen\": 1100, \"train_examples_seen\": 10972, \"impatience\": 20, \"patience_limit\": 100}}\n"
          ]
        },
        {
          "output_type": "stream",
          "name": "stderr",
          "text": [
            "INFO:train_report:{\"valid\": {\"eval_examples_count\": 49, \"metrics\": {\"ner_f1\": 85.3047, \"ner_token_f1\": 90.367}, \"time_spent\": \"0:06:31\", \"epochs_done\": 28, \"batches_seen\": 1100, \"train_examples_seen\": 10972, \"impatience\": 20, \"patience_limit\": 100}}\n",
            "27it [00:03,  7.53it/s]\n",
            "1it [00:00, 34.85it/s]"
          ]
        },
        {
          "output_type": "stream",
          "name": "stdout",
          "text": [
            "{\"train\": {\"eval_examples_count\": 10, \"metrics\": {\"ner_f1\": 100.0, \"ner_token_f1\": 100.0}, \"time_spent\": \"0:06:33\", \"epochs_done\": 28, \"batches_seen\": 1120, \"train_examples_seen\": 11172, \"loss\": 0.00016026712473831138}}\n"
          ]
        },
        {
          "output_type": "stream",
          "name": "stderr",
          "text": [
            "\n",
            "INFO:train_report:{\"train\": {\"eval_examples_count\": 10, \"metrics\": {\"ner_f1\": 100.0, \"ner_token_f1\": 100.0}, \"time_spent\": \"0:06:33\", \"epochs_done\": 28, \"batches_seen\": 1120, \"train_examples_seen\": 11172, \"loss\": 0.00016026712473831138}}\n",
            "\n",
            "0it [00:00, ?it/s]\u001b[A\n",
            "5it [00:00, 46.86it/s]\n",
            "2023-12-21 20:44:29.472 INFO in 'deeppavlov.core.trainers.nn_trainer'['nn_trainer'] at line 211: Did not improve on the ner_f1 of 85.9206\n",
            "INFO:deeppavlov.core.trainers.nn_trainer:Did not improve on the ner_f1 of 85.9206\n"
          ]
        },
        {
          "output_type": "stream",
          "name": "stdout",
          "text": [
            "{\"valid\": {\"eval_examples_count\": 49, \"metrics\": {\"ner_f1\": 85.3047, \"ner_token_f1\": 90.367}, \"time_spent\": \"0:06:33\", \"epochs_done\": 28, \"batches_seen\": 1120, \"train_examples_seen\": 11172, \"impatience\": 21, \"patience_limit\": 100}}\n"
          ]
        },
        {
          "output_type": "stream",
          "name": "stderr",
          "text": [
            "INFO:train_report:{\"valid\": {\"eval_examples_count\": 49, \"metrics\": {\"ner_f1\": 85.3047, \"ner_token_f1\": 90.367}, \"time_spent\": \"0:06:33\", \"epochs_done\": 28, \"batches_seen\": 1120, \"train_examples_seen\": 11172, \"impatience\": 21, \"patience_limit\": 100}}\n",
            "39it [00:05,  6.99it/s]\n",
            "8it [00:01,  7.05it/s]\n",
            "1it [00:00, 32.96it/s]"
          ]
        },
        {
          "output_type": "stream",
          "name": "stdout",
          "text": [
            "{\"train\": {\"eval_examples_count\": 10, \"metrics\": {\"ner_f1\": 100.0, \"ner_token_f1\": 100.0}, \"time_spent\": \"0:06:36\", \"epochs_done\": 29, \"batches_seen\": 1140, \"train_examples_seen\": 11371, \"loss\": 0.00017187152479891665}}\n"
          ]
        },
        {
          "output_type": "stream",
          "name": "stderr",
          "text": [
            "\n",
            "INFO:train_report:{\"train\": {\"eval_examples_count\": 10, \"metrics\": {\"ner_f1\": 100.0, \"ner_token_f1\": 100.0}, \"time_spent\": \"0:06:36\", \"epochs_done\": 29, \"batches_seen\": 1140, \"train_examples_seen\": 11371, \"loss\": 0.00017187152479891665}}\n",
            "\n",
            "0it [00:00, ?it/s]\u001b[A\n",
            "5it [00:00, 30.20it/s]\n",
            "2023-12-21 20:44:32.507 INFO in 'deeppavlov.core.trainers.nn_trainer'['nn_trainer'] at line 211: Did not improve on the ner_f1 of 85.9206\n",
            "INFO:deeppavlov.core.trainers.nn_trainer:Did not improve on the ner_f1 of 85.9206\n"
          ]
        },
        {
          "output_type": "stream",
          "name": "stdout",
          "text": [
            "{\"valid\": {\"eval_examples_count\": 49, \"metrics\": {\"ner_f1\": 85.3047, \"ner_token_f1\": 90.367}, \"time_spent\": \"0:06:36\", \"epochs_done\": 29, \"batches_seen\": 1140, \"train_examples_seen\": 11371, \"impatience\": 22, \"patience_limit\": 100}}\n"
          ]
        },
        {
          "output_type": "stream",
          "name": "stderr",
          "text": [
            "INFO:train_report:{\"valid\": {\"eval_examples_count\": 49, \"metrics\": {\"ner_f1\": 85.3047, \"ner_token_f1\": 90.367}, \"time_spent\": \"0:06:36\", \"epochs_done\": 29, \"batches_seen\": 1140, \"train_examples_seen\": 11371, \"impatience\": 22, \"patience_limit\": 100}}\n",
            "28it [00:04,  7.42it/s]\n",
            "1it [00:00, 41.35it/s]"
          ]
        },
        {
          "output_type": "stream",
          "name": "stdout",
          "text": [
            "{\"train\": {\"eval_examples_count\": 10, \"metrics\": {\"ner_f1\": 100.0, \"ner_token_f1\": 100.0}, \"time_spent\": \"0:06:39\", \"epochs_done\": 29, \"batches_seen\": 1160, \"train_examples_seen\": 11571, \"loss\": 0.00016261816235783045}}\n"
          ]
        },
        {
          "output_type": "stream",
          "name": "stderr",
          "text": [
            "\n",
            "INFO:train_report:{\"train\": {\"eval_examples_count\": 10, \"metrics\": {\"ner_f1\": 100.0, \"ner_token_f1\": 100.0}, \"time_spent\": \"0:06:39\", \"epochs_done\": 29, \"batches_seen\": 1160, \"train_examples_seen\": 11571, \"loss\": 0.00016261816235783045}}\n",
            "\n",
            "0it [00:00, ?it/s]\u001b[A\n",
            "5it [00:00, 44.79it/s]\n",
            "2023-12-21 20:44:35.435 INFO in 'deeppavlov.core.trainers.nn_trainer'['nn_trainer'] at line 211: Did not improve on the ner_f1 of 85.9206\n",
            "INFO:deeppavlov.core.trainers.nn_trainer:Did not improve on the ner_f1 of 85.9206\n"
          ]
        },
        {
          "output_type": "stream",
          "name": "stdout",
          "text": [
            "{\"valid\": {\"eval_examples_count\": 49, \"metrics\": {\"ner_f1\": 85.3047, \"ner_token_f1\": 90.367}, \"time_spent\": \"0:06:39\", \"epochs_done\": 29, \"batches_seen\": 1160, \"train_examples_seen\": 11571, \"impatience\": 23, \"patience_limit\": 100}}\n"
          ]
        },
        {
          "output_type": "stream",
          "name": "stderr",
          "text": [
            "INFO:train_report:{\"valid\": {\"eval_examples_count\": 49, \"metrics\": {\"ner_f1\": 85.3047, \"ner_token_f1\": 90.367}, \"time_spent\": \"0:06:39\", \"epochs_done\": 29, \"batches_seen\": 1160, \"train_examples_seen\": 11571, \"impatience\": 23, \"patience_limit\": 100}}\n",
            "39it [00:05,  6.75it/s]\n",
            "Some weights of the model checkpoint at DeepPavlov/rubert-base-cased were not used when initializing BertForTokenClassification: ['cls.predictions.bias', 'cls.predictions.decoder.bias', 'cls.predictions.transform.dense.weight', 'cls.predictions.decoder.weight', 'cls.predictions.transform.LayerNorm.bias', 'cls.predictions.transform.dense.bias', 'cls.predictions.transform.LayerNorm.weight', 'cls.seq_relationship.weight', 'cls.seq_relationship.bias']\n",
            "- This IS expected if you are initializing BertForTokenClassification from the checkpoint of a model trained on another task or with another architecture (e.g. initializing a BertForSequenceClassification model from a BertForPreTraining model).\n",
            "- This IS NOT expected if you are initializing BertForTokenClassification from the checkpoint of a model that you expect to be exactly identical (initializing a BertForSequenceClassification model from a BertForSequenceClassification model).\n",
            "Some weights of BertForTokenClassification were not initialized from the model checkpoint at DeepPavlov/rubert-base-cased and are newly initialized: ['classifier.bias', 'classifier.weight']\n",
            "You should probably TRAIN this model on a down-stream task to be able to use it for predictions and inference.\n",
            "5it [00:00, 27.52it/s]\n"
          ]
        },
        {
          "output_type": "stream",
          "name": "stdout",
          "text": [
            "{\"valid\": {\"eval_examples_count\": 49, \"metrics\": {\"ner_f1\": 85.9206, \"ner_token_f1\": 90.7834}, \"time_spent\": \"0:00:01\"}}\n"
          ]
        },
        {
          "output_type": "stream",
          "name": "stderr",
          "text": [
            "INFO:train_report:{\"valid\": {\"eval_examples_count\": 49, \"metrics\": {\"ner_f1\": 85.9206, \"ner_token_f1\": 90.7834}, \"time_spent\": \"0:00:01\"}}\n",
            "5it [00:00, 28.08it/s]"
          ]
        },
        {
          "output_type": "stream",
          "name": "stdout",
          "text": [
            "{\"test\": {\"eval_examples_count\": 49, \"metrics\": {\"ner_f1\": 84.127, \"ner_token_f1\": 92.4171}, \"time_spent\": \"0:00:01\"}}\n"
          ]
        },
        {
          "output_type": "stream",
          "name": "stderr",
          "text": [
            "\n",
            "INFO:train_report:{\"test\": {\"eval_examples_count\": 49, \"metrics\": {\"ner_f1\": 84.127, \"ner_token_f1\": 92.4171}, \"time_spent\": \"0:00:01\"}}\n",
            "Some weights of the model checkpoint at DeepPavlov/rubert-base-cased were not used when initializing BertForTokenClassification: ['cls.predictions.bias', 'cls.predictions.decoder.bias', 'cls.predictions.transform.dense.weight', 'cls.predictions.decoder.weight', 'cls.predictions.transform.LayerNorm.bias', 'cls.predictions.transform.dense.bias', 'cls.predictions.transform.LayerNorm.weight', 'cls.seq_relationship.weight', 'cls.seq_relationship.bias']\n",
            "- This IS expected if you are initializing BertForTokenClassification from the checkpoint of a model trained on another task or with another architecture (e.g. initializing a BertForSequenceClassification model from a BertForPreTraining model).\n",
            "- This IS NOT expected if you are initializing BertForTokenClassification from the checkpoint of a model that you expect to be exactly identical (initializing a BertForSequenceClassification model from a BertForSequenceClassification model).\n",
            "Some weights of BertForTokenClassification were not initialized from the model checkpoint at DeepPavlov/rubert-base-cased and are newly initialized: ['classifier.bias', 'classifier.weight']\n",
            "You should probably TRAIN this model on a down-stream task to be able to use it for predictions and inference.\n"
          ]
        }
      ]
    },
    {
      "cell_type": "code",
      "source": [
        "ner_model(['Создай задачу: Анне нужно поехать в командировку в Санкт-Петербург завтра'])"
      ],
      "metadata": {
        "colab": {
          "base_uri": "https://localhost:8080/"
        },
        "id": "FKeEE-sZGLye",
        "outputId": "c5a5a6a9-9a13-492a-be1f-d10d27ffa2ea"
      },
      "execution_count": 7,
      "outputs": [
        {
          "output_type": "execute_result",
          "data": {
            "text/plain": [
              "[[['Создай',\n",
              "   'задачу:',\n",
              "   'Анне',\n",
              "   'нужно',\n",
              "   'поехать',\n",
              "   'в',\n",
              "   'командировку',\n",
              "   'в',\n",
              "   'Санкт',\n",
              "   '-',\n",
              "   'Петербург',\n",
              "   'завтра']],\n",
              " [['B-LAW',\n",
              "   'I-LAW',\n",
              "   'B-PERSON',\n",
              "   'O',\n",
              "   'O',\n",
              "   'O',\n",
              "   'O',\n",
              "   'O',\n",
              "   'O',\n",
              "   'O',\n",
              "   'B-TIME',\n",
              "   'B-TIME']]]"
            ]
          },
          "metadata": {},
          "execution_count": 7
        }
      ]
    },
    {
      "cell_type": "code",
      "execution_count": 8,
      "metadata": {
        "id": "g67jaapl4V10"
      },
      "outputs": [],
      "source": [
        "import json\n",
        "\n",
        "with open('config_dict.json', 'w') as f:\n",
        "  f.write(json.dumps(config_dict))"
      ]
    },
    {
      "cell_type": "code",
      "source": [
        "with open('datasets/test.txt', 'r') as f:\n",
        "  data = f.readlines()\n",
        "examples = list()\n",
        "targets = list()\n",
        "sent = list()\n",
        "targ = list()\n",
        "for line in data:\n",
        "  words = line.split()\n",
        "  if len(words)>0:\n",
        "    sent.append(words[0])\n",
        "    targ.append(words[1])\n",
        "  else:\n",
        "    examples.append(' '.join(sent))\n",
        "    targets.append(targ)\n",
        "    sent = list()\n",
        "    targ = list()"
      ],
      "metadata": {
        "id": "HM0BlxmvXk-J"
      },
      "execution_count": 13,
      "outputs": []
    },
    {
      "cell_type": "code",
      "source": [
        "for idx in range(len(examples)):\n",
        "  print(ner_model([examples[idx]])[1][0])\n",
        "  print(targets[idx])\n",
        "  break"
      ],
      "metadata": {
        "colab": {
          "base_uri": "https://localhost:8080/"
        },
        "id": "pCYsPTKSYRV3",
        "outputId": "ff115fcc-94a5-4ad8-ba7a-159c1c47bf34"
      },
      "execution_count": 15,
      "outputs": [
        {
          "output_type": "stream",
          "name": "stdout",
          "text": [
            "['B-LAW', 'I-LAW', 'O', 'O', 'O', 'O', 'O', 'O', 'O', 'I-TIME', 'O', 'B-TIME', 'O', 'B-TIME']\n",
            "['B-LAW', 'I-LAW', 'O', 'B-PERSON', 'O', 'O', 'O', 'O', 'O', 'B-TIME', 'O', 'B-TIME', 'O', 'B-TIME']\n"
          ]
        }
      ]
    },
    {
      "cell_type": "code",
      "source": [
        "def calc_estimations(target, translation):\n",
        "  result = list()\n",
        "  def shorten(x):\n",
        "    return x.replace('B-','').replace('I-','')\n",
        "  for i in range(len(target)):\n",
        "    if shorten(target[i])==shorten(translation[i]) and shorten(target[i])!= 'O':\n",
        "      result.append('COR')\n",
        "    elif shorten(target[i])!= 'O' and shorten(translation[i])=='O':\n",
        "      result.append('MIS')\n",
        "    elif shorten(target[i])== 'O' and shorten(translation[i])!='O':\n",
        "      result.append('SPU')\n",
        "    elif shorten(target[i])!= 'O' and shorten(translation[i])!='O' and shorten(target[i])!=shorten(translation[i]):\n",
        "      result.append('INC')\n",
        "    else:\n",
        "      pass\n",
        "  return result"
      ],
      "metadata": {
        "id": "yAk5i2gYJi3-"
      },
      "execution_count": 16,
      "outputs": []
    },
    {
      "cell_type": "code",
      "source": [
        "total_result = list()\n",
        "for idx in range(len(examples)):\n",
        "  translation = ner_model([examples[idx]])[1][0]\n",
        "  target = targets[idx]\n",
        "  total_result.extend(calc_estimations(target, translation))"
      ],
      "metadata": {
        "id": "4-hAvfrZKOfA"
      },
      "execution_count": 18,
      "outputs": []
    },
    {
      "cell_type": "code",
      "source": [
        "Precision = sum([x=='COR' for x in total_result])/sum([x in ['COR', 'INC', 'SPU'] for x in total_result])\n",
        "Recall = sum([x=='COR' for x in total_result])/sum([x in ['COR', 'INC', 'MIS'] for x in total_result])\n",
        "F1 = 2*Recall*Precision/(Recall+Precision)\n",
        "\n",
        "print(f\"Precision: {Precision}\")\n",
        "print(f\"Recall: {Recall}\")\n",
        "print(f\"F1-score: {F1}\")"
      ],
      "metadata": {
        "colab": {
          "base_uri": "https://localhost:8080/"
        },
        "id": "L2Ipv4WCKtMO",
        "outputId": "b1910d4a-892d-4144-83cb-f0e99b7e610e"
      },
      "execution_count": 19,
      "outputs": [
        {
          "output_type": "stream",
          "name": "stdout",
          "text": [
            "Precision: 0.9512195121951219\n",
            "Recall: 0.8986175115207373\n",
            "F1-score: 0.9241706161137441\n"
          ]
        }
      ]
    }
  ],
  "metadata": {
    "colab": {
      "provenance": [],
      "gpuType": "T4"
    },
    "kernelspec": {
      "display_name": "Python 3",
      "name": "python3"
    },
    "language_info": {
      "name": "python"
    },
    "accelerator": "GPU",
    "widgets": {
      "application/vnd.jupyter.widget-state+json": {
        "2e6882b4924044b88e337079ab6a59e6": {
          "model_module": "@jupyter-widgets/controls",
          "model_name": "HBoxModel",
          "model_module_version": "1.5.0",
          "state": {
            "_dom_classes": [],
            "_model_module": "@jupyter-widgets/controls",
            "_model_module_version": "1.5.0",
            "_model_name": "HBoxModel",
            "_view_count": null,
            "_view_module": "@jupyter-widgets/controls",
            "_view_module_version": "1.5.0",
            "_view_name": "HBoxView",
            "box_style": "",
            "children": [
              "IPY_MODEL_1ed55861e53a467988e895796944188e",
              "IPY_MODEL_acf11825f886442bbfe460f90b8828da",
              "IPY_MODEL_caee88d70b804f979d577759329c9780"
            ],
            "layout": "IPY_MODEL_26e21c449ebb4a49a558b67fda17c9cc"
          }
        },
        "1ed55861e53a467988e895796944188e": {
          "model_module": "@jupyter-widgets/controls",
          "model_name": "HTMLModel",
          "model_module_version": "1.5.0",
          "state": {
            "_dom_classes": [],
            "_model_module": "@jupyter-widgets/controls",
            "_model_module_version": "1.5.0",
            "_model_name": "HTMLModel",
            "_view_count": null,
            "_view_module": "@jupyter-widgets/controls",
            "_view_module_version": "1.5.0",
            "_view_name": "HTMLView",
            "description": "",
            "description_tooltip": null,
            "layout": "IPY_MODEL_f8c6656425a44b3aabab18b5f8eef883",
            "placeholder": "​",
            "style": "IPY_MODEL_d19138a29608459db2553e7ec63d00d7",
            "value": "tokenizer_config.json: 100%"
          }
        },
        "acf11825f886442bbfe460f90b8828da": {
          "model_module": "@jupyter-widgets/controls",
          "model_name": "FloatProgressModel",
          "model_module_version": "1.5.0",
          "state": {
            "_dom_classes": [],
            "_model_module": "@jupyter-widgets/controls",
            "_model_module_version": "1.5.0",
            "_model_name": "FloatProgressModel",
            "_view_count": null,
            "_view_module": "@jupyter-widgets/controls",
            "_view_module_version": "1.5.0",
            "_view_name": "ProgressView",
            "bar_style": "success",
            "description": "",
            "description_tooltip": null,
            "layout": "IPY_MODEL_85a4fca0ce404957b16c0f4dc72856c4",
            "max": 24,
            "min": 0,
            "orientation": "horizontal",
            "style": "IPY_MODEL_25075a2c9e3e4e01baaa67d280be5f6b",
            "value": 24
          }
        },
        "caee88d70b804f979d577759329c9780": {
          "model_module": "@jupyter-widgets/controls",
          "model_name": "HTMLModel",
          "model_module_version": "1.5.0",
          "state": {
            "_dom_classes": [],
            "_model_module": "@jupyter-widgets/controls",
            "_model_module_version": "1.5.0",
            "_model_name": "HTMLModel",
            "_view_count": null,
            "_view_module": "@jupyter-widgets/controls",
            "_view_module_version": "1.5.0",
            "_view_name": "HTMLView",
            "description": "",
            "description_tooltip": null,
            "layout": "IPY_MODEL_b460c96cd990499ea7018b6d79434dcf",
            "placeholder": "​",
            "style": "IPY_MODEL_1efbf686dc87438289dcfd65db00b85c",
            "value": " 24.0/24.0 [00:00&lt;00:00, 1.63kB/s]"
          }
        },
        "26e21c449ebb4a49a558b67fda17c9cc": {
          "model_module": "@jupyter-widgets/base",
          "model_name": "LayoutModel",
          "model_module_version": "1.2.0",
          "state": {
            "_model_module": "@jupyter-widgets/base",
            "_model_module_version": "1.2.0",
            "_model_name": "LayoutModel",
            "_view_count": null,
            "_view_module": "@jupyter-widgets/base",
            "_view_module_version": "1.2.0",
            "_view_name": "LayoutView",
            "align_content": null,
            "align_items": null,
            "align_self": null,
            "border": null,
            "bottom": null,
            "display": null,
            "flex": null,
            "flex_flow": null,
            "grid_area": null,
            "grid_auto_columns": null,
            "grid_auto_flow": null,
            "grid_auto_rows": null,
            "grid_column": null,
            "grid_gap": null,
            "grid_row": null,
            "grid_template_areas": null,
            "grid_template_columns": null,
            "grid_template_rows": null,
            "height": null,
            "justify_content": null,
            "justify_items": null,
            "left": null,
            "margin": null,
            "max_height": null,
            "max_width": null,
            "min_height": null,
            "min_width": null,
            "object_fit": null,
            "object_position": null,
            "order": null,
            "overflow": null,
            "overflow_x": null,
            "overflow_y": null,
            "padding": null,
            "right": null,
            "top": null,
            "visibility": null,
            "width": null
          }
        },
        "f8c6656425a44b3aabab18b5f8eef883": {
          "model_module": "@jupyter-widgets/base",
          "model_name": "LayoutModel",
          "model_module_version": "1.2.0",
          "state": {
            "_model_module": "@jupyter-widgets/base",
            "_model_module_version": "1.2.0",
            "_model_name": "LayoutModel",
            "_view_count": null,
            "_view_module": "@jupyter-widgets/base",
            "_view_module_version": "1.2.0",
            "_view_name": "LayoutView",
            "align_content": null,
            "align_items": null,
            "align_self": null,
            "border": null,
            "bottom": null,
            "display": null,
            "flex": null,
            "flex_flow": null,
            "grid_area": null,
            "grid_auto_columns": null,
            "grid_auto_flow": null,
            "grid_auto_rows": null,
            "grid_column": null,
            "grid_gap": null,
            "grid_row": null,
            "grid_template_areas": null,
            "grid_template_columns": null,
            "grid_template_rows": null,
            "height": null,
            "justify_content": null,
            "justify_items": null,
            "left": null,
            "margin": null,
            "max_height": null,
            "max_width": null,
            "min_height": null,
            "min_width": null,
            "object_fit": null,
            "object_position": null,
            "order": null,
            "overflow": null,
            "overflow_x": null,
            "overflow_y": null,
            "padding": null,
            "right": null,
            "top": null,
            "visibility": null,
            "width": null
          }
        },
        "d19138a29608459db2553e7ec63d00d7": {
          "model_module": "@jupyter-widgets/controls",
          "model_name": "DescriptionStyleModel",
          "model_module_version": "1.5.0",
          "state": {
            "_model_module": "@jupyter-widgets/controls",
            "_model_module_version": "1.5.0",
            "_model_name": "DescriptionStyleModel",
            "_view_count": null,
            "_view_module": "@jupyter-widgets/base",
            "_view_module_version": "1.2.0",
            "_view_name": "StyleView",
            "description_width": ""
          }
        },
        "85a4fca0ce404957b16c0f4dc72856c4": {
          "model_module": "@jupyter-widgets/base",
          "model_name": "LayoutModel",
          "model_module_version": "1.2.0",
          "state": {
            "_model_module": "@jupyter-widgets/base",
            "_model_module_version": "1.2.0",
            "_model_name": "LayoutModel",
            "_view_count": null,
            "_view_module": "@jupyter-widgets/base",
            "_view_module_version": "1.2.0",
            "_view_name": "LayoutView",
            "align_content": null,
            "align_items": null,
            "align_self": null,
            "border": null,
            "bottom": null,
            "display": null,
            "flex": null,
            "flex_flow": null,
            "grid_area": null,
            "grid_auto_columns": null,
            "grid_auto_flow": null,
            "grid_auto_rows": null,
            "grid_column": null,
            "grid_gap": null,
            "grid_row": null,
            "grid_template_areas": null,
            "grid_template_columns": null,
            "grid_template_rows": null,
            "height": null,
            "justify_content": null,
            "justify_items": null,
            "left": null,
            "margin": null,
            "max_height": null,
            "max_width": null,
            "min_height": null,
            "min_width": null,
            "object_fit": null,
            "object_position": null,
            "order": null,
            "overflow": null,
            "overflow_x": null,
            "overflow_y": null,
            "padding": null,
            "right": null,
            "top": null,
            "visibility": null,
            "width": null
          }
        },
        "25075a2c9e3e4e01baaa67d280be5f6b": {
          "model_module": "@jupyter-widgets/controls",
          "model_name": "ProgressStyleModel",
          "model_module_version": "1.5.0",
          "state": {
            "_model_module": "@jupyter-widgets/controls",
            "_model_module_version": "1.5.0",
            "_model_name": "ProgressStyleModel",
            "_view_count": null,
            "_view_module": "@jupyter-widgets/base",
            "_view_module_version": "1.2.0",
            "_view_name": "StyleView",
            "bar_color": null,
            "description_width": ""
          }
        },
        "b460c96cd990499ea7018b6d79434dcf": {
          "model_module": "@jupyter-widgets/base",
          "model_name": "LayoutModel",
          "model_module_version": "1.2.0",
          "state": {
            "_model_module": "@jupyter-widgets/base",
            "_model_module_version": "1.2.0",
            "_model_name": "LayoutModel",
            "_view_count": null,
            "_view_module": "@jupyter-widgets/base",
            "_view_module_version": "1.2.0",
            "_view_name": "LayoutView",
            "align_content": null,
            "align_items": null,
            "align_self": null,
            "border": null,
            "bottom": null,
            "display": null,
            "flex": null,
            "flex_flow": null,
            "grid_area": null,
            "grid_auto_columns": null,
            "grid_auto_flow": null,
            "grid_auto_rows": null,
            "grid_column": null,
            "grid_gap": null,
            "grid_row": null,
            "grid_template_areas": null,
            "grid_template_columns": null,
            "grid_template_rows": null,
            "height": null,
            "justify_content": null,
            "justify_items": null,
            "left": null,
            "margin": null,
            "max_height": null,
            "max_width": null,
            "min_height": null,
            "min_width": null,
            "object_fit": null,
            "object_position": null,
            "order": null,
            "overflow": null,
            "overflow_x": null,
            "overflow_y": null,
            "padding": null,
            "right": null,
            "top": null,
            "visibility": null,
            "width": null
          }
        },
        "1efbf686dc87438289dcfd65db00b85c": {
          "model_module": "@jupyter-widgets/controls",
          "model_name": "DescriptionStyleModel",
          "model_module_version": "1.5.0",
          "state": {
            "_model_module": "@jupyter-widgets/controls",
            "_model_module_version": "1.5.0",
            "_model_name": "DescriptionStyleModel",
            "_view_count": null,
            "_view_module": "@jupyter-widgets/base",
            "_view_module_version": "1.2.0",
            "_view_name": "StyleView",
            "description_width": ""
          }
        },
        "cb6068b116aa4b64940bf6272f84c637": {
          "model_module": "@jupyter-widgets/controls",
          "model_name": "HBoxModel",
          "model_module_version": "1.5.0",
          "state": {
            "_dom_classes": [],
            "_model_module": "@jupyter-widgets/controls",
            "_model_module_version": "1.5.0",
            "_model_name": "HBoxModel",
            "_view_count": null,
            "_view_module": "@jupyter-widgets/controls",
            "_view_module_version": "1.5.0",
            "_view_name": "HBoxView",
            "box_style": "",
            "children": [
              "IPY_MODEL_6cd7a53b60034971900029b707fee16e",
              "IPY_MODEL_2afffd4654c54698af58f1f8880af0ac",
              "IPY_MODEL_9e70da4e077146908657c8869daedd69"
            ],
            "layout": "IPY_MODEL_16dcfd2a8fe545f4ace70928c2c17cae"
          }
        },
        "6cd7a53b60034971900029b707fee16e": {
          "model_module": "@jupyter-widgets/controls",
          "model_name": "HTMLModel",
          "model_module_version": "1.5.0",
          "state": {
            "_dom_classes": [],
            "_model_module": "@jupyter-widgets/controls",
            "_model_module_version": "1.5.0",
            "_model_name": "HTMLModel",
            "_view_count": null,
            "_view_module": "@jupyter-widgets/controls",
            "_view_module_version": "1.5.0",
            "_view_name": "HTMLView",
            "description": "",
            "description_tooltip": null,
            "layout": "IPY_MODEL_25434f548fb840598b03e12024b1d6eb",
            "placeholder": "​",
            "style": "IPY_MODEL_7c39d44bfcc04cd09f0170b8fc278559",
            "value": "config.json: 100%"
          }
        },
        "2afffd4654c54698af58f1f8880af0ac": {
          "model_module": "@jupyter-widgets/controls",
          "model_name": "FloatProgressModel",
          "model_module_version": "1.5.0",
          "state": {
            "_dom_classes": [],
            "_model_module": "@jupyter-widgets/controls",
            "_model_module_version": "1.5.0",
            "_model_name": "FloatProgressModel",
            "_view_count": null,
            "_view_module": "@jupyter-widgets/controls",
            "_view_module_version": "1.5.0",
            "_view_name": "ProgressView",
            "bar_style": "success",
            "description": "",
            "description_tooltip": null,
            "layout": "IPY_MODEL_eca1b3ee720449b58ceb7036972c06a9",
            "max": 642,
            "min": 0,
            "orientation": "horizontal",
            "style": "IPY_MODEL_2daea47c050a4db78918510a2d4fc81f",
            "value": 642
          }
        },
        "9e70da4e077146908657c8869daedd69": {
          "model_module": "@jupyter-widgets/controls",
          "model_name": "HTMLModel",
          "model_module_version": "1.5.0",
          "state": {
            "_dom_classes": [],
            "_model_module": "@jupyter-widgets/controls",
            "_model_module_version": "1.5.0",
            "_model_name": "HTMLModel",
            "_view_count": null,
            "_view_module": "@jupyter-widgets/controls",
            "_view_module_version": "1.5.0",
            "_view_name": "HTMLView",
            "description": "",
            "description_tooltip": null,
            "layout": "IPY_MODEL_e73ca16258a04998bd882cb71ffcfd06",
            "placeholder": "​",
            "style": "IPY_MODEL_7aaa28548be84812bb9c769f61a665cd",
            "value": " 642/642 [00:00&lt;00:00, 37.8kB/s]"
          }
        },
        "16dcfd2a8fe545f4ace70928c2c17cae": {
          "model_module": "@jupyter-widgets/base",
          "model_name": "LayoutModel",
          "model_module_version": "1.2.0",
          "state": {
            "_model_module": "@jupyter-widgets/base",
            "_model_module_version": "1.2.0",
            "_model_name": "LayoutModel",
            "_view_count": null,
            "_view_module": "@jupyter-widgets/base",
            "_view_module_version": "1.2.0",
            "_view_name": "LayoutView",
            "align_content": null,
            "align_items": null,
            "align_self": null,
            "border": null,
            "bottom": null,
            "display": null,
            "flex": null,
            "flex_flow": null,
            "grid_area": null,
            "grid_auto_columns": null,
            "grid_auto_flow": null,
            "grid_auto_rows": null,
            "grid_column": null,
            "grid_gap": null,
            "grid_row": null,
            "grid_template_areas": null,
            "grid_template_columns": null,
            "grid_template_rows": null,
            "height": null,
            "justify_content": null,
            "justify_items": null,
            "left": null,
            "margin": null,
            "max_height": null,
            "max_width": null,
            "min_height": null,
            "min_width": null,
            "object_fit": null,
            "object_position": null,
            "order": null,
            "overflow": null,
            "overflow_x": null,
            "overflow_y": null,
            "padding": null,
            "right": null,
            "top": null,
            "visibility": null,
            "width": null
          }
        },
        "25434f548fb840598b03e12024b1d6eb": {
          "model_module": "@jupyter-widgets/base",
          "model_name": "LayoutModel",
          "model_module_version": "1.2.0",
          "state": {
            "_model_module": "@jupyter-widgets/base",
            "_model_module_version": "1.2.0",
            "_model_name": "LayoutModel",
            "_view_count": null,
            "_view_module": "@jupyter-widgets/base",
            "_view_module_version": "1.2.0",
            "_view_name": "LayoutView",
            "align_content": null,
            "align_items": null,
            "align_self": null,
            "border": null,
            "bottom": null,
            "display": null,
            "flex": null,
            "flex_flow": null,
            "grid_area": null,
            "grid_auto_columns": null,
            "grid_auto_flow": null,
            "grid_auto_rows": null,
            "grid_column": null,
            "grid_gap": null,
            "grid_row": null,
            "grid_template_areas": null,
            "grid_template_columns": null,
            "grid_template_rows": null,
            "height": null,
            "justify_content": null,
            "justify_items": null,
            "left": null,
            "margin": null,
            "max_height": null,
            "max_width": null,
            "min_height": null,
            "min_width": null,
            "object_fit": null,
            "object_position": null,
            "order": null,
            "overflow": null,
            "overflow_x": null,
            "overflow_y": null,
            "padding": null,
            "right": null,
            "top": null,
            "visibility": null,
            "width": null
          }
        },
        "7c39d44bfcc04cd09f0170b8fc278559": {
          "model_module": "@jupyter-widgets/controls",
          "model_name": "DescriptionStyleModel",
          "model_module_version": "1.5.0",
          "state": {
            "_model_module": "@jupyter-widgets/controls",
            "_model_module_version": "1.5.0",
            "_model_name": "DescriptionStyleModel",
            "_view_count": null,
            "_view_module": "@jupyter-widgets/base",
            "_view_module_version": "1.2.0",
            "_view_name": "StyleView",
            "description_width": ""
          }
        },
        "eca1b3ee720449b58ceb7036972c06a9": {
          "model_module": "@jupyter-widgets/base",
          "model_name": "LayoutModel",
          "model_module_version": "1.2.0",
          "state": {
            "_model_module": "@jupyter-widgets/base",
            "_model_module_version": "1.2.0",
            "_model_name": "LayoutModel",
            "_view_count": null,
            "_view_module": "@jupyter-widgets/base",
            "_view_module_version": "1.2.0",
            "_view_name": "LayoutView",
            "align_content": null,
            "align_items": null,
            "align_self": null,
            "border": null,
            "bottom": null,
            "display": null,
            "flex": null,
            "flex_flow": null,
            "grid_area": null,
            "grid_auto_columns": null,
            "grid_auto_flow": null,
            "grid_auto_rows": null,
            "grid_column": null,
            "grid_gap": null,
            "grid_row": null,
            "grid_template_areas": null,
            "grid_template_columns": null,
            "grid_template_rows": null,
            "height": null,
            "justify_content": null,
            "justify_items": null,
            "left": null,
            "margin": null,
            "max_height": null,
            "max_width": null,
            "min_height": null,
            "min_width": null,
            "object_fit": null,
            "object_position": null,
            "order": null,
            "overflow": null,
            "overflow_x": null,
            "overflow_y": null,
            "padding": null,
            "right": null,
            "top": null,
            "visibility": null,
            "width": null
          }
        },
        "2daea47c050a4db78918510a2d4fc81f": {
          "model_module": "@jupyter-widgets/controls",
          "model_name": "ProgressStyleModel",
          "model_module_version": "1.5.0",
          "state": {
            "_model_module": "@jupyter-widgets/controls",
            "_model_module_version": "1.5.0",
            "_model_name": "ProgressStyleModel",
            "_view_count": null,
            "_view_module": "@jupyter-widgets/base",
            "_view_module_version": "1.2.0",
            "_view_name": "StyleView",
            "bar_color": null,
            "description_width": ""
          }
        },
        "e73ca16258a04998bd882cb71ffcfd06": {
          "model_module": "@jupyter-widgets/base",
          "model_name": "LayoutModel",
          "model_module_version": "1.2.0",
          "state": {
            "_model_module": "@jupyter-widgets/base",
            "_model_module_version": "1.2.0",
            "_model_name": "LayoutModel",
            "_view_count": null,
            "_view_module": "@jupyter-widgets/base",
            "_view_module_version": "1.2.0",
            "_view_name": "LayoutView",
            "align_content": null,
            "align_items": null,
            "align_self": null,
            "border": null,
            "bottom": null,
            "display": null,
            "flex": null,
            "flex_flow": null,
            "grid_area": null,
            "grid_auto_columns": null,
            "grid_auto_flow": null,
            "grid_auto_rows": null,
            "grid_column": null,
            "grid_gap": null,
            "grid_row": null,
            "grid_template_areas": null,
            "grid_template_columns": null,
            "grid_template_rows": null,
            "height": null,
            "justify_content": null,
            "justify_items": null,
            "left": null,
            "margin": null,
            "max_height": null,
            "max_width": null,
            "min_height": null,
            "min_width": null,
            "object_fit": null,
            "object_position": null,
            "order": null,
            "overflow": null,
            "overflow_x": null,
            "overflow_y": null,
            "padding": null,
            "right": null,
            "top": null,
            "visibility": null,
            "width": null
          }
        },
        "7aaa28548be84812bb9c769f61a665cd": {
          "model_module": "@jupyter-widgets/controls",
          "model_name": "DescriptionStyleModel",
          "model_module_version": "1.5.0",
          "state": {
            "_model_module": "@jupyter-widgets/controls",
            "_model_module_version": "1.5.0",
            "_model_name": "DescriptionStyleModel",
            "_view_count": null,
            "_view_module": "@jupyter-widgets/base",
            "_view_module_version": "1.2.0",
            "_view_name": "StyleView",
            "description_width": ""
          }
        },
        "11c96366cc7945bdbb6415c7b26b59ca": {
          "model_module": "@jupyter-widgets/controls",
          "model_name": "HBoxModel",
          "model_module_version": "1.5.0",
          "state": {
            "_dom_classes": [],
            "_model_module": "@jupyter-widgets/controls",
            "_model_module_version": "1.5.0",
            "_model_name": "HBoxModel",
            "_view_count": null,
            "_view_module": "@jupyter-widgets/controls",
            "_view_module_version": "1.5.0",
            "_view_name": "HBoxView",
            "box_style": "",
            "children": [
              "IPY_MODEL_b47baee5008f447ba68beafe71b29e5b",
              "IPY_MODEL_35ef782de3fd467385b545ade2687471",
              "IPY_MODEL_1ad3460fc15b49b5807392614f463aac"
            ],
            "layout": "IPY_MODEL_84a33dc4ccd647d2a426683b226290f8"
          }
        },
        "b47baee5008f447ba68beafe71b29e5b": {
          "model_module": "@jupyter-widgets/controls",
          "model_name": "HTMLModel",
          "model_module_version": "1.5.0",
          "state": {
            "_dom_classes": [],
            "_model_module": "@jupyter-widgets/controls",
            "_model_module_version": "1.5.0",
            "_model_name": "HTMLModel",
            "_view_count": null,
            "_view_module": "@jupyter-widgets/controls",
            "_view_module_version": "1.5.0",
            "_view_name": "HTMLView",
            "description": "",
            "description_tooltip": null,
            "layout": "IPY_MODEL_a50da59bb8e74b6f995f8f639ab6ffbe",
            "placeholder": "​",
            "style": "IPY_MODEL_020a8332ec52427d8a7c2c90546fb2a9",
            "value": "vocab.txt: 100%"
          }
        },
        "35ef782de3fd467385b545ade2687471": {
          "model_module": "@jupyter-widgets/controls",
          "model_name": "FloatProgressModel",
          "model_module_version": "1.5.0",
          "state": {
            "_dom_classes": [],
            "_model_module": "@jupyter-widgets/controls",
            "_model_module_version": "1.5.0",
            "_model_name": "FloatProgressModel",
            "_view_count": null,
            "_view_module": "@jupyter-widgets/controls",
            "_view_module_version": "1.5.0",
            "_view_name": "ProgressView",
            "bar_style": "success",
            "description": "",
            "description_tooltip": null,
            "layout": "IPY_MODEL_eee1c59afdf341439f7c2f0d2d7e9f14",
            "max": 1649718,
            "min": 0,
            "orientation": "horizontal",
            "style": "IPY_MODEL_4f30c87baaaf40e0ac5b689be89c6d3e",
            "value": 1649718
          }
        },
        "1ad3460fc15b49b5807392614f463aac": {
          "model_module": "@jupyter-widgets/controls",
          "model_name": "HTMLModel",
          "model_module_version": "1.5.0",
          "state": {
            "_dom_classes": [],
            "_model_module": "@jupyter-widgets/controls",
            "_model_module_version": "1.5.0",
            "_model_name": "HTMLModel",
            "_view_count": null,
            "_view_module": "@jupyter-widgets/controls",
            "_view_module_version": "1.5.0",
            "_view_name": "HTMLView",
            "description": "",
            "description_tooltip": null,
            "layout": "IPY_MODEL_1f45e3425821444ca9e7e37920a6f4e0",
            "placeholder": "​",
            "style": "IPY_MODEL_9e16af888e414ac6825b45c624195ca1",
            "value": " 1.65M/1.65M [00:00&lt;00:00, 12.3MB/s]"
          }
        },
        "84a33dc4ccd647d2a426683b226290f8": {
          "model_module": "@jupyter-widgets/base",
          "model_name": "LayoutModel",
          "model_module_version": "1.2.0",
          "state": {
            "_model_module": "@jupyter-widgets/base",
            "_model_module_version": "1.2.0",
            "_model_name": "LayoutModel",
            "_view_count": null,
            "_view_module": "@jupyter-widgets/base",
            "_view_module_version": "1.2.0",
            "_view_name": "LayoutView",
            "align_content": null,
            "align_items": null,
            "align_self": null,
            "border": null,
            "bottom": null,
            "display": null,
            "flex": null,
            "flex_flow": null,
            "grid_area": null,
            "grid_auto_columns": null,
            "grid_auto_flow": null,
            "grid_auto_rows": null,
            "grid_column": null,
            "grid_gap": null,
            "grid_row": null,
            "grid_template_areas": null,
            "grid_template_columns": null,
            "grid_template_rows": null,
            "height": null,
            "justify_content": null,
            "justify_items": null,
            "left": null,
            "margin": null,
            "max_height": null,
            "max_width": null,
            "min_height": null,
            "min_width": null,
            "object_fit": null,
            "object_position": null,
            "order": null,
            "overflow": null,
            "overflow_x": null,
            "overflow_y": null,
            "padding": null,
            "right": null,
            "top": null,
            "visibility": null,
            "width": null
          }
        },
        "a50da59bb8e74b6f995f8f639ab6ffbe": {
          "model_module": "@jupyter-widgets/base",
          "model_name": "LayoutModel",
          "model_module_version": "1.2.0",
          "state": {
            "_model_module": "@jupyter-widgets/base",
            "_model_module_version": "1.2.0",
            "_model_name": "LayoutModel",
            "_view_count": null,
            "_view_module": "@jupyter-widgets/base",
            "_view_module_version": "1.2.0",
            "_view_name": "LayoutView",
            "align_content": null,
            "align_items": null,
            "align_self": null,
            "border": null,
            "bottom": null,
            "display": null,
            "flex": null,
            "flex_flow": null,
            "grid_area": null,
            "grid_auto_columns": null,
            "grid_auto_flow": null,
            "grid_auto_rows": null,
            "grid_column": null,
            "grid_gap": null,
            "grid_row": null,
            "grid_template_areas": null,
            "grid_template_columns": null,
            "grid_template_rows": null,
            "height": null,
            "justify_content": null,
            "justify_items": null,
            "left": null,
            "margin": null,
            "max_height": null,
            "max_width": null,
            "min_height": null,
            "min_width": null,
            "object_fit": null,
            "object_position": null,
            "order": null,
            "overflow": null,
            "overflow_x": null,
            "overflow_y": null,
            "padding": null,
            "right": null,
            "top": null,
            "visibility": null,
            "width": null
          }
        },
        "020a8332ec52427d8a7c2c90546fb2a9": {
          "model_module": "@jupyter-widgets/controls",
          "model_name": "DescriptionStyleModel",
          "model_module_version": "1.5.0",
          "state": {
            "_model_module": "@jupyter-widgets/controls",
            "_model_module_version": "1.5.0",
            "_model_name": "DescriptionStyleModel",
            "_view_count": null,
            "_view_module": "@jupyter-widgets/base",
            "_view_module_version": "1.2.0",
            "_view_name": "StyleView",
            "description_width": ""
          }
        },
        "eee1c59afdf341439f7c2f0d2d7e9f14": {
          "model_module": "@jupyter-widgets/base",
          "model_name": "LayoutModel",
          "model_module_version": "1.2.0",
          "state": {
            "_model_module": "@jupyter-widgets/base",
            "_model_module_version": "1.2.0",
            "_model_name": "LayoutModel",
            "_view_count": null,
            "_view_module": "@jupyter-widgets/base",
            "_view_module_version": "1.2.0",
            "_view_name": "LayoutView",
            "align_content": null,
            "align_items": null,
            "align_self": null,
            "border": null,
            "bottom": null,
            "display": null,
            "flex": null,
            "flex_flow": null,
            "grid_area": null,
            "grid_auto_columns": null,
            "grid_auto_flow": null,
            "grid_auto_rows": null,
            "grid_column": null,
            "grid_gap": null,
            "grid_row": null,
            "grid_template_areas": null,
            "grid_template_columns": null,
            "grid_template_rows": null,
            "height": null,
            "justify_content": null,
            "justify_items": null,
            "left": null,
            "margin": null,
            "max_height": null,
            "max_width": null,
            "min_height": null,
            "min_width": null,
            "object_fit": null,
            "object_position": null,
            "order": null,
            "overflow": null,
            "overflow_x": null,
            "overflow_y": null,
            "padding": null,
            "right": null,
            "top": null,
            "visibility": null,
            "width": null
          }
        },
        "4f30c87baaaf40e0ac5b689be89c6d3e": {
          "model_module": "@jupyter-widgets/controls",
          "model_name": "ProgressStyleModel",
          "model_module_version": "1.5.0",
          "state": {
            "_model_module": "@jupyter-widgets/controls",
            "_model_module_version": "1.5.0",
            "_model_name": "ProgressStyleModel",
            "_view_count": null,
            "_view_module": "@jupyter-widgets/base",
            "_view_module_version": "1.2.0",
            "_view_name": "StyleView",
            "bar_color": null,
            "description_width": ""
          }
        },
        "1f45e3425821444ca9e7e37920a6f4e0": {
          "model_module": "@jupyter-widgets/base",
          "model_name": "LayoutModel",
          "model_module_version": "1.2.0",
          "state": {
            "_model_module": "@jupyter-widgets/base",
            "_model_module_version": "1.2.0",
            "_model_name": "LayoutModel",
            "_view_count": null,
            "_view_module": "@jupyter-widgets/base",
            "_view_module_version": "1.2.0",
            "_view_name": "LayoutView",
            "align_content": null,
            "align_items": null,
            "align_self": null,
            "border": null,
            "bottom": null,
            "display": null,
            "flex": null,
            "flex_flow": null,
            "grid_area": null,
            "grid_auto_columns": null,
            "grid_auto_flow": null,
            "grid_auto_rows": null,
            "grid_column": null,
            "grid_gap": null,
            "grid_row": null,
            "grid_template_areas": null,
            "grid_template_columns": null,
            "grid_template_rows": null,
            "height": null,
            "justify_content": null,
            "justify_items": null,
            "left": null,
            "margin": null,
            "max_height": null,
            "max_width": null,
            "min_height": null,
            "min_width": null,
            "object_fit": null,
            "object_position": null,
            "order": null,
            "overflow": null,
            "overflow_x": null,
            "overflow_y": null,
            "padding": null,
            "right": null,
            "top": null,
            "visibility": null,
            "width": null
          }
        },
        "9e16af888e414ac6825b45c624195ca1": {
          "model_module": "@jupyter-widgets/controls",
          "model_name": "DescriptionStyleModel",
          "model_module_version": "1.5.0",
          "state": {
            "_model_module": "@jupyter-widgets/controls",
            "_model_module_version": "1.5.0",
            "_model_name": "DescriptionStyleModel",
            "_view_count": null,
            "_view_module": "@jupyter-widgets/base",
            "_view_module_version": "1.2.0",
            "_view_name": "StyleView",
            "description_width": ""
          }
        },
        "044d040f3b5540dba9ffc579a675663d": {
          "model_module": "@jupyter-widgets/controls",
          "model_name": "HBoxModel",
          "model_module_version": "1.5.0",
          "state": {
            "_dom_classes": [],
            "_model_module": "@jupyter-widgets/controls",
            "_model_module_version": "1.5.0",
            "_model_name": "HBoxModel",
            "_view_count": null,
            "_view_module": "@jupyter-widgets/controls",
            "_view_module_version": "1.5.0",
            "_view_name": "HBoxView",
            "box_style": "",
            "children": [
              "IPY_MODEL_0c285a4657f74647a113d984a308e0b8",
              "IPY_MODEL_7dc913f44c504dda847406aac49372ab",
              "IPY_MODEL_8b12dfdb6bbc46c09e8b8d9715f700f6"
            ],
            "layout": "IPY_MODEL_69fe01a11e9549beb0b7fd5c635ee874"
          }
        },
        "0c285a4657f74647a113d984a308e0b8": {
          "model_module": "@jupyter-widgets/controls",
          "model_name": "HTMLModel",
          "model_module_version": "1.5.0",
          "state": {
            "_dom_classes": [],
            "_model_module": "@jupyter-widgets/controls",
            "_model_module_version": "1.5.0",
            "_model_name": "HTMLModel",
            "_view_count": null,
            "_view_module": "@jupyter-widgets/controls",
            "_view_module_version": "1.5.0",
            "_view_name": "HTMLView",
            "description": "",
            "description_tooltip": null,
            "layout": "IPY_MODEL_1ded5ae572a54032a9e095a80027e1dc",
            "placeholder": "​",
            "style": "IPY_MODEL_cd391348d6a648fd84e9b81e79f8de53",
            "value": "special_tokens_map.json: 100%"
          }
        },
        "7dc913f44c504dda847406aac49372ab": {
          "model_module": "@jupyter-widgets/controls",
          "model_name": "FloatProgressModel",
          "model_module_version": "1.5.0",
          "state": {
            "_dom_classes": [],
            "_model_module": "@jupyter-widgets/controls",
            "_model_module_version": "1.5.0",
            "_model_name": "FloatProgressModel",
            "_view_count": null,
            "_view_module": "@jupyter-widgets/controls",
            "_view_module_version": "1.5.0",
            "_view_name": "ProgressView",
            "bar_style": "success",
            "description": "",
            "description_tooltip": null,
            "layout": "IPY_MODEL_ed1c1240300746ada6c7c9714b44d210",
            "max": 112,
            "min": 0,
            "orientation": "horizontal",
            "style": "IPY_MODEL_dee35e7d2987494d8b6aa70584298966",
            "value": 112
          }
        },
        "8b12dfdb6bbc46c09e8b8d9715f700f6": {
          "model_module": "@jupyter-widgets/controls",
          "model_name": "HTMLModel",
          "model_module_version": "1.5.0",
          "state": {
            "_dom_classes": [],
            "_model_module": "@jupyter-widgets/controls",
            "_model_module_version": "1.5.0",
            "_model_name": "HTMLModel",
            "_view_count": null,
            "_view_module": "@jupyter-widgets/controls",
            "_view_module_version": "1.5.0",
            "_view_name": "HTMLView",
            "description": "",
            "description_tooltip": null,
            "layout": "IPY_MODEL_a7d77f5b8e254317b979c72923587f0b",
            "placeholder": "​",
            "style": "IPY_MODEL_bb511ba0f95e4825bd8815f059641e90",
            "value": " 112/112 [00:00&lt;00:00, 8.52kB/s]"
          }
        },
        "69fe01a11e9549beb0b7fd5c635ee874": {
          "model_module": "@jupyter-widgets/base",
          "model_name": "LayoutModel",
          "model_module_version": "1.2.0",
          "state": {
            "_model_module": "@jupyter-widgets/base",
            "_model_module_version": "1.2.0",
            "_model_name": "LayoutModel",
            "_view_count": null,
            "_view_module": "@jupyter-widgets/base",
            "_view_module_version": "1.2.0",
            "_view_name": "LayoutView",
            "align_content": null,
            "align_items": null,
            "align_self": null,
            "border": null,
            "bottom": null,
            "display": null,
            "flex": null,
            "flex_flow": null,
            "grid_area": null,
            "grid_auto_columns": null,
            "grid_auto_flow": null,
            "grid_auto_rows": null,
            "grid_column": null,
            "grid_gap": null,
            "grid_row": null,
            "grid_template_areas": null,
            "grid_template_columns": null,
            "grid_template_rows": null,
            "height": null,
            "justify_content": null,
            "justify_items": null,
            "left": null,
            "margin": null,
            "max_height": null,
            "max_width": null,
            "min_height": null,
            "min_width": null,
            "object_fit": null,
            "object_position": null,
            "order": null,
            "overflow": null,
            "overflow_x": null,
            "overflow_y": null,
            "padding": null,
            "right": null,
            "top": null,
            "visibility": null,
            "width": null
          }
        },
        "1ded5ae572a54032a9e095a80027e1dc": {
          "model_module": "@jupyter-widgets/base",
          "model_name": "LayoutModel",
          "model_module_version": "1.2.0",
          "state": {
            "_model_module": "@jupyter-widgets/base",
            "_model_module_version": "1.2.0",
            "_model_name": "LayoutModel",
            "_view_count": null,
            "_view_module": "@jupyter-widgets/base",
            "_view_module_version": "1.2.0",
            "_view_name": "LayoutView",
            "align_content": null,
            "align_items": null,
            "align_self": null,
            "border": null,
            "bottom": null,
            "display": null,
            "flex": null,
            "flex_flow": null,
            "grid_area": null,
            "grid_auto_columns": null,
            "grid_auto_flow": null,
            "grid_auto_rows": null,
            "grid_column": null,
            "grid_gap": null,
            "grid_row": null,
            "grid_template_areas": null,
            "grid_template_columns": null,
            "grid_template_rows": null,
            "height": null,
            "justify_content": null,
            "justify_items": null,
            "left": null,
            "margin": null,
            "max_height": null,
            "max_width": null,
            "min_height": null,
            "min_width": null,
            "object_fit": null,
            "object_position": null,
            "order": null,
            "overflow": null,
            "overflow_x": null,
            "overflow_y": null,
            "padding": null,
            "right": null,
            "top": null,
            "visibility": null,
            "width": null
          }
        },
        "cd391348d6a648fd84e9b81e79f8de53": {
          "model_module": "@jupyter-widgets/controls",
          "model_name": "DescriptionStyleModel",
          "model_module_version": "1.5.0",
          "state": {
            "_model_module": "@jupyter-widgets/controls",
            "_model_module_version": "1.5.0",
            "_model_name": "DescriptionStyleModel",
            "_view_count": null,
            "_view_module": "@jupyter-widgets/base",
            "_view_module_version": "1.2.0",
            "_view_name": "StyleView",
            "description_width": ""
          }
        },
        "ed1c1240300746ada6c7c9714b44d210": {
          "model_module": "@jupyter-widgets/base",
          "model_name": "LayoutModel",
          "model_module_version": "1.2.0",
          "state": {
            "_model_module": "@jupyter-widgets/base",
            "_model_module_version": "1.2.0",
            "_model_name": "LayoutModel",
            "_view_count": null,
            "_view_module": "@jupyter-widgets/base",
            "_view_module_version": "1.2.0",
            "_view_name": "LayoutView",
            "align_content": null,
            "align_items": null,
            "align_self": null,
            "border": null,
            "bottom": null,
            "display": null,
            "flex": null,
            "flex_flow": null,
            "grid_area": null,
            "grid_auto_columns": null,
            "grid_auto_flow": null,
            "grid_auto_rows": null,
            "grid_column": null,
            "grid_gap": null,
            "grid_row": null,
            "grid_template_areas": null,
            "grid_template_columns": null,
            "grid_template_rows": null,
            "height": null,
            "justify_content": null,
            "justify_items": null,
            "left": null,
            "margin": null,
            "max_height": null,
            "max_width": null,
            "min_height": null,
            "min_width": null,
            "object_fit": null,
            "object_position": null,
            "order": null,
            "overflow": null,
            "overflow_x": null,
            "overflow_y": null,
            "padding": null,
            "right": null,
            "top": null,
            "visibility": null,
            "width": null
          }
        },
        "dee35e7d2987494d8b6aa70584298966": {
          "model_module": "@jupyter-widgets/controls",
          "model_name": "ProgressStyleModel",
          "model_module_version": "1.5.0",
          "state": {
            "_model_module": "@jupyter-widgets/controls",
            "_model_module_version": "1.5.0",
            "_model_name": "ProgressStyleModel",
            "_view_count": null,
            "_view_module": "@jupyter-widgets/base",
            "_view_module_version": "1.2.0",
            "_view_name": "StyleView",
            "bar_color": null,
            "description_width": ""
          }
        },
        "a7d77f5b8e254317b979c72923587f0b": {
          "model_module": "@jupyter-widgets/base",
          "model_name": "LayoutModel",
          "model_module_version": "1.2.0",
          "state": {
            "_model_module": "@jupyter-widgets/base",
            "_model_module_version": "1.2.0",
            "_model_name": "LayoutModel",
            "_view_count": null,
            "_view_module": "@jupyter-widgets/base",
            "_view_module_version": "1.2.0",
            "_view_name": "LayoutView",
            "align_content": null,
            "align_items": null,
            "align_self": null,
            "border": null,
            "bottom": null,
            "display": null,
            "flex": null,
            "flex_flow": null,
            "grid_area": null,
            "grid_auto_columns": null,
            "grid_auto_flow": null,
            "grid_auto_rows": null,
            "grid_column": null,
            "grid_gap": null,
            "grid_row": null,
            "grid_template_areas": null,
            "grid_template_columns": null,
            "grid_template_rows": null,
            "height": null,
            "justify_content": null,
            "justify_items": null,
            "left": null,
            "margin": null,
            "max_height": null,
            "max_width": null,
            "min_height": null,
            "min_width": null,
            "object_fit": null,
            "object_position": null,
            "order": null,
            "overflow": null,
            "overflow_x": null,
            "overflow_y": null,
            "padding": null,
            "right": null,
            "top": null,
            "visibility": null,
            "width": null
          }
        },
        "bb511ba0f95e4825bd8815f059641e90": {
          "model_module": "@jupyter-widgets/controls",
          "model_name": "DescriptionStyleModel",
          "model_module_version": "1.5.0",
          "state": {
            "_model_module": "@jupyter-widgets/controls",
            "_model_module_version": "1.5.0",
            "_model_name": "DescriptionStyleModel",
            "_view_count": null,
            "_view_module": "@jupyter-widgets/base",
            "_view_module_version": "1.2.0",
            "_view_name": "StyleView",
            "description_width": ""
          }
        },
        "70f5f5611f194627a9d766d832274a51": {
          "model_module": "@jupyter-widgets/controls",
          "model_name": "HBoxModel",
          "model_module_version": "1.5.0",
          "state": {
            "_dom_classes": [],
            "_model_module": "@jupyter-widgets/controls",
            "_model_module_version": "1.5.0",
            "_model_name": "HBoxModel",
            "_view_count": null,
            "_view_module": "@jupyter-widgets/controls",
            "_view_module_version": "1.5.0",
            "_view_name": "HBoxView",
            "box_style": "",
            "children": [
              "IPY_MODEL_95f7b5bc8bc94253a9168a16af727590",
              "IPY_MODEL_acb8a8eae7314a0cad8cff5ec0b4b4d7",
              "IPY_MODEL_914f6cb7c1284654a11564e00525925c"
            ],
            "layout": "IPY_MODEL_6b6b0f5b9b934c8086a0a69498ddb91a"
          }
        },
        "95f7b5bc8bc94253a9168a16af727590": {
          "model_module": "@jupyter-widgets/controls",
          "model_name": "HTMLModel",
          "model_module_version": "1.5.0",
          "state": {
            "_dom_classes": [],
            "_model_module": "@jupyter-widgets/controls",
            "_model_module_version": "1.5.0",
            "_model_name": "HTMLModel",
            "_view_count": null,
            "_view_module": "@jupyter-widgets/controls",
            "_view_module_version": "1.5.0",
            "_view_name": "HTMLView",
            "description": "",
            "description_tooltip": null,
            "layout": "IPY_MODEL_4ec67737c6174be7a9ce3e8f5d5fa424",
            "placeholder": "​",
            "style": "IPY_MODEL_96233968749a49bfb6432bebaa48238e",
            "value": "pytorch_model.bin: 100%"
          }
        },
        "acb8a8eae7314a0cad8cff5ec0b4b4d7": {
          "model_module": "@jupyter-widgets/controls",
          "model_name": "FloatProgressModel",
          "model_module_version": "1.5.0",
          "state": {
            "_dom_classes": [],
            "_model_module": "@jupyter-widgets/controls",
            "_model_module_version": "1.5.0",
            "_model_name": "FloatProgressModel",
            "_view_count": null,
            "_view_module": "@jupyter-widgets/controls",
            "_view_module_version": "1.5.0",
            "_view_name": "ProgressView",
            "bar_style": "success",
            "description": "",
            "description_tooltip": null,
            "layout": "IPY_MODEL_f21a5561ee63490c9f83fc9f7bbef7c5",
            "max": 714355318,
            "min": 0,
            "orientation": "horizontal",
            "style": "IPY_MODEL_2facc06a026842f5924fa809cd8442b3",
            "value": 714355318
          }
        },
        "914f6cb7c1284654a11564e00525925c": {
          "model_module": "@jupyter-widgets/controls",
          "model_name": "HTMLModel",
          "model_module_version": "1.5.0",
          "state": {
            "_dom_classes": [],
            "_model_module": "@jupyter-widgets/controls",
            "_model_module_version": "1.5.0",
            "_model_name": "HTMLModel",
            "_view_count": null,
            "_view_module": "@jupyter-widgets/controls",
            "_view_module_version": "1.5.0",
            "_view_name": "HTMLView",
            "description": "",
            "description_tooltip": null,
            "layout": "IPY_MODEL_c49aaeea37e14539bc0ec72afb778da4",
            "placeholder": "​",
            "style": "IPY_MODEL_91179019ae0944959aca8d67bd13e13e",
            "value": " 714M/714M [00:02&lt;00:00, 259MB/s]"
          }
        },
        "6b6b0f5b9b934c8086a0a69498ddb91a": {
          "model_module": "@jupyter-widgets/base",
          "model_name": "LayoutModel",
          "model_module_version": "1.2.0",
          "state": {
            "_model_module": "@jupyter-widgets/base",
            "_model_module_version": "1.2.0",
            "_model_name": "LayoutModel",
            "_view_count": null,
            "_view_module": "@jupyter-widgets/base",
            "_view_module_version": "1.2.0",
            "_view_name": "LayoutView",
            "align_content": null,
            "align_items": null,
            "align_self": null,
            "border": null,
            "bottom": null,
            "display": null,
            "flex": null,
            "flex_flow": null,
            "grid_area": null,
            "grid_auto_columns": null,
            "grid_auto_flow": null,
            "grid_auto_rows": null,
            "grid_column": null,
            "grid_gap": null,
            "grid_row": null,
            "grid_template_areas": null,
            "grid_template_columns": null,
            "grid_template_rows": null,
            "height": null,
            "justify_content": null,
            "justify_items": null,
            "left": null,
            "margin": null,
            "max_height": null,
            "max_width": null,
            "min_height": null,
            "min_width": null,
            "object_fit": null,
            "object_position": null,
            "order": null,
            "overflow": null,
            "overflow_x": null,
            "overflow_y": null,
            "padding": null,
            "right": null,
            "top": null,
            "visibility": null,
            "width": null
          }
        },
        "4ec67737c6174be7a9ce3e8f5d5fa424": {
          "model_module": "@jupyter-widgets/base",
          "model_name": "LayoutModel",
          "model_module_version": "1.2.0",
          "state": {
            "_model_module": "@jupyter-widgets/base",
            "_model_module_version": "1.2.0",
            "_model_name": "LayoutModel",
            "_view_count": null,
            "_view_module": "@jupyter-widgets/base",
            "_view_module_version": "1.2.0",
            "_view_name": "LayoutView",
            "align_content": null,
            "align_items": null,
            "align_self": null,
            "border": null,
            "bottom": null,
            "display": null,
            "flex": null,
            "flex_flow": null,
            "grid_area": null,
            "grid_auto_columns": null,
            "grid_auto_flow": null,
            "grid_auto_rows": null,
            "grid_column": null,
            "grid_gap": null,
            "grid_row": null,
            "grid_template_areas": null,
            "grid_template_columns": null,
            "grid_template_rows": null,
            "height": null,
            "justify_content": null,
            "justify_items": null,
            "left": null,
            "margin": null,
            "max_height": null,
            "max_width": null,
            "min_height": null,
            "min_width": null,
            "object_fit": null,
            "object_position": null,
            "order": null,
            "overflow": null,
            "overflow_x": null,
            "overflow_y": null,
            "padding": null,
            "right": null,
            "top": null,
            "visibility": null,
            "width": null
          }
        },
        "96233968749a49bfb6432bebaa48238e": {
          "model_module": "@jupyter-widgets/controls",
          "model_name": "DescriptionStyleModel",
          "model_module_version": "1.5.0",
          "state": {
            "_model_module": "@jupyter-widgets/controls",
            "_model_module_version": "1.5.0",
            "_model_name": "DescriptionStyleModel",
            "_view_count": null,
            "_view_module": "@jupyter-widgets/base",
            "_view_module_version": "1.2.0",
            "_view_name": "StyleView",
            "description_width": ""
          }
        },
        "f21a5561ee63490c9f83fc9f7bbef7c5": {
          "model_module": "@jupyter-widgets/base",
          "model_name": "LayoutModel",
          "model_module_version": "1.2.0",
          "state": {
            "_model_module": "@jupyter-widgets/base",
            "_model_module_version": "1.2.0",
            "_model_name": "LayoutModel",
            "_view_count": null,
            "_view_module": "@jupyter-widgets/base",
            "_view_module_version": "1.2.0",
            "_view_name": "LayoutView",
            "align_content": null,
            "align_items": null,
            "align_self": null,
            "border": null,
            "bottom": null,
            "display": null,
            "flex": null,
            "flex_flow": null,
            "grid_area": null,
            "grid_auto_columns": null,
            "grid_auto_flow": null,
            "grid_auto_rows": null,
            "grid_column": null,
            "grid_gap": null,
            "grid_row": null,
            "grid_template_areas": null,
            "grid_template_columns": null,
            "grid_template_rows": null,
            "height": null,
            "justify_content": null,
            "justify_items": null,
            "left": null,
            "margin": null,
            "max_height": null,
            "max_width": null,
            "min_height": null,
            "min_width": null,
            "object_fit": null,
            "object_position": null,
            "order": null,
            "overflow": null,
            "overflow_x": null,
            "overflow_y": null,
            "padding": null,
            "right": null,
            "top": null,
            "visibility": null,
            "width": null
          }
        },
        "2facc06a026842f5924fa809cd8442b3": {
          "model_module": "@jupyter-widgets/controls",
          "model_name": "ProgressStyleModel",
          "model_module_version": "1.5.0",
          "state": {
            "_model_module": "@jupyter-widgets/controls",
            "_model_module_version": "1.5.0",
            "_model_name": "ProgressStyleModel",
            "_view_count": null,
            "_view_module": "@jupyter-widgets/base",
            "_view_module_version": "1.2.0",
            "_view_name": "StyleView",
            "bar_color": null,
            "description_width": ""
          }
        },
        "c49aaeea37e14539bc0ec72afb778da4": {
          "model_module": "@jupyter-widgets/base",
          "model_name": "LayoutModel",
          "model_module_version": "1.2.0",
          "state": {
            "_model_module": "@jupyter-widgets/base",
            "_model_module_version": "1.2.0",
            "_model_name": "LayoutModel",
            "_view_count": null,
            "_view_module": "@jupyter-widgets/base",
            "_view_module_version": "1.2.0",
            "_view_name": "LayoutView",
            "align_content": null,
            "align_items": null,
            "align_self": null,
            "border": null,
            "bottom": null,
            "display": null,
            "flex": null,
            "flex_flow": null,
            "grid_area": null,
            "grid_auto_columns": null,
            "grid_auto_flow": null,
            "grid_auto_rows": null,
            "grid_column": null,
            "grid_gap": null,
            "grid_row": null,
            "grid_template_areas": null,
            "grid_template_columns": null,
            "grid_template_rows": null,
            "height": null,
            "justify_content": null,
            "justify_items": null,
            "left": null,
            "margin": null,
            "max_height": null,
            "max_width": null,
            "min_height": null,
            "min_width": null,
            "object_fit": null,
            "object_position": null,
            "order": null,
            "overflow": null,
            "overflow_x": null,
            "overflow_y": null,
            "padding": null,
            "right": null,
            "top": null,
            "visibility": null,
            "width": null
          }
        },
        "91179019ae0944959aca8d67bd13e13e": {
          "model_module": "@jupyter-widgets/controls",
          "model_name": "DescriptionStyleModel",
          "model_module_version": "1.5.0",
          "state": {
            "_model_module": "@jupyter-widgets/controls",
            "_model_module_version": "1.5.0",
            "_model_name": "DescriptionStyleModel",
            "_view_count": null,
            "_view_module": "@jupyter-widgets/base",
            "_view_module_version": "1.2.0",
            "_view_name": "StyleView",
            "description_width": ""
          }
        },
        "d7c73f75d94243938f168c44b536bd82": {
          "model_module": "@jupyter-widgets/controls",
          "model_name": "HBoxModel",
          "model_module_version": "1.5.0",
          "state": {
            "_dom_classes": [],
            "_model_module": "@jupyter-widgets/controls",
            "_model_module_version": "1.5.0",
            "_model_name": "HBoxModel",
            "_view_count": null,
            "_view_module": "@jupyter-widgets/controls",
            "_view_module_version": "1.5.0",
            "_view_name": "HBoxView",
            "box_style": "",
            "children": [
              "IPY_MODEL_32c9c4da98be430786efcd1a91e08982",
              "IPY_MODEL_1bf6efe61b084fdc9182b86c5476c88f",
              "IPY_MODEL_b5de56ade44f423d81ae51f1a0f942a4"
            ],
            "layout": "IPY_MODEL_afe6c5c28519444690834ca156881fc1"
          }
        },
        "32c9c4da98be430786efcd1a91e08982": {
          "model_module": "@jupyter-widgets/controls",
          "model_name": "HTMLModel",
          "model_module_version": "1.5.0",
          "state": {
            "_dom_classes": [],
            "_model_module": "@jupyter-widgets/controls",
            "_model_module_version": "1.5.0",
            "_model_name": "HTMLModel",
            "_view_count": null,
            "_view_module": "@jupyter-widgets/controls",
            "_view_module_version": "1.5.0",
            "_view_name": "HTMLView",
            "description": "",
            "description_tooltip": null,
            "layout": "IPY_MODEL_00e2b7e03f1540be98431ad76b84c217",
            "placeholder": "​",
            "style": "IPY_MODEL_674e7c2371864e37bdef5316021367d2",
            "value": "tokenizer_config.json: 100%"
          }
        },
        "1bf6efe61b084fdc9182b86c5476c88f": {
          "model_module": "@jupyter-widgets/controls",
          "model_name": "FloatProgressModel",
          "model_module_version": "1.5.0",
          "state": {
            "_dom_classes": [],
            "_model_module": "@jupyter-widgets/controls",
            "_model_module_version": "1.5.0",
            "_model_name": "FloatProgressModel",
            "_view_count": null,
            "_view_module": "@jupyter-widgets/controls",
            "_view_module_version": "1.5.0",
            "_view_name": "ProgressView",
            "bar_style": "success",
            "description": "",
            "description_tooltip": null,
            "layout": "IPY_MODEL_7ec8c858ee114b199301af9bb5f5623d",
            "max": 24,
            "min": 0,
            "orientation": "horizontal",
            "style": "IPY_MODEL_8ce294af20d6473b93d886e37ef6816f",
            "value": 24
          }
        },
        "b5de56ade44f423d81ae51f1a0f942a4": {
          "model_module": "@jupyter-widgets/controls",
          "model_name": "HTMLModel",
          "model_module_version": "1.5.0",
          "state": {
            "_dom_classes": [],
            "_model_module": "@jupyter-widgets/controls",
            "_model_module_version": "1.5.0",
            "_model_name": "HTMLModel",
            "_view_count": null,
            "_view_module": "@jupyter-widgets/controls",
            "_view_module_version": "1.5.0",
            "_view_name": "HTMLView",
            "description": "",
            "description_tooltip": null,
            "layout": "IPY_MODEL_e75a3db7b6c4467e99e750aa65b26f17",
            "placeholder": "​",
            "style": "IPY_MODEL_d672261e7df64e93b6bccb7b698e383d",
            "value": " 24.0/24.0 [00:00&lt;00:00, 1.50kB/s]"
          }
        },
        "afe6c5c28519444690834ca156881fc1": {
          "model_module": "@jupyter-widgets/base",
          "model_name": "LayoutModel",
          "model_module_version": "1.2.0",
          "state": {
            "_model_module": "@jupyter-widgets/base",
            "_model_module_version": "1.2.0",
            "_model_name": "LayoutModel",
            "_view_count": null,
            "_view_module": "@jupyter-widgets/base",
            "_view_module_version": "1.2.0",
            "_view_name": "LayoutView",
            "align_content": null,
            "align_items": null,
            "align_self": null,
            "border": null,
            "bottom": null,
            "display": null,
            "flex": null,
            "flex_flow": null,
            "grid_area": null,
            "grid_auto_columns": null,
            "grid_auto_flow": null,
            "grid_auto_rows": null,
            "grid_column": null,
            "grid_gap": null,
            "grid_row": null,
            "grid_template_areas": null,
            "grid_template_columns": null,
            "grid_template_rows": null,
            "height": null,
            "justify_content": null,
            "justify_items": null,
            "left": null,
            "margin": null,
            "max_height": null,
            "max_width": null,
            "min_height": null,
            "min_width": null,
            "object_fit": null,
            "object_position": null,
            "order": null,
            "overflow": null,
            "overflow_x": null,
            "overflow_y": null,
            "padding": null,
            "right": null,
            "top": null,
            "visibility": null,
            "width": null
          }
        },
        "00e2b7e03f1540be98431ad76b84c217": {
          "model_module": "@jupyter-widgets/base",
          "model_name": "LayoutModel",
          "model_module_version": "1.2.0",
          "state": {
            "_model_module": "@jupyter-widgets/base",
            "_model_module_version": "1.2.0",
            "_model_name": "LayoutModel",
            "_view_count": null,
            "_view_module": "@jupyter-widgets/base",
            "_view_module_version": "1.2.0",
            "_view_name": "LayoutView",
            "align_content": null,
            "align_items": null,
            "align_self": null,
            "border": null,
            "bottom": null,
            "display": null,
            "flex": null,
            "flex_flow": null,
            "grid_area": null,
            "grid_auto_columns": null,
            "grid_auto_flow": null,
            "grid_auto_rows": null,
            "grid_column": null,
            "grid_gap": null,
            "grid_row": null,
            "grid_template_areas": null,
            "grid_template_columns": null,
            "grid_template_rows": null,
            "height": null,
            "justify_content": null,
            "justify_items": null,
            "left": null,
            "margin": null,
            "max_height": null,
            "max_width": null,
            "min_height": null,
            "min_width": null,
            "object_fit": null,
            "object_position": null,
            "order": null,
            "overflow": null,
            "overflow_x": null,
            "overflow_y": null,
            "padding": null,
            "right": null,
            "top": null,
            "visibility": null,
            "width": null
          }
        },
        "674e7c2371864e37bdef5316021367d2": {
          "model_module": "@jupyter-widgets/controls",
          "model_name": "DescriptionStyleModel",
          "model_module_version": "1.5.0",
          "state": {
            "_model_module": "@jupyter-widgets/controls",
            "_model_module_version": "1.5.0",
            "_model_name": "DescriptionStyleModel",
            "_view_count": null,
            "_view_module": "@jupyter-widgets/base",
            "_view_module_version": "1.2.0",
            "_view_name": "StyleView",
            "description_width": ""
          }
        },
        "7ec8c858ee114b199301af9bb5f5623d": {
          "model_module": "@jupyter-widgets/base",
          "model_name": "LayoutModel",
          "model_module_version": "1.2.0",
          "state": {
            "_model_module": "@jupyter-widgets/base",
            "_model_module_version": "1.2.0",
            "_model_name": "LayoutModel",
            "_view_count": null,
            "_view_module": "@jupyter-widgets/base",
            "_view_module_version": "1.2.0",
            "_view_name": "LayoutView",
            "align_content": null,
            "align_items": null,
            "align_self": null,
            "border": null,
            "bottom": null,
            "display": null,
            "flex": null,
            "flex_flow": null,
            "grid_area": null,
            "grid_auto_columns": null,
            "grid_auto_flow": null,
            "grid_auto_rows": null,
            "grid_column": null,
            "grid_gap": null,
            "grid_row": null,
            "grid_template_areas": null,
            "grid_template_columns": null,
            "grid_template_rows": null,
            "height": null,
            "justify_content": null,
            "justify_items": null,
            "left": null,
            "margin": null,
            "max_height": null,
            "max_width": null,
            "min_height": null,
            "min_width": null,
            "object_fit": null,
            "object_position": null,
            "order": null,
            "overflow": null,
            "overflow_x": null,
            "overflow_y": null,
            "padding": null,
            "right": null,
            "top": null,
            "visibility": null,
            "width": null
          }
        },
        "8ce294af20d6473b93d886e37ef6816f": {
          "model_module": "@jupyter-widgets/controls",
          "model_name": "ProgressStyleModel",
          "model_module_version": "1.5.0",
          "state": {
            "_model_module": "@jupyter-widgets/controls",
            "_model_module_version": "1.5.0",
            "_model_name": "ProgressStyleModel",
            "_view_count": null,
            "_view_module": "@jupyter-widgets/base",
            "_view_module_version": "1.2.0",
            "_view_name": "StyleView",
            "bar_color": null,
            "description_width": ""
          }
        },
        "e75a3db7b6c4467e99e750aa65b26f17": {
          "model_module": "@jupyter-widgets/base",
          "model_name": "LayoutModel",
          "model_module_version": "1.2.0",
          "state": {
            "_model_module": "@jupyter-widgets/base",
            "_model_module_version": "1.2.0",
            "_model_name": "LayoutModel",
            "_view_count": null,
            "_view_module": "@jupyter-widgets/base",
            "_view_module_version": "1.2.0",
            "_view_name": "LayoutView",
            "align_content": null,
            "align_items": null,
            "align_self": null,
            "border": null,
            "bottom": null,
            "display": null,
            "flex": null,
            "flex_flow": null,
            "grid_area": null,
            "grid_auto_columns": null,
            "grid_auto_flow": null,
            "grid_auto_rows": null,
            "grid_column": null,
            "grid_gap": null,
            "grid_row": null,
            "grid_template_areas": null,
            "grid_template_columns": null,
            "grid_template_rows": null,
            "height": null,
            "justify_content": null,
            "justify_items": null,
            "left": null,
            "margin": null,
            "max_height": null,
            "max_width": null,
            "min_height": null,
            "min_width": null,
            "object_fit": null,
            "object_position": null,
            "order": null,
            "overflow": null,
            "overflow_x": null,
            "overflow_y": null,
            "padding": null,
            "right": null,
            "top": null,
            "visibility": null,
            "width": null
          }
        },
        "d672261e7df64e93b6bccb7b698e383d": {
          "model_module": "@jupyter-widgets/controls",
          "model_name": "DescriptionStyleModel",
          "model_module_version": "1.5.0",
          "state": {
            "_model_module": "@jupyter-widgets/controls",
            "_model_module_version": "1.5.0",
            "_model_name": "DescriptionStyleModel",
            "_view_count": null,
            "_view_module": "@jupyter-widgets/base",
            "_view_module_version": "1.2.0",
            "_view_name": "StyleView",
            "description_width": ""
          }
        },
        "a97d0ff8203a4ae3a6da46c795a20038": {
          "model_module": "@jupyter-widgets/controls",
          "model_name": "HBoxModel",
          "model_module_version": "1.5.0",
          "state": {
            "_dom_classes": [],
            "_model_module": "@jupyter-widgets/controls",
            "_model_module_version": "1.5.0",
            "_model_name": "HBoxModel",
            "_view_count": null,
            "_view_module": "@jupyter-widgets/controls",
            "_view_module_version": "1.5.0",
            "_view_name": "HBoxView",
            "box_style": "",
            "children": [
              "IPY_MODEL_f2fcf33c929e45f7b7f5789481b5bc48",
              "IPY_MODEL_629c56cd044547bd99b3807e8039166f",
              "IPY_MODEL_ba189746955f4eaba373d24df2f76039"
            ],
            "layout": "IPY_MODEL_df659fc0993d4c66a937f21759a19017"
          }
        },
        "f2fcf33c929e45f7b7f5789481b5bc48": {
          "model_module": "@jupyter-widgets/controls",
          "model_name": "HTMLModel",
          "model_module_version": "1.5.0",
          "state": {
            "_dom_classes": [],
            "_model_module": "@jupyter-widgets/controls",
            "_model_module_version": "1.5.0",
            "_model_name": "HTMLModel",
            "_view_count": null,
            "_view_module": "@jupyter-widgets/controls",
            "_view_module_version": "1.5.0",
            "_view_name": "HTMLView",
            "description": "",
            "description_tooltip": null,
            "layout": "IPY_MODEL_359dbeb921c943aa8f1d9fc1e80157e0",
            "placeholder": "​",
            "style": "IPY_MODEL_fe0c33877285484584a029ca0217f9a2",
            "value": "config.json: 100%"
          }
        },
        "629c56cd044547bd99b3807e8039166f": {
          "model_module": "@jupyter-widgets/controls",
          "model_name": "FloatProgressModel",
          "model_module_version": "1.5.0",
          "state": {
            "_dom_classes": [],
            "_model_module": "@jupyter-widgets/controls",
            "_model_module_version": "1.5.0",
            "_model_name": "FloatProgressModel",
            "_view_count": null,
            "_view_module": "@jupyter-widgets/controls",
            "_view_module_version": "1.5.0",
            "_view_name": "ProgressView",
            "bar_style": "success",
            "description": "",
            "description_tooltip": null,
            "layout": "IPY_MODEL_cf763801433a4151a6376ab85af220d2",
            "max": 642,
            "min": 0,
            "orientation": "horizontal",
            "style": "IPY_MODEL_3682dfdc0c3e4dbdbfb545b3a65ff5fc",
            "value": 642
          }
        },
        "ba189746955f4eaba373d24df2f76039": {
          "model_module": "@jupyter-widgets/controls",
          "model_name": "HTMLModel",
          "model_module_version": "1.5.0",
          "state": {
            "_dom_classes": [],
            "_model_module": "@jupyter-widgets/controls",
            "_model_module_version": "1.5.0",
            "_model_name": "HTMLModel",
            "_view_count": null,
            "_view_module": "@jupyter-widgets/controls",
            "_view_module_version": "1.5.0",
            "_view_name": "HTMLView",
            "description": "",
            "description_tooltip": null,
            "layout": "IPY_MODEL_a5c1e1d42a054c499d75b8f0fe025bb2",
            "placeholder": "​",
            "style": "IPY_MODEL_90745fdd8f0442a597c258e1673d9fb5",
            "value": " 642/642 [00:00&lt;00:00, 46.0kB/s]"
          }
        },
        "df659fc0993d4c66a937f21759a19017": {
          "model_module": "@jupyter-widgets/base",
          "model_name": "LayoutModel",
          "model_module_version": "1.2.0",
          "state": {
            "_model_module": "@jupyter-widgets/base",
            "_model_module_version": "1.2.0",
            "_model_name": "LayoutModel",
            "_view_count": null,
            "_view_module": "@jupyter-widgets/base",
            "_view_module_version": "1.2.0",
            "_view_name": "LayoutView",
            "align_content": null,
            "align_items": null,
            "align_self": null,
            "border": null,
            "bottom": null,
            "display": null,
            "flex": null,
            "flex_flow": null,
            "grid_area": null,
            "grid_auto_columns": null,
            "grid_auto_flow": null,
            "grid_auto_rows": null,
            "grid_column": null,
            "grid_gap": null,
            "grid_row": null,
            "grid_template_areas": null,
            "grid_template_columns": null,
            "grid_template_rows": null,
            "height": null,
            "justify_content": null,
            "justify_items": null,
            "left": null,
            "margin": null,
            "max_height": null,
            "max_width": null,
            "min_height": null,
            "min_width": null,
            "object_fit": null,
            "object_position": null,
            "order": null,
            "overflow": null,
            "overflow_x": null,
            "overflow_y": null,
            "padding": null,
            "right": null,
            "top": null,
            "visibility": null,
            "width": null
          }
        },
        "359dbeb921c943aa8f1d9fc1e80157e0": {
          "model_module": "@jupyter-widgets/base",
          "model_name": "LayoutModel",
          "model_module_version": "1.2.0",
          "state": {
            "_model_module": "@jupyter-widgets/base",
            "_model_module_version": "1.2.0",
            "_model_name": "LayoutModel",
            "_view_count": null,
            "_view_module": "@jupyter-widgets/base",
            "_view_module_version": "1.2.0",
            "_view_name": "LayoutView",
            "align_content": null,
            "align_items": null,
            "align_self": null,
            "border": null,
            "bottom": null,
            "display": null,
            "flex": null,
            "flex_flow": null,
            "grid_area": null,
            "grid_auto_columns": null,
            "grid_auto_flow": null,
            "grid_auto_rows": null,
            "grid_column": null,
            "grid_gap": null,
            "grid_row": null,
            "grid_template_areas": null,
            "grid_template_columns": null,
            "grid_template_rows": null,
            "height": null,
            "justify_content": null,
            "justify_items": null,
            "left": null,
            "margin": null,
            "max_height": null,
            "max_width": null,
            "min_height": null,
            "min_width": null,
            "object_fit": null,
            "object_position": null,
            "order": null,
            "overflow": null,
            "overflow_x": null,
            "overflow_y": null,
            "padding": null,
            "right": null,
            "top": null,
            "visibility": null,
            "width": null
          }
        },
        "fe0c33877285484584a029ca0217f9a2": {
          "model_module": "@jupyter-widgets/controls",
          "model_name": "DescriptionStyleModel",
          "model_module_version": "1.5.0",
          "state": {
            "_model_module": "@jupyter-widgets/controls",
            "_model_module_version": "1.5.0",
            "_model_name": "DescriptionStyleModel",
            "_view_count": null,
            "_view_module": "@jupyter-widgets/base",
            "_view_module_version": "1.2.0",
            "_view_name": "StyleView",
            "description_width": ""
          }
        },
        "cf763801433a4151a6376ab85af220d2": {
          "model_module": "@jupyter-widgets/base",
          "model_name": "LayoutModel",
          "model_module_version": "1.2.0",
          "state": {
            "_model_module": "@jupyter-widgets/base",
            "_model_module_version": "1.2.0",
            "_model_name": "LayoutModel",
            "_view_count": null,
            "_view_module": "@jupyter-widgets/base",
            "_view_module_version": "1.2.0",
            "_view_name": "LayoutView",
            "align_content": null,
            "align_items": null,
            "align_self": null,
            "border": null,
            "bottom": null,
            "display": null,
            "flex": null,
            "flex_flow": null,
            "grid_area": null,
            "grid_auto_columns": null,
            "grid_auto_flow": null,
            "grid_auto_rows": null,
            "grid_column": null,
            "grid_gap": null,
            "grid_row": null,
            "grid_template_areas": null,
            "grid_template_columns": null,
            "grid_template_rows": null,
            "height": null,
            "justify_content": null,
            "justify_items": null,
            "left": null,
            "margin": null,
            "max_height": null,
            "max_width": null,
            "min_height": null,
            "min_width": null,
            "object_fit": null,
            "object_position": null,
            "order": null,
            "overflow": null,
            "overflow_x": null,
            "overflow_y": null,
            "padding": null,
            "right": null,
            "top": null,
            "visibility": null,
            "width": null
          }
        },
        "3682dfdc0c3e4dbdbfb545b3a65ff5fc": {
          "model_module": "@jupyter-widgets/controls",
          "model_name": "ProgressStyleModel",
          "model_module_version": "1.5.0",
          "state": {
            "_model_module": "@jupyter-widgets/controls",
            "_model_module_version": "1.5.0",
            "_model_name": "ProgressStyleModel",
            "_view_count": null,
            "_view_module": "@jupyter-widgets/base",
            "_view_module_version": "1.2.0",
            "_view_name": "StyleView",
            "bar_color": null,
            "description_width": ""
          }
        },
        "a5c1e1d42a054c499d75b8f0fe025bb2": {
          "model_module": "@jupyter-widgets/base",
          "model_name": "LayoutModel",
          "model_module_version": "1.2.0",
          "state": {
            "_model_module": "@jupyter-widgets/base",
            "_model_module_version": "1.2.0",
            "_model_name": "LayoutModel",
            "_view_count": null,
            "_view_module": "@jupyter-widgets/base",
            "_view_module_version": "1.2.0",
            "_view_name": "LayoutView",
            "align_content": null,
            "align_items": null,
            "align_self": null,
            "border": null,
            "bottom": null,
            "display": null,
            "flex": null,
            "flex_flow": null,
            "grid_area": null,
            "grid_auto_columns": null,
            "grid_auto_flow": null,
            "grid_auto_rows": null,
            "grid_column": null,
            "grid_gap": null,
            "grid_row": null,
            "grid_template_areas": null,
            "grid_template_columns": null,
            "grid_template_rows": null,
            "height": null,
            "justify_content": null,
            "justify_items": null,
            "left": null,
            "margin": null,
            "max_height": null,
            "max_width": null,
            "min_height": null,
            "min_width": null,
            "object_fit": null,
            "object_position": null,
            "order": null,
            "overflow": null,
            "overflow_x": null,
            "overflow_y": null,
            "padding": null,
            "right": null,
            "top": null,
            "visibility": null,
            "width": null
          }
        },
        "90745fdd8f0442a597c258e1673d9fb5": {
          "model_module": "@jupyter-widgets/controls",
          "model_name": "DescriptionStyleModel",
          "model_module_version": "1.5.0",
          "state": {
            "_model_module": "@jupyter-widgets/controls",
            "_model_module_version": "1.5.0",
            "_model_name": "DescriptionStyleModel",
            "_view_count": null,
            "_view_module": "@jupyter-widgets/base",
            "_view_module_version": "1.2.0",
            "_view_name": "StyleView",
            "description_width": ""
          }
        },
        "bbb12b9e7d634548a613192114ff5097": {
          "model_module": "@jupyter-widgets/controls",
          "model_name": "HBoxModel",
          "model_module_version": "1.5.0",
          "state": {
            "_dom_classes": [],
            "_model_module": "@jupyter-widgets/controls",
            "_model_module_version": "1.5.0",
            "_model_name": "HBoxModel",
            "_view_count": null,
            "_view_module": "@jupyter-widgets/controls",
            "_view_module_version": "1.5.0",
            "_view_name": "HBoxView",
            "box_style": "",
            "children": [
              "IPY_MODEL_2dae56b58c6743d5a8ec67333d4155cf",
              "IPY_MODEL_793ec0d44d934e1d9b274da7ca3d239d",
              "IPY_MODEL_de2d151bec5e40318023f5898fb63f31"
            ],
            "layout": "IPY_MODEL_e3dc47c1d31f4fe4a2c1bbf9c30b5416"
          }
        },
        "2dae56b58c6743d5a8ec67333d4155cf": {
          "model_module": "@jupyter-widgets/controls",
          "model_name": "HTMLModel",
          "model_module_version": "1.5.0",
          "state": {
            "_dom_classes": [],
            "_model_module": "@jupyter-widgets/controls",
            "_model_module_version": "1.5.0",
            "_model_name": "HTMLModel",
            "_view_count": null,
            "_view_module": "@jupyter-widgets/controls",
            "_view_module_version": "1.5.0",
            "_view_name": "HTMLView",
            "description": "",
            "description_tooltip": null,
            "layout": "IPY_MODEL_8f786f574bf54587bb70b1398f0e0716",
            "placeholder": "​",
            "style": "IPY_MODEL_d818713ddf3a4f18bfe62c33f9389c2e",
            "value": "vocab.txt: 100%"
          }
        },
        "793ec0d44d934e1d9b274da7ca3d239d": {
          "model_module": "@jupyter-widgets/controls",
          "model_name": "FloatProgressModel",
          "model_module_version": "1.5.0",
          "state": {
            "_dom_classes": [],
            "_model_module": "@jupyter-widgets/controls",
            "_model_module_version": "1.5.0",
            "_model_name": "FloatProgressModel",
            "_view_count": null,
            "_view_module": "@jupyter-widgets/controls",
            "_view_module_version": "1.5.0",
            "_view_name": "ProgressView",
            "bar_style": "success",
            "description": "",
            "description_tooltip": null,
            "layout": "IPY_MODEL_41ccd7b64a754615834cb20991f833d0",
            "max": 1649718,
            "min": 0,
            "orientation": "horizontal",
            "style": "IPY_MODEL_5ea4bbcb193a48aea49f32f508acc615",
            "value": 1649718
          }
        },
        "de2d151bec5e40318023f5898fb63f31": {
          "model_module": "@jupyter-widgets/controls",
          "model_name": "HTMLModel",
          "model_module_version": "1.5.0",
          "state": {
            "_dom_classes": [],
            "_model_module": "@jupyter-widgets/controls",
            "_model_module_version": "1.5.0",
            "_model_name": "HTMLModel",
            "_view_count": null,
            "_view_module": "@jupyter-widgets/controls",
            "_view_module_version": "1.5.0",
            "_view_name": "HTMLView",
            "description": "",
            "description_tooltip": null,
            "layout": "IPY_MODEL_afdfee1993644fbba96d978e2525b6f4",
            "placeholder": "​",
            "style": "IPY_MODEL_dd1ef6f6ddac46dc8b99296a4a01e4c3",
            "value": " 1.65M/1.65M [00:00&lt;00:00, 5.29MB/s]"
          }
        },
        "e3dc47c1d31f4fe4a2c1bbf9c30b5416": {
          "model_module": "@jupyter-widgets/base",
          "model_name": "LayoutModel",
          "model_module_version": "1.2.0",
          "state": {
            "_model_module": "@jupyter-widgets/base",
            "_model_module_version": "1.2.0",
            "_model_name": "LayoutModel",
            "_view_count": null,
            "_view_module": "@jupyter-widgets/base",
            "_view_module_version": "1.2.0",
            "_view_name": "LayoutView",
            "align_content": null,
            "align_items": null,
            "align_self": null,
            "border": null,
            "bottom": null,
            "display": null,
            "flex": null,
            "flex_flow": null,
            "grid_area": null,
            "grid_auto_columns": null,
            "grid_auto_flow": null,
            "grid_auto_rows": null,
            "grid_column": null,
            "grid_gap": null,
            "grid_row": null,
            "grid_template_areas": null,
            "grid_template_columns": null,
            "grid_template_rows": null,
            "height": null,
            "justify_content": null,
            "justify_items": null,
            "left": null,
            "margin": null,
            "max_height": null,
            "max_width": null,
            "min_height": null,
            "min_width": null,
            "object_fit": null,
            "object_position": null,
            "order": null,
            "overflow": null,
            "overflow_x": null,
            "overflow_y": null,
            "padding": null,
            "right": null,
            "top": null,
            "visibility": null,
            "width": null
          }
        },
        "8f786f574bf54587bb70b1398f0e0716": {
          "model_module": "@jupyter-widgets/base",
          "model_name": "LayoutModel",
          "model_module_version": "1.2.0",
          "state": {
            "_model_module": "@jupyter-widgets/base",
            "_model_module_version": "1.2.0",
            "_model_name": "LayoutModel",
            "_view_count": null,
            "_view_module": "@jupyter-widgets/base",
            "_view_module_version": "1.2.0",
            "_view_name": "LayoutView",
            "align_content": null,
            "align_items": null,
            "align_self": null,
            "border": null,
            "bottom": null,
            "display": null,
            "flex": null,
            "flex_flow": null,
            "grid_area": null,
            "grid_auto_columns": null,
            "grid_auto_flow": null,
            "grid_auto_rows": null,
            "grid_column": null,
            "grid_gap": null,
            "grid_row": null,
            "grid_template_areas": null,
            "grid_template_columns": null,
            "grid_template_rows": null,
            "height": null,
            "justify_content": null,
            "justify_items": null,
            "left": null,
            "margin": null,
            "max_height": null,
            "max_width": null,
            "min_height": null,
            "min_width": null,
            "object_fit": null,
            "object_position": null,
            "order": null,
            "overflow": null,
            "overflow_x": null,
            "overflow_y": null,
            "padding": null,
            "right": null,
            "top": null,
            "visibility": null,
            "width": null
          }
        },
        "d818713ddf3a4f18bfe62c33f9389c2e": {
          "model_module": "@jupyter-widgets/controls",
          "model_name": "DescriptionStyleModel",
          "model_module_version": "1.5.0",
          "state": {
            "_model_module": "@jupyter-widgets/controls",
            "_model_module_version": "1.5.0",
            "_model_name": "DescriptionStyleModel",
            "_view_count": null,
            "_view_module": "@jupyter-widgets/base",
            "_view_module_version": "1.2.0",
            "_view_name": "StyleView",
            "description_width": ""
          }
        },
        "41ccd7b64a754615834cb20991f833d0": {
          "model_module": "@jupyter-widgets/base",
          "model_name": "LayoutModel",
          "model_module_version": "1.2.0",
          "state": {
            "_model_module": "@jupyter-widgets/base",
            "_model_module_version": "1.2.0",
            "_model_name": "LayoutModel",
            "_view_count": null,
            "_view_module": "@jupyter-widgets/base",
            "_view_module_version": "1.2.0",
            "_view_name": "LayoutView",
            "align_content": null,
            "align_items": null,
            "align_self": null,
            "border": null,
            "bottom": null,
            "display": null,
            "flex": null,
            "flex_flow": null,
            "grid_area": null,
            "grid_auto_columns": null,
            "grid_auto_flow": null,
            "grid_auto_rows": null,
            "grid_column": null,
            "grid_gap": null,
            "grid_row": null,
            "grid_template_areas": null,
            "grid_template_columns": null,
            "grid_template_rows": null,
            "height": null,
            "justify_content": null,
            "justify_items": null,
            "left": null,
            "margin": null,
            "max_height": null,
            "max_width": null,
            "min_height": null,
            "min_width": null,
            "object_fit": null,
            "object_position": null,
            "order": null,
            "overflow": null,
            "overflow_x": null,
            "overflow_y": null,
            "padding": null,
            "right": null,
            "top": null,
            "visibility": null,
            "width": null
          }
        },
        "5ea4bbcb193a48aea49f32f508acc615": {
          "model_module": "@jupyter-widgets/controls",
          "model_name": "ProgressStyleModel",
          "model_module_version": "1.5.0",
          "state": {
            "_model_module": "@jupyter-widgets/controls",
            "_model_module_version": "1.5.0",
            "_model_name": "ProgressStyleModel",
            "_view_count": null,
            "_view_module": "@jupyter-widgets/base",
            "_view_module_version": "1.2.0",
            "_view_name": "StyleView",
            "bar_color": null,
            "description_width": ""
          }
        },
        "afdfee1993644fbba96d978e2525b6f4": {
          "model_module": "@jupyter-widgets/base",
          "model_name": "LayoutModel",
          "model_module_version": "1.2.0",
          "state": {
            "_model_module": "@jupyter-widgets/base",
            "_model_module_version": "1.2.0",
            "_model_name": "LayoutModel",
            "_view_count": null,
            "_view_module": "@jupyter-widgets/base",
            "_view_module_version": "1.2.0",
            "_view_name": "LayoutView",
            "align_content": null,
            "align_items": null,
            "align_self": null,
            "border": null,
            "bottom": null,
            "display": null,
            "flex": null,
            "flex_flow": null,
            "grid_area": null,
            "grid_auto_columns": null,
            "grid_auto_flow": null,
            "grid_auto_rows": null,
            "grid_column": null,
            "grid_gap": null,
            "grid_row": null,
            "grid_template_areas": null,
            "grid_template_columns": null,
            "grid_template_rows": null,
            "height": null,
            "justify_content": null,
            "justify_items": null,
            "left": null,
            "margin": null,
            "max_height": null,
            "max_width": null,
            "min_height": null,
            "min_width": null,
            "object_fit": null,
            "object_position": null,
            "order": null,
            "overflow": null,
            "overflow_x": null,
            "overflow_y": null,
            "padding": null,
            "right": null,
            "top": null,
            "visibility": null,
            "width": null
          }
        },
        "dd1ef6f6ddac46dc8b99296a4a01e4c3": {
          "model_module": "@jupyter-widgets/controls",
          "model_name": "DescriptionStyleModel",
          "model_module_version": "1.5.0",
          "state": {
            "_model_module": "@jupyter-widgets/controls",
            "_model_module_version": "1.5.0",
            "_model_name": "DescriptionStyleModel",
            "_view_count": null,
            "_view_module": "@jupyter-widgets/base",
            "_view_module_version": "1.2.0",
            "_view_name": "StyleView",
            "description_width": ""
          }
        },
        "29f98ec445914642a1fdf12016a97b04": {
          "model_module": "@jupyter-widgets/controls",
          "model_name": "HBoxModel",
          "model_module_version": "1.5.0",
          "state": {
            "_dom_classes": [],
            "_model_module": "@jupyter-widgets/controls",
            "_model_module_version": "1.5.0",
            "_model_name": "HBoxModel",
            "_view_count": null,
            "_view_module": "@jupyter-widgets/controls",
            "_view_module_version": "1.5.0",
            "_view_name": "HBoxView",
            "box_style": "",
            "children": [
              "IPY_MODEL_6d05fb923e51480c978945c3c09c4ce2",
              "IPY_MODEL_3a517c9187e04150a44ccf68845ea42a",
              "IPY_MODEL_3dc5f69032c54b5198e17f48e52bf01a"
            ],
            "layout": "IPY_MODEL_1b10d9295f9a489abf24e6ca7e6ab0cb"
          }
        },
        "6d05fb923e51480c978945c3c09c4ce2": {
          "model_module": "@jupyter-widgets/controls",
          "model_name": "HTMLModel",
          "model_module_version": "1.5.0",
          "state": {
            "_dom_classes": [],
            "_model_module": "@jupyter-widgets/controls",
            "_model_module_version": "1.5.0",
            "_model_name": "HTMLModel",
            "_view_count": null,
            "_view_module": "@jupyter-widgets/controls",
            "_view_module_version": "1.5.0",
            "_view_name": "HTMLView",
            "description": "",
            "description_tooltip": null,
            "layout": "IPY_MODEL_2074cbe216ca4a4987cf53756d65e461",
            "placeholder": "​",
            "style": "IPY_MODEL_81248ba7f526439c9660292effa606cc",
            "value": "special_tokens_map.json: 100%"
          }
        },
        "3a517c9187e04150a44ccf68845ea42a": {
          "model_module": "@jupyter-widgets/controls",
          "model_name": "FloatProgressModel",
          "model_module_version": "1.5.0",
          "state": {
            "_dom_classes": [],
            "_model_module": "@jupyter-widgets/controls",
            "_model_module_version": "1.5.0",
            "_model_name": "FloatProgressModel",
            "_view_count": null,
            "_view_module": "@jupyter-widgets/controls",
            "_view_module_version": "1.5.0",
            "_view_name": "ProgressView",
            "bar_style": "success",
            "description": "",
            "description_tooltip": null,
            "layout": "IPY_MODEL_1be718456b8a4ef5a9df57cf3c098be3",
            "max": 112,
            "min": 0,
            "orientation": "horizontal",
            "style": "IPY_MODEL_5369bb2176c74f8f957e699db56b64e4",
            "value": 112
          }
        },
        "3dc5f69032c54b5198e17f48e52bf01a": {
          "model_module": "@jupyter-widgets/controls",
          "model_name": "HTMLModel",
          "model_module_version": "1.5.0",
          "state": {
            "_dom_classes": [],
            "_model_module": "@jupyter-widgets/controls",
            "_model_module_version": "1.5.0",
            "_model_name": "HTMLModel",
            "_view_count": null,
            "_view_module": "@jupyter-widgets/controls",
            "_view_module_version": "1.5.0",
            "_view_name": "HTMLView",
            "description": "",
            "description_tooltip": null,
            "layout": "IPY_MODEL_db7bb26f0dd342e1afacb2debfbf6eb2",
            "placeholder": "​",
            "style": "IPY_MODEL_c58a17123c134e6c8d00ba2714d6b5b2",
            "value": " 112/112 [00:00&lt;00:00, 4.23kB/s]"
          }
        },
        "1b10d9295f9a489abf24e6ca7e6ab0cb": {
          "model_module": "@jupyter-widgets/base",
          "model_name": "LayoutModel",
          "model_module_version": "1.2.0",
          "state": {
            "_model_module": "@jupyter-widgets/base",
            "_model_module_version": "1.2.0",
            "_model_name": "LayoutModel",
            "_view_count": null,
            "_view_module": "@jupyter-widgets/base",
            "_view_module_version": "1.2.0",
            "_view_name": "LayoutView",
            "align_content": null,
            "align_items": null,
            "align_self": null,
            "border": null,
            "bottom": null,
            "display": null,
            "flex": null,
            "flex_flow": null,
            "grid_area": null,
            "grid_auto_columns": null,
            "grid_auto_flow": null,
            "grid_auto_rows": null,
            "grid_column": null,
            "grid_gap": null,
            "grid_row": null,
            "grid_template_areas": null,
            "grid_template_columns": null,
            "grid_template_rows": null,
            "height": null,
            "justify_content": null,
            "justify_items": null,
            "left": null,
            "margin": null,
            "max_height": null,
            "max_width": null,
            "min_height": null,
            "min_width": null,
            "object_fit": null,
            "object_position": null,
            "order": null,
            "overflow": null,
            "overflow_x": null,
            "overflow_y": null,
            "padding": null,
            "right": null,
            "top": null,
            "visibility": null,
            "width": null
          }
        },
        "2074cbe216ca4a4987cf53756d65e461": {
          "model_module": "@jupyter-widgets/base",
          "model_name": "LayoutModel",
          "model_module_version": "1.2.0",
          "state": {
            "_model_module": "@jupyter-widgets/base",
            "_model_module_version": "1.2.0",
            "_model_name": "LayoutModel",
            "_view_count": null,
            "_view_module": "@jupyter-widgets/base",
            "_view_module_version": "1.2.0",
            "_view_name": "LayoutView",
            "align_content": null,
            "align_items": null,
            "align_self": null,
            "border": null,
            "bottom": null,
            "display": null,
            "flex": null,
            "flex_flow": null,
            "grid_area": null,
            "grid_auto_columns": null,
            "grid_auto_flow": null,
            "grid_auto_rows": null,
            "grid_column": null,
            "grid_gap": null,
            "grid_row": null,
            "grid_template_areas": null,
            "grid_template_columns": null,
            "grid_template_rows": null,
            "height": null,
            "justify_content": null,
            "justify_items": null,
            "left": null,
            "margin": null,
            "max_height": null,
            "max_width": null,
            "min_height": null,
            "min_width": null,
            "object_fit": null,
            "object_position": null,
            "order": null,
            "overflow": null,
            "overflow_x": null,
            "overflow_y": null,
            "padding": null,
            "right": null,
            "top": null,
            "visibility": null,
            "width": null
          }
        },
        "81248ba7f526439c9660292effa606cc": {
          "model_module": "@jupyter-widgets/controls",
          "model_name": "DescriptionStyleModel",
          "model_module_version": "1.5.0",
          "state": {
            "_model_module": "@jupyter-widgets/controls",
            "_model_module_version": "1.5.0",
            "_model_name": "DescriptionStyleModel",
            "_view_count": null,
            "_view_module": "@jupyter-widgets/base",
            "_view_module_version": "1.2.0",
            "_view_name": "StyleView",
            "description_width": ""
          }
        },
        "1be718456b8a4ef5a9df57cf3c098be3": {
          "model_module": "@jupyter-widgets/base",
          "model_name": "LayoutModel",
          "model_module_version": "1.2.0",
          "state": {
            "_model_module": "@jupyter-widgets/base",
            "_model_module_version": "1.2.0",
            "_model_name": "LayoutModel",
            "_view_count": null,
            "_view_module": "@jupyter-widgets/base",
            "_view_module_version": "1.2.0",
            "_view_name": "LayoutView",
            "align_content": null,
            "align_items": null,
            "align_self": null,
            "border": null,
            "bottom": null,
            "display": null,
            "flex": null,
            "flex_flow": null,
            "grid_area": null,
            "grid_auto_columns": null,
            "grid_auto_flow": null,
            "grid_auto_rows": null,
            "grid_column": null,
            "grid_gap": null,
            "grid_row": null,
            "grid_template_areas": null,
            "grid_template_columns": null,
            "grid_template_rows": null,
            "height": null,
            "justify_content": null,
            "justify_items": null,
            "left": null,
            "margin": null,
            "max_height": null,
            "max_width": null,
            "min_height": null,
            "min_width": null,
            "object_fit": null,
            "object_position": null,
            "order": null,
            "overflow": null,
            "overflow_x": null,
            "overflow_y": null,
            "padding": null,
            "right": null,
            "top": null,
            "visibility": null,
            "width": null
          }
        },
        "5369bb2176c74f8f957e699db56b64e4": {
          "model_module": "@jupyter-widgets/controls",
          "model_name": "ProgressStyleModel",
          "model_module_version": "1.5.0",
          "state": {
            "_model_module": "@jupyter-widgets/controls",
            "_model_module_version": "1.5.0",
            "_model_name": "ProgressStyleModel",
            "_view_count": null,
            "_view_module": "@jupyter-widgets/base",
            "_view_module_version": "1.2.0",
            "_view_name": "StyleView",
            "bar_color": null,
            "description_width": ""
          }
        },
        "db7bb26f0dd342e1afacb2debfbf6eb2": {
          "model_module": "@jupyter-widgets/base",
          "model_name": "LayoutModel",
          "model_module_version": "1.2.0",
          "state": {
            "_model_module": "@jupyter-widgets/base",
            "_model_module_version": "1.2.0",
            "_model_name": "LayoutModel",
            "_view_count": null,
            "_view_module": "@jupyter-widgets/base",
            "_view_module_version": "1.2.0",
            "_view_name": "LayoutView",
            "align_content": null,
            "align_items": null,
            "align_self": null,
            "border": null,
            "bottom": null,
            "display": null,
            "flex": null,
            "flex_flow": null,
            "grid_area": null,
            "grid_auto_columns": null,
            "grid_auto_flow": null,
            "grid_auto_rows": null,
            "grid_column": null,
            "grid_gap": null,
            "grid_row": null,
            "grid_template_areas": null,
            "grid_template_columns": null,
            "grid_template_rows": null,
            "height": null,
            "justify_content": null,
            "justify_items": null,
            "left": null,
            "margin": null,
            "max_height": null,
            "max_width": null,
            "min_height": null,
            "min_width": null,
            "object_fit": null,
            "object_position": null,
            "order": null,
            "overflow": null,
            "overflow_x": null,
            "overflow_y": null,
            "padding": null,
            "right": null,
            "top": null,
            "visibility": null,
            "width": null
          }
        },
        "c58a17123c134e6c8d00ba2714d6b5b2": {
          "model_module": "@jupyter-widgets/controls",
          "model_name": "DescriptionStyleModel",
          "model_module_version": "1.5.0",
          "state": {
            "_model_module": "@jupyter-widgets/controls",
            "_model_module_version": "1.5.0",
            "_model_name": "DescriptionStyleModel",
            "_view_count": null,
            "_view_module": "@jupyter-widgets/base",
            "_view_module_version": "1.2.0",
            "_view_name": "StyleView",
            "description_width": ""
          }
        },
        "81d4419cddfb4eeda2eaa5a41ae4c0f2": {
          "model_module": "@jupyter-widgets/controls",
          "model_name": "HBoxModel",
          "model_module_version": "1.5.0",
          "state": {
            "_dom_classes": [],
            "_model_module": "@jupyter-widgets/controls",
            "_model_module_version": "1.5.0",
            "_model_name": "HBoxModel",
            "_view_count": null,
            "_view_module": "@jupyter-widgets/controls",
            "_view_module_version": "1.5.0",
            "_view_name": "HBoxView",
            "box_style": "",
            "children": [
              "IPY_MODEL_edf68aec5fa7424cab72378cf13b6578",
              "IPY_MODEL_f17390e12b314fb0b88203eafacbfe2c",
              "IPY_MODEL_00cd82e6d777467b8c6c433ed234c410"
            ],
            "layout": "IPY_MODEL_628f30324f754fff87ad0a8d8e5fb6d7"
          }
        },
        "edf68aec5fa7424cab72378cf13b6578": {
          "model_module": "@jupyter-widgets/controls",
          "model_name": "HTMLModel",
          "model_module_version": "1.5.0",
          "state": {
            "_dom_classes": [],
            "_model_module": "@jupyter-widgets/controls",
            "_model_module_version": "1.5.0",
            "_model_name": "HTMLModel",
            "_view_count": null,
            "_view_module": "@jupyter-widgets/controls",
            "_view_module_version": "1.5.0",
            "_view_name": "HTMLView",
            "description": "",
            "description_tooltip": null,
            "layout": "IPY_MODEL_bb39b7cd7c3b4a56b81848ee52ac5467",
            "placeholder": "​",
            "style": "IPY_MODEL_8f9230452de645c9b83794ba8bd467a8",
            "value": "pytorch_model.bin: 100%"
          }
        },
        "f17390e12b314fb0b88203eafacbfe2c": {
          "model_module": "@jupyter-widgets/controls",
          "model_name": "FloatProgressModel",
          "model_module_version": "1.5.0",
          "state": {
            "_dom_classes": [],
            "_model_module": "@jupyter-widgets/controls",
            "_model_module_version": "1.5.0",
            "_model_name": "FloatProgressModel",
            "_view_count": null,
            "_view_module": "@jupyter-widgets/controls",
            "_view_module_version": "1.5.0",
            "_view_name": "ProgressView",
            "bar_style": "success",
            "description": "",
            "description_tooltip": null,
            "layout": "IPY_MODEL_fbddf8283b0b419e858baa8e401c4520",
            "max": 714355318,
            "min": 0,
            "orientation": "horizontal",
            "style": "IPY_MODEL_45e3f4c3dc324a7daec9ddc56a12a751",
            "value": 714355318
          }
        },
        "00cd82e6d777467b8c6c433ed234c410": {
          "model_module": "@jupyter-widgets/controls",
          "model_name": "HTMLModel",
          "model_module_version": "1.5.0",
          "state": {
            "_dom_classes": [],
            "_model_module": "@jupyter-widgets/controls",
            "_model_module_version": "1.5.0",
            "_model_name": "HTMLModel",
            "_view_count": null,
            "_view_module": "@jupyter-widgets/controls",
            "_view_module_version": "1.5.0",
            "_view_name": "HTMLView",
            "description": "",
            "description_tooltip": null,
            "layout": "IPY_MODEL_3f5d2f0a78234b77be6eb208c6a0ec73",
            "placeholder": "​",
            "style": "IPY_MODEL_ecf3b4c8c3e94c57bce15ef9e0069abd",
            "value": " 714M/714M [00:03&lt;00:00, 255MB/s]"
          }
        },
        "628f30324f754fff87ad0a8d8e5fb6d7": {
          "model_module": "@jupyter-widgets/base",
          "model_name": "LayoutModel",
          "model_module_version": "1.2.0",
          "state": {
            "_model_module": "@jupyter-widgets/base",
            "_model_module_version": "1.2.0",
            "_model_name": "LayoutModel",
            "_view_count": null,
            "_view_module": "@jupyter-widgets/base",
            "_view_module_version": "1.2.0",
            "_view_name": "LayoutView",
            "align_content": null,
            "align_items": null,
            "align_self": null,
            "border": null,
            "bottom": null,
            "display": null,
            "flex": null,
            "flex_flow": null,
            "grid_area": null,
            "grid_auto_columns": null,
            "grid_auto_flow": null,
            "grid_auto_rows": null,
            "grid_column": null,
            "grid_gap": null,
            "grid_row": null,
            "grid_template_areas": null,
            "grid_template_columns": null,
            "grid_template_rows": null,
            "height": null,
            "justify_content": null,
            "justify_items": null,
            "left": null,
            "margin": null,
            "max_height": null,
            "max_width": null,
            "min_height": null,
            "min_width": null,
            "object_fit": null,
            "object_position": null,
            "order": null,
            "overflow": null,
            "overflow_x": null,
            "overflow_y": null,
            "padding": null,
            "right": null,
            "top": null,
            "visibility": null,
            "width": null
          }
        },
        "bb39b7cd7c3b4a56b81848ee52ac5467": {
          "model_module": "@jupyter-widgets/base",
          "model_name": "LayoutModel",
          "model_module_version": "1.2.0",
          "state": {
            "_model_module": "@jupyter-widgets/base",
            "_model_module_version": "1.2.0",
            "_model_name": "LayoutModel",
            "_view_count": null,
            "_view_module": "@jupyter-widgets/base",
            "_view_module_version": "1.2.0",
            "_view_name": "LayoutView",
            "align_content": null,
            "align_items": null,
            "align_self": null,
            "border": null,
            "bottom": null,
            "display": null,
            "flex": null,
            "flex_flow": null,
            "grid_area": null,
            "grid_auto_columns": null,
            "grid_auto_flow": null,
            "grid_auto_rows": null,
            "grid_column": null,
            "grid_gap": null,
            "grid_row": null,
            "grid_template_areas": null,
            "grid_template_columns": null,
            "grid_template_rows": null,
            "height": null,
            "justify_content": null,
            "justify_items": null,
            "left": null,
            "margin": null,
            "max_height": null,
            "max_width": null,
            "min_height": null,
            "min_width": null,
            "object_fit": null,
            "object_position": null,
            "order": null,
            "overflow": null,
            "overflow_x": null,
            "overflow_y": null,
            "padding": null,
            "right": null,
            "top": null,
            "visibility": null,
            "width": null
          }
        },
        "8f9230452de645c9b83794ba8bd467a8": {
          "model_module": "@jupyter-widgets/controls",
          "model_name": "DescriptionStyleModel",
          "model_module_version": "1.5.0",
          "state": {
            "_model_module": "@jupyter-widgets/controls",
            "_model_module_version": "1.5.0",
            "_model_name": "DescriptionStyleModel",
            "_view_count": null,
            "_view_module": "@jupyter-widgets/base",
            "_view_module_version": "1.2.0",
            "_view_name": "StyleView",
            "description_width": ""
          }
        },
        "fbddf8283b0b419e858baa8e401c4520": {
          "model_module": "@jupyter-widgets/base",
          "model_name": "LayoutModel",
          "model_module_version": "1.2.0",
          "state": {
            "_model_module": "@jupyter-widgets/base",
            "_model_module_version": "1.2.0",
            "_model_name": "LayoutModel",
            "_view_count": null,
            "_view_module": "@jupyter-widgets/base",
            "_view_module_version": "1.2.0",
            "_view_name": "LayoutView",
            "align_content": null,
            "align_items": null,
            "align_self": null,
            "border": null,
            "bottom": null,
            "display": null,
            "flex": null,
            "flex_flow": null,
            "grid_area": null,
            "grid_auto_columns": null,
            "grid_auto_flow": null,
            "grid_auto_rows": null,
            "grid_column": null,
            "grid_gap": null,
            "grid_row": null,
            "grid_template_areas": null,
            "grid_template_columns": null,
            "grid_template_rows": null,
            "height": null,
            "justify_content": null,
            "justify_items": null,
            "left": null,
            "margin": null,
            "max_height": null,
            "max_width": null,
            "min_height": null,
            "min_width": null,
            "object_fit": null,
            "object_position": null,
            "order": null,
            "overflow": null,
            "overflow_x": null,
            "overflow_y": null,
            "padding": null,
            "right": null,
            "top": null,
            "visibility": null,
            "width": null
          }
        },
        "45e3f4c3dc324a7daec9ddc56a12a751": {
          "model_module": "@jupyter-widgets/controls",
          "model_name": "ProgressStyleModel",
          "model_module_version": "1.5.0",
          "state": {
            "_model_module": "@jupyter-widgets/controls",
            "_model_module_version": "1.5.0",
            "_model_name": "ProgressStyleModel",
            "_view_count": null,
            "_view_module": "@jupyter-widgets/base",
            "_view_module_version": "1.2.0",
            "_view_name": "StyleView",
            "bar_color": null,
            "description_width": ""
          }
        },
        "3f5d2f0a78234b77be6eb208c6a0ec73": {
          "model_module": "@jupyter-widgets/base",
          "model_name": "LayoutModel",
          "model_module_version": "1.2.0",
          "state": {
            "_model_module": "@jupyter-widgets/base",
            "_model_module_version": "1.2.0",
            "_model_name": "LayoutModel",
            "_view_count": null,
            "_view_module": "@jupyter-widgets/base",
            "_view_module_version": "1.2.0",
            "_view_name": "LayoutView",
            "align_content": null,
            "align_items": null,
            "align_self": null,
            "border": null,
            "bottom": null,
            "display": null,
            "flex": null,
            "flex_flow": null,
            "grid_area": null,
            "grid_auto_columns": null,
            "grid_auto_flow": null,
            "grid_auto_rows": null,
            "grid_column": null,
            "grid_gap": null,
            "grid_row": null,
            "grid_template_areas": null,
            "grid_template_columns": null,
            "grid_template_rows": null,
            "height": null,
            "justify_content": null,
            "justify_items": null,
            "left": null,
            "margin": null,
            "max_height": null,
            "max_width": null,
            "min_height": null,
            "min_width": null,
            "object_fit": null,
            "object_position": null,
            "order": null,
            "overflow": null,
            "overflow_x": null,
            "overflow_y": null,
            "padding": null,
            "right": null,
            "top": null,
            "visibility": null,
            "width": null
          }
        },
        "ecf3b4c8c3e94c57bce15ef9e0069abd": {
          "model_module": "@jupyter-widgets/controls",
          "model_name": "DescriptionStyleModel",
          "model_module_version": "1.5.0",
          "state": {
            "_model_module": "@jupyter-widgets/controls",
            "_model_module_version": "1.5.0",
            "_model_name": "DescriptionStyleModel",
            "_view_count": null,
            "_view_module": "@jupyter-widgets/base",
            "_view_module_version": "1.2.0",
            "_view_name": "StyleView",
            "description_width": ""
          }
        }
      }
    }
  },
  "nbformat": 4,
  "nbformat_minor": 0
}