{
 "cells": [
  {
   "cell_type": "code",
   "execution_count": 10,
   "metadata": {},
   "outputs": [],
   "source": [
    "import json\n",
    "import pandas as pd\n",
    "import numpy as np\n",
    "from pymystem3 import Mystem\n",
    "\n",
    "# !pip3 install spacy \n",
    "# !python -m spacy download ru_core_news_sm\n",
    "import spacy\n",
    "import re\n",
    "from string import punctuation\n",
    "import random\n",
    "import ast"
   ]
  },
  {
   "cell_type": "code",
   "execution_count": 11,
   "metadata": {},
   "outputs": [],
   "source": [
    "mystem = Mystem()\n",
    "def lemm_phrase(x):\n",
    "    tokens = mystem.lemmatize(x)\n",
    "    tokens = [token for token in tokens[:-1] if (token.strip() not in [\" \", \"\"])]\n",
    "    return \" \".join(tokens)"
   ]
  },
  {
   "cell_type": "markdown",
   "metadata": {},
   "source": [
    "# Work with generated data"
   ]
  },
  {
   "cell_type": "code",
   "execution_count": null,
   "metadata": {},
   "outputs": [],
   "source": [
    "df = pd.read_csv(\"dataset/generated_data.csv\")"
   ]
  },
  {
   "cell_type": "code",
   "execution_count": null,
   "metadata": {},
   "outputs": [],
   "source": [
    "pattern = re.compile(r'\"|\\'|\\.|,|\\\\|\\/|-|\\(|\\)|,')\n",
    "\n",
    "df['new_text'] = df['text'].apply(lambda x: re.sub(pattern=pattern, repl='', string=x.lower()).strip())\n",
    "df['text'] = df['text'].apply(lambda x: re.sub(pattern=pattern, repl='', string=x).strip())"
   ]
  },
  {
   "cell_type": "code",
   "execution_count": null,
   "metadata": {},
   "outputs": [],
   "source": [
    "df['new_text'] = df['new_text'].apply(lambda x: lemm_phrase(x))"
   ]
  },
  {
   "cell_type": "code",
   "execution_count": null,
   "metadata": {},
   "outputs": [],
   "source": [
    "df"
   ]
  },
  {
   "cell_type": "code",
   "execution_count": null,
   "metadata": {},
   "outputs": [],
   "source": [
    "# df.to_csv('dataset/final_data_lower.csv', index=False)"
   ]
  },
  {
   "cell_type": "markdown",
   "metadata": {},
   "source": [
    "# Read New Dataset"
   ]
  },
  {
   "cell_type": "code",
   "execution_count": 3,
   "metadata": {},
   "outputs": [],
   "source": [
    "df = pd.read_csv(\"dataset/final_data_lower.csv\")\n",
    "df = df[:390]"
   ]
  },
  {
   "cell_type": "code",
   "execution_count": 4,
   "metadata": {},
   "outputs": [],
   "source": [
    "pattern = re.compile(r':')\n",
    "df['text'] = df['text'].apply(lambda x: re.sub(pattern=pattern, repl=' : ', string=x).strip())\n",
    "df['new_text'] = df['new_text'].apply(lambda x: re.sub(pattern=pattern, repl=' : ', string=x).strip())"
   ]
  },
  {
   "cell_type": "code",
   "execution_count": 5,
   "metadata": {},
   "outputs": [],
   "source": [
    "df['new_text'] = df['new_text'].apply(lambda x: ' '.join([i for i in x.split() if i != '']))\n",
    "df['text'] = df['text'].apply(lambda x: ' '.join([i for i in x.split() if i != '']))"
   ]
  },
  {
   "cell_type": "code",
   "execution_count": 6,
   "metadata": {},
   "outputs": [
    {
     "data": {
      "text/html": [
       "<div>\n",
       "<style scoped>\n",
       "    .dataframe tbody tr th:only-of-type {\n",
       "        vertical-align: middle;\n",
       "    }\n",
       "\n",
       "    .dataframe tbody tr th {\n",
       "        vertical-align: top;\n",
       "    }\n",
       "\n",
       "    .dataframe thead th {\n",
       "        text-align: right;\n",
       "    }\n",
       "</style>\n",
       "<table border=\"1\" class=\"dataframe\">\n",
       "  <thead>\n",
       "    <tr style=\"text-align: right;\">\n",
       "      <th></th>\n",
       "      <th>text</th>\n",
       "      <th>new_text</th>\n",
       "    </tr>\n",
       "  </thead>\n",
       "  <tbody>\n",
       "    <tr>\n",
       "      <th>0</th>\n",
       "      <td>Создай задачу : Подготовить отчет к 15 : 00 за...</td>\n",
       "      <td>создавать задача : подготовить отчет к 15 : 00...</td>\n",
       "    </tr>\n",
       "    <tr>\n",
       "      <th>1</th>\n",
       "      <td>Создай задание : Отправить приглашения на собр...</td>\n",
       "      <td>создавать задание : отправлять приглашение на ...</td>\n",
       "    </tr>\n",
       "    <tr>\n",
       "      <th>2</th>\n",
       "      <td>Создай задачу : Разработать презентацию к 18 :...</td>\n",
       "      <td>создавать задача : разрабатывать презентация к...</td>\n",
       "    </tr>\n",
       "    <tr>\n",
       "      <th>3</th>\n",
       "      <td>Назначь обязанность : Провести собрание с кома...</td>\n",
       "      <td>назначать обязанность : проводить собрание с к...</td>\n",
       "    </tr>\n",
       "    <tr>\n",
       "      <th>4</th>\n",
       "      <td>Поставь задачу : Подготовить план мероприятий ...</td>\n",
       "      <td>поставлять задача : подготовить план мероприят...</td>\n",
       "    </tr>\n",
       "    <tr>\n",
       "      <th>...</th>\n",
       "      <td>...</td>\n",
       "      <td>...</td>\n",
       "    </tr>\n",
       "    <tr>\n",
       "      <th>385</th>\n",
       "      <td>Создай задачу : Виктор Романов подготовьте отч...</td>\n",
       "      <td>создавать задача : виктор роман подготовить от...</td>\n",
       "    </tr>\n",
       "    <tr>\n",
       "      <th>386</th>\n",
       "      <td>Создай задачу : Елене Савельевой нужно разрабо...</td>\n",
       "      <td>создавать задача : елена савельева нужно разра...</td>\n",
       "    </tr>\n",
       "    <tr>\n",
       "      <th>387</th>\n",
       "      <td>Создай задачу : Попросить Ивана Иванова подгот...</td>\n",
       "      <td>создавать задача : попросить иван иванов подго...</td>\n",
       "    </tr>\n",
       "    <tr>\n",
       "      <th>388</th>\n",
       "      <td>Создай задачу : Напомнить Маше завтра в 10 утр...</td>\n",
       "      <td>создавать задача : напоминать маша завтра в 10...</td>\n",
       "    </tr>\n",
       "    <tr>\n",
       "      <th>389</th>\n",
       "      <td>Создай задачу : Сергей должен предоставить 3 в...</td>\n",
       "      <td>создавать задача : сергей должный предоставлят...</td>\n",
       "    </tr>\n",
       "  </tbody>\n",
       "</table>\n",
       "<p>390 rows × 2 columns</p>\n",
       "</div>"
      ],
      "text/plain": [
       "                                                  text  \\\n",
       "0    Создай задачу : Подготовить отчет к 15 : 00 за...   \n",
       "1    Создай задание : Отправить приглашения на собр...   \n",
       "2    Создай задачу : Разработать презентацию к 18 :...   \n",
       "3    Назначь обязанность : Провести собрание с кома...   \n",
       "4    Поставь задачу : Подготовить план мероприятий ...   \n",
       "..                                                 ...   \n",
       "385  Создай задачу : Виктор Романов подготовьте отч...   \n",
       "386  Создай задачу : Елене Савельевой нужно разрабо...   \n",
       "387  Создай задачу : Попросить Ивана Иванова подгот...   \n",
       "388  Создай задачу : Напомнить Маше завтра в 10 утр...   \n",
       "389  Создай задачу : Сергей должен предоставить 3 в...   \n",
       "\n",
       "                                              new_text  \n",
       "0    создавать задача : подготовить отчет к 15 : 00...  \n",
       "1    создавать задание : отправлять приглашение на ...  \n",
       "2    создавать задача : разрабатывать презентация к...  \n",
       "3    назначать обязанность : проводить собрание с к...  \n",
       "4    поставлять задача : подготовить план мероприят...  \n",
       "..                                                 ...  \n",
       "385  создавать задача : виктор роман подготовить от...  \n",
       "386  создавать задача : елена савельева нужно разра...  \n",
       "387  создавать задача : попросить иван иванов подго...  \n",
       "388  создавать задача : напоминать маша завтра в 10...  \n",
       "389  создавать задача : сергей должный предоставлят...  \n",
       "\n",
       "[390 rows x 2 columns]"
      ]
     },
     "execution_count": 6,
     "metadata": {},
     "output_type": "execute_result"
    }
   ],
   "source": [
    "df"
   ]
  },
  {
   "cell_type": "markdown",
   "metadata": {},
   "source": [
    "# Use spacy"
   ]
  },
  {
   "cell_type": "code",
   "execution_count": 7,
   "metadata": {},
   "outputs": [],
   "source": [
    "from spacy.lang.ru import Russian\n",
    "from spacy.pipeline import EntityRuler"
   ]
  },
  {
   "cell_type": "code",
   "execution_count": 8,
   "metadata": {},
   "outputs": [],
   "source": [
    "tasks = [\n",
    "    'создавать задача',\n",
    "    'создавать заметка',\n",
    "    'создавать задание',\n",
    "    'создавать поручение',\n",
    "    'напоминать',\n",
    "    'запланировать встреча',\n",
    "    'назначать обязанность',\n",
    "    'ставить задача',\n",
    "    'задавать задача',\n",
    "    'давать поручение',\n",
    "    'давать задача',\n",
    "    'добавлять задача',\n",
    "    'поставлять задача'\n",
    "]\n",
    "\n",
    "tags = {\n",
    "    \"Task\": 'task_type',\n",
    "    \"ToDo\": 'todo',\n",
    "    \"Person\": 'person',\n",
    "    \"Time\": 'time',\n",
    "    \"Garbage\": 'garbage'\n",
    "}"
   ]
  },
  {
   "cell_type": "code",
   "execution_count": 9,
   "metadata": {},
   "outputs": [],
   "source": [
    "def create_training_data(data, type):\n",
    "    data = data\n",
    "    patterns = []\n",
    "    for item in data:\n",
    "        pattern = {\"label\": type, \"pattern\": item}\n",
    "        # generate list of patterns\n",
    "        patterns.append(pattern)\n",
    "    return patterns"
   ]
  },
  {
   "cell_type": "code",
   "execution_count": 10,
   "metadata": {},
   "outputs": [],
   "source": [
    "nlp = Russian()\n",
    "ruler = EntityRuler(nlp)\n",
    "ruler = nlp.add_pipe(\"entity_ruler\")\n",
    "def generate_rules(patterns, name):\n",
    "    ruler.add_patterns(patterns)\n",
    "    # nlp.to_disk(name)"
   ]
  },
  {
   "cell_type": "code",
   "execution_count": 11,
   "metadata": {},
   "outputs": [
    {
     "data": {
      "text/plain": [
       "'\\nTRAIN DATA FOR SPACY = [\\n        (   text, \\n            {\"entities\": \\n                [(start, end, label), ...]\\n            }\\n        )\\n    ]\\n'"
      ]
     },
     "execution_count": 11,
     "metadata": {},
     "output_type": "execute_result"
    }
   ],
   "source": [
    "def test_model(model, text):\n",
    "    doc = model(text)\n",
    "    results = []\n",
    "    entities = []\n",
    "\n",
    "    for ent in doc.ents:\n",
    "        entities.append((ent.start_char, ent.end_char, ent.label_))\n",
    "    if len(entities) > 0:\n",
    "        results = [text, {\"entities\": entities}]\n",
    "        return results\n",
    "\"\"\"\n",
    "TRAIN DATA FOR SPACY = [\n",
    "        (   text, \n",
    "            {\"entities\": \n",
    "                [(start, end, label), ...]\n",
    "            }\n",
    "        )\n",
    "    ]\n",
    "\"\"\""
   ]
  },
  {
   "cell_type": "code",
   "execution_count": 12,
   "metadata": {},
   "outputs": [],
   "source": [
    "def get_train_type(model, x, arr):\n",
    "    results = test_model(model, x)\n",
    "    if results != None:\n",
    "        arr.append(results)"
   ]
  },
  {
   "cell_type": "markdown",
   "metadata": {},
   "source": [
    "# Выделение типа задачи"
   ]
  },
  {
   "cell_type": "code",
   "execution_count": 13,
   "metadata": {},
   "outputs": [],
   "source": [
    "task_patterns = create_training_data(tasks, tags['Task'])\n",
    "generate_rules(patterns=task_patterns, name='task_types')"
   ]
  },
  {
   "cell_type": "markdown",
   "metadata": {},
   "source": [
    "# Выделение имен"
   ]
  },
  {
   "cell_type": "code",
   "execution_count": null,
   "metadata": {},
   "outputs": [],
   "source": [
    "# df_fem = pd.read_csv('dataset/female_names.csv')\n",
    "# df_male = pd.read_csv('dataset/male_names.csv')\n",
    "# df_names = df_fem.append(df_male)\n",
    "# df_names.to_csv('dataset/names.csv', index=False)"
   ]
  },
  {
   "cell_type": "code",
   "execution_count": null,
   "metadata": {},
   "outputs": [],
   "source": [
    "\n",
    "# df_names['name'] = df_names['name'].apply(lambda x: x.lower())\n",
    "# df_names['name'] = df_names['name'].apply(lambda x: lemm_phrase(x))"
   ]
  },
  {
   "cell_type": "code",
   "execution_count": 14,
   "metadata": {},
   "outputs": [],
   "source": [
    "df_names = pd.read_csv('dataset/names.csv')\n",
    "person_patterns = create_training_data(list(df_names['name']), tags['Person'])\n",
    "generate_rules(patterns=person_patterns, name='person')"
   ]
  },
  {
   "cell_type": "markdown",
   "metadata": {},
   "source": [
    "# Выделение времени"
   ]
  },
  {
   "cell_type": "code",
   "execution_count": 15,
   "metadata": {},
   "outputs": [],
   "source": [
    "df_time = pd.read_csv('dataset/with_months.csv')"
   ]
  },
  {
   "cell_type": "code",
   "execution_count": null,
   "metadata": {},
   "outputs": [],
   "source": [
    "# df_time.to_csv('dataset/time.csv', index=False)"
   ]
  },
  {
   "cell_type": "code",
   "execution_count": null,
   "metadata": {},
   "outputs": [],
   "source": [
    "# df_time['time'] = df_time['time'].apply(lambda x: x.lower())\n",
    "# df_time['lower_time'] = df_time['time'].apply(lambda x: lemm_phrase(x))"
   ]
  },
  {
   "cell_type": "code",
   "execution_count": 16,
   "metadata": {},
   "outputs": [],
   "source": [
    "time_patterns = create_training_data(list(df_time['lower_time']), tags['Time'])\n",
    "generate_rules(patterns=time_patterns, name='time')"
   ]
  },
  {
   "cell_type": "markdown",
   "metadata": {},
   "source": [
    "# Model with all entities"
   ]
  },
  {
   "cell_type": "code",
   "execution_count": null,
   "metadata": {},
   "outputs": [],
   "source": [
    "# nlp.to_disk('final_all_entities')"
   ]
  },
  {
   "cell_type": "markdown",
   "metadata": {},
   "source": [
    "# Train Data"
   ]
  },
  {
   "cell_type": "code",
   "execution_count": 17,
   "metadata": {},
   "outputs": [
    {
     "data": {
      "text/plain": [
       "0      None\n",
       "1      None\n",
       "2      None\n",
       "3      None\n",
       "4      None\n",
       "       ... \n",
       "385    None\n",
       "386    None\n",
       "387    None\n",
       "388    None\n",
       "389    None\n",
       "Name: new_text, Length: 390, dtype: object"
      ]
     },
     "execution_count": 17,
     "metadata": {},
     "output_type": "execute_result"
    }
   ],
   "source": [
    "TRAIN_DATA = []\n",
    "df['new_text'].apply(lambda x: get_train_type(nlp, x, TRAIN_DATA))"
   ]
  },
  {
   "cell_type": "code",
   "execution_count": 18,
   "metadata": {},
   "outputs": [],
   "source": [
    "from spacy.training.example import Example"
   ]
  },
  {
   "cell_type": "code",
   "execution_count": 19,
   "metadata": {},
   "outputs": [],
   "source": [
    "def train(data, epochs=30):\n",
    "    TRAIN_DATA = data\n",
    "    nlp = spacy.blank(\"ru\")\n",
    "    if \"ner\" not in nlp.pipe_names:\n",
    "        ner = nlp.create_pipe(\"ner\")\n",
    "        nlp.add_pipe(\"ner\", last=True)\n",
    "\n",
    "    for _, annotations in TRAIN_DATA:\n",
    "        for ent in annotations.get(\"entities\"):\n",
    "            ner.add_label(ent[2]) # taking label for ex. person\n",
    "\n",
    "    other_pipes = [pipe for pipe in nlp.pipe_names if pipe != \"ner\"]\n",
    "\n",
    "    with nlp.disable_pipes(*other_pipes):\n",
    "        optimizer = nlp.begin_training()\n",
    "        for itr in range(epochs):\n",
    "            print(\"Start Epoch - \" + str(itr))\n",
    "            random.shuffle(TRAIN_DATA)\n",
    "            losses = {}\n",
    "            for batch in spacy.util.minibatch(TRAIN_DATA, size=2):\n",
    "                for text, annotations in batch:\n",
    "                    doc = nlp.make_doc(text)\n",
    "                    example = Example.from_dict(doc, annotations)\n",
    "                    nlp.update(\n",
    "                        [example],\n",
    "                        drop=0.2,\n",
    "                        sgd=optimizer,\n",
    "                        losses=losses\n",
    "                    )\n",
    "            print(losses)\n",
    "    return nlp\n"
   ]
  },
  {
   "cell_type": "code",
   "execution_count": 20,
   "metadata": {},
   "outputs": [
    {
     "name": "stdout",
     "output_type": "stream",
     "text": [
      "Start Epoch - 0\n",
      "{'ner': 507.5993332595376}\n",
      "Start Epoch - 1\n",
      "{'ner': 61.789769965887466}\n",
      "Start Epoch - 2\n",
      "{'ner': 34.166370042529934}\n",
      "Start Epoch - 3\n",
      "{'ner': 50.1018232148208}\n",
      "Start Epoch - 4\n",
      "{'ner': 37.930383771571705}\n",
      "Start Epoch - 5\n",
      "{'ner': 10.466288085141624}\n",
      "Start Epoch - 6\n",
      "{'ner': 22.10927633053586}\n",
      "Start Epoch - 7\n",
      "{'ner': 15.97158817384445}\n",
      "Start Epoch - 8\n",
      "{'ner': 24.572980784801043}\n",
      "Start Epoch - 9\n",
      "{'ner': 32.75897525183957}\n",
      "Start Epoch - 10\n",
      "{'ner': 11.550055545625863}\n",
      "Start Epoch - 11\n",
      "{'ner': 30.184005635220405}\n",
      "Start Epoch - 12\n",
      "{'ner': 5.686790370003248}\n",
      "Start Epoch - 13\n",
      "{'ner': 19.389103707826415}\n",
      "Start Epoch - 14\n",
      "{'ner': 11.994582516970818}\n",
      "Start Epoch - 15\n",
      "{'ner': 10.531406020511758}\n",
      "Start Epoch - 16\n",
      "{'ner': 7.7893354423152426}\n",
      "Start Epoch - 17\n",
      "{'ner': 6.910647088298205}\n",
      "Start Epoch - 18\n",
      "{'ner': 5.536938580674887}\n",
      "Start Epoch - 19\n",
      "{'ner': 9.431434425032766}\n",
      "Start Epoch - 20\n",
      "{'ner': 11.851990711229805}\n",
      "Start Epoch - 21\n",
      "{'ner': 4.721186140612571}\n",
      "Start Epoch - 22\n",
      "{'ner': 20.376853031511825}\n",
      "Start Epoch - 23\n",
      "{'ner': 6.254386190178905}\n",
      "Start Epoch - 24\n",
      "{'ner': 12.18940303571271}\n",
      "Start Epoch - 25\n",
      "{'ner': 14.004017697119341}\n",
      "Start Epoch - 26\n",
      "{'ner': 9.573530146462423}\n",
      "Start Epoch - 27\n",
      "{'ner': 4.447144558277242}\n",
      "Start Epoch - 28\n",
      "{'ner': 7.014690678264153e-05}\n",
      "Start Epoch - 29\n",
      "{'ner': 8.181166248770216}\n",
      "Start Epoch - 30\n",
      "{'ner': 21.446600622751962}\n",
      "Start Epoch - 31\n",
      "{'ner': 12.29000956301541}\n",
      "Start Epoch - 32\n",
      "{'ner': 17.601822902015762}\n",
      "Start Epoch - 33\n",
      "{'ner': 0.003798726842316282}\n",
      "Start Epoch - 34\n",
      "{'ner': 1.209483771024723e-06}\n",
      "Start Epoch - 35\n",
      "{'ner': 1.141262937809833e-06}\n",
      "Start Epoch - 36\n",
      "{'ner': 1.6705542509401684e-10}\n",
      "Start Epoch - 37\n",
      "{'ner': 1.9988120675484067}\n",
      "Start Epoch - 38\n",
      "{'ner': 12.605236210257697}\n",
      "Start Epoch - 39\n",
      "{'ner': 2.0103629677086374}\n",
      "Start Epoch - 40\n",
      "{'ner': 0.8335238328749388}\n",
      "Start Epoch - 41\n",
      "{'ner': 18.76458074775984}\n",
      "Start Epoch - 42\n",
      "{'ner': 6.4794957028465525}\n",
      "Start Epoch - 43\n",
      "{'ner': 12.271372666924469}\n",
      "Start Epoch - 44\n",
      "{'ner': 11.594668870279168}\n",
      "Start Epoch - 45\n",
      "{'ner': 7.251684037689921}\n",
      "Start Epoch - 46\n",
      "{'ner': 7.249824253660768}\n",
      "Start Epoch - 47\n",
      "{'ner': 13.051224153054482}\n",
      "Start Epoch - 48\n",
      "{'ner': 6.032073801759216}\n",
      "Start Epoch - 49\n",
      "{'ner': 0.2151743363336361}\n"
     ]
    }
   ],
   "source": [
    "nlp = train(TRAIN_DATA, epochs=50)\n",
    "nlp.to_disk('final_4_for_test')"
   ]
  },
  {
   "cell_type": "markdown",
   "metadata": {},
   "source": [
    "# Use model"
   ]
  },
  {
   "cell_type": "code",
   "execution_count": 12,
   "metadata": {},
   "outputs": [],
   "source": [
    "def clean_str(phrase):\n",
    "    pattern = re.compile(r'\"|\\'|\\.|,|\\\\|\\/|-|\\(|\\)|,')\n",
    "    phrase = re.sub(pattern=pattern, repl='', string=phrase.lower()).strip()\n",
    "    final = lemm_phrase(phrase)\n",
    "    return final"
   ]
  },
  {
   "cell_type": "code",
   "execution_count": 13,
   "metadata": {},
   "outputs": [],
   "source": [
    "# nlp.to_disk('result_final_all')\n",
    "nlp = spacy.load('final_4_for_test')"
   ]
  },
  {
   "cell_type": "code",
   "execution_count": 14,
   "metadata": {},
   "outputs": [],
   "source": [
    "from stop_words import get_stop_words\n",
    "stop_words = get_stop_words('ru')\n",
    "stop_words = stop_words[:200]"
   ]
  },
  {
   "cell_type": "code",
   "execution_count": 15,
   "metadata": {},
   "outputs": [],
   "source": [
    "def check_for_useless_words(text):\n",
    "    # убрать лишние предлоги в конце\n",
    "    count = 0\n",
    "    count_back = 0\n",
    "    for i in text:\n",
    "        if i in stop_words:\n",
    "            count += 1\n",
    "        else:\n",
    "            break\n",
    "\n",
    "    for i in text[::-1]:\n",
    "        if i in stop_words:\n",
    "            count_back += 1\n",
    "        else:\n",
    "            break\n",
    "\n",
    "    return text[count:len(text)-count_back]"
   ]
  },
  {
   "cell_type": "code",
   "execution_count": 16,
   "metadata": {},
   "outputs": [],
   "source": [
    "# Вывод результата к красивом виде\n",
    "def get_results(text):\n",
    "    result = []\n",
    "    idx = []\n",
    "    for_metrics = []\n",
    "\n",
    "    # подготовка фразы\n",
    "    cleaned = clean_str(text)\n",
    "    tmp = list(zip(text.split(), cleaned.replace(' : ', ':').split()))\n",
    "    doc = nlp(cleaned)\n",
    "    for ent in doc.ents:\n",
    "        words = cleaned[ent.start_char:ent.end_char].split()\n",
    "        for_metrics.append(cleaned[ent.start_char:ent.end_char])\n",
    "        res = []\n",
    "        for w in words:\n",
    "            for t, i in enumerate(tmp):\n",
    "                if w in i[1]:\n",
    "                    idx.append(t)\n",
    "                    res.append(i[0])\n",
    "        result.append((' '.join(res), ent.label_))\n",
    "\n",
    "    # получаем \"название для задачи\" - то, что не разметилось = само задание\n",
    "    task = [k[0] for t, k in enumerate(tmp) if t not in idx]\n",
    "\n",
    "    # объединяем выделенные объекты\n",
    "    result = sorted(result, key=lambda x: x[1])\n",
    "    final = {}\n",
    "    key = None\n",
    "    for i in result:\n",
    "        if i[1] != key:\n",
    "            key = i[1]\n",
    "            final[key] = [i[0]]\n",
    "        else:\n",
    "            if i[0] not in final[key]:\n",
    "                final[key].append(i[0])\n",
    "    task = check_for_useless_words(task)\n",
    "    task = ' '.join(task)\n",
    "    final['task'] = task\n",
    "    return final, for_metrics"
   ]
  },
  {
   "cell_type": "code",
   "execution_count": 17,
   "metadata": {},
   "outputs": [
    {
     "name": "stdout",
     "output_type": "stream",
     "text": [
      "{'task_type': ['Создай задачу:'], 'time': ['1', 'декабря'], 'task': 'Написать сценарий для новогоднего видео'}\n"
     ]
    }
   ],
   "source": [
    "text = 'Создай задачу: Написать сценарий для новогоднего видео до 1 декабря'\n",
    "print(get_results(text)[0])"
   ]
  },
  {
   "cell_type": "code",
   "execution_count": null,
   "metadata": {},
   "outputs": [],
   "source": []
  },
  {
   "cell_type": "code",
   "execution_count": 18,
   "metadata": {},
   "outputs": [],
   "source": [
    "test = pd.read_csv('dataset/after_spacy.csv')[390:]\n",
    "test['task_type'] = test['task_type'].apply(lambda x: ast.literal_eval(x))\n",
    "test['person'] = test['person'].apply(lambda x: ast.literal_eval(x))\n",
    "test['time'] = test['time'].apply(lambda x: ast.literal_eval(x))"
   ]
  },
  {
   "cell_type": "code",
   "execution_count": 19,
   "metadata": {},
   "outputs": [],
   "source": [
    "test['all_entities'] = test.apply(lambda x: x['task_type'] + x['person'] + x['time'], axis=1)"
   ]
  },
  {
   "cell_type": "code",
   "execution_count": 20,
   "metadata": {},
   "outputs": [
    {
     "data": {
      "text/html": [
       "<div>\n",
       "<style scoped>\n",
       "    .dataframe tbody tr th:only-of-type {\n",
       "        vertical-align: middle;\n",
       "    }\n",
       "\n",
       "    .dataframe tbody tr th {\n",
       "        vertical-align: top;\n",
       "    }\n",
       "\n",
       "    .dataframe thead th {\n",
       "        text-align: right;\n",
       "    }\n",
       "</style>\n",
       "<table border=\"1\" class=\"dataframe\">\n",
       "  <thead>\n",
       "    <tr style=\"text-align: right;\">\n",
       "      <th></th>\n",
       "      <th>text</th>\n",
       "      <th>new_text</th>\n",
       "      <th>task_type</th>\n",
       "      <th>person</th>\n",
       "      <th>time</th>\n",
       "      <th>all_entities</th>\n",
       "    </tr>\n",
       "  </thead>\n",
       "  <tbody>\n",
       "    <tr>\n",
       "      <th>390</th>\n",
       "      <td>Создай задачу : Петр требуется верстка лендинг...</td>\n",
       "      <td>создавать задача : петр требоваться верстка ле...</td>\n",
       "      <td>[создавать задача]</td>\n",
       "      <td>[]</td>\n",
       "      <td>[2, день]</td>\n",
       "      <td>[создавать задача, 2, день]</td>\n",
       "    </tr>\n",
       "    <tr>\n",
       "      <th>391</th>\n",
       "      <td>Создай задачу : Олег нужны эскизы интерьера оф...</td>\n",
       "      <td>создавать задача : олег нужный эскиз интерьер ...</td>\n",
       "      <td>[создавать задача]</td>\n",
       "      <td>[олег]</td>\n",
       "      <td>[]</td>\n",
       "      <td>[создавать задача, олег]</td>\n",
       "    </tr>\n",
       "    <tr>\n",
       "      <th>392</th>\n",
       "      <td>Создай задачу : Анна пожалуйста разработай нес...</td>\n",
       "      <td>создавать задача : анна пожалуйста разрабатыва...</td>\n",
       "      <td>[создавать задача]</td>\n",
       "      <td>[анна]</td>\n",
       "      <td>[день, 2, апрель]</td>\n",
       "      <td>[создавать задача, анна, день, 2, апрель]</td>\n",
       "    </tr>\n",
       "    <tr>\n",
       "      <th>393</th>\n",
       "      <td>Создай задачу : Максим требуется дизайн нового...</td>\n",
       "      <td>создавать задача : максим требоваться дизайн н...</td>\n",
       "      <td>[создавать задача]</td>\n",
       "      <td>[максим]</td>\n",
       "      <td>[15, декабрь]</td>\n",
       "      <td>[создавать задача, максим, 15, декабрь]</td>\n",
       "    </tr>\n",
       "    <tr>\n",
       "      <th>394</th>\n",
       "      <td>Создай задачу : Напомнить Кате завтра приступи...</td>\n",
       "      <td>создавать задача : напоминать катя завтра прис...</td>\n",
       "      <td>[создавать задача, напоминать]</td>\n",
       "      <td>[]</td>\n",
       "      <td>[завтра]</td>\n",
       "      <td>[создавать задача, напоминать, завтра]</td>\n",
       "    </tr>\n",
       "    <tr>\n",
       "      <th>...</th>\n",
       "      <td>...</td>\n",
       "      <td>...</td>\n",
       "      <td>...</td>\n",
       "      <td>...</td>\n",
       "      <td>...</td>\n",
       "      <td>...</td>\n",
       "    </tr>\n",
       "    <tr>\n",
       "      <th>482</th>\n",
       "      <td>Создай задачу : Провести конкурс ко Дню космон...</td>\n",
       "      <td>создавать задача : проводить конкурс ко день к...</td>\n",
       "      <td>[создавать задача]</td>\n",
       "      <td>[]</td>\n",
       "      <td>[день, 12, апрель]</td>\n",
       "      <td>[создавать задача, день, 12, апрель]</td>\n",
       "    </tr>\n",
       "    <tr>\n",
       "      <th>483</th>\n",
       "      <td>Создай задачу : Разработать 10 вариантов облож...</td>\n",
       "      <td>создавать задача : разрабатывать 10 вариант об...</td>\n",
       "      <td>[создавать задача]</td>\n",
       "      <td>[]</td>\n",
       "      <td>[10]</td>\n",
       "      <td>[создавать задача, 10]</td>\n",
       "    </tr>\n",
       "    <tr>\n",
       "      <th>484</th>\n",
       "      <td>Создай задачу : Придумать 20 идей ежедневных р...</td>\n",
       "      <td>создавать задача : придумывать 20 идея ежеднев...</td>\n",
       "      <td>[создавать задача]</td>\n",
       "      <td>[]</td>\n",
       "      <td>[20, месяц, 2]</td>\n",
       "      <td>[создавать задача, 20, месяц, 2]</td>\n",
       "    </tr>\n",
       "    <tr>\n",
       "      <th>485</th>\n",
       "      <td>Создай задачу : Спланировать съемки для 10 рец...</td>\n",
       "      <td>создавать задача : спланировать съемка для 10 ...</td>\n",
       "      <td>[создавать задача]</td>\n",
       "      <td>[]</td>\n",
       "      <td>[10, 8, март]</td>\n",
       "      <td>[создавать задача, 10, 8, март]</td>\n",
       "    </tr>\n",
       "    <tr>\n",
       "      <th>486</th>\n",
       "      <td>Создай задачу : Провести промо товаров среди п...</td>\n",
       "      <td>создавать задача : проводить промой товар сред...</td>\n",
       "      <td>[создавать задача]</td>\n",
       "      <td>[]</td>\n",
       "      <td>[1, апрель]</td>\n",
       "      <td>[создавать задача, 1, апрель]</td>\n",
       "    </tr>\n",
       "  </tbody>\n",
       "</table>\n",
       "<p>97 rows × 6 columns</p>\n",
       "</div>"
      ],
      "text/plain": [
       "                                                  text  \\\n",
       "390  Создай задачу : Петр требуется верстка лендинг...   \n",
       "391  Создай задачу : Олег нужны эскизы интерьера оф...   \n",
       "392  Создай задачу : Анна пожалуйста разработай нес...   \n",
       "393  Создай задачу : Максим требуется дизайн нового...   \n",
       "394  Создай задачу : Напомнить Кате завтра приступи...   \n",
       "..                                                 ...   \n",
       "482  Создай задачу : Провести конкурс ко Дню космон...   \n",
       "483  Создай задачу : Разработать 10 вариантов облож...   \n",
       "484  Создай задачу : Придумать 20 идей ежедневных р...   \n",
       "485  Создай задачу : Спланировать съемки для 10 рец...   \n",
       "486  Создай задачу : Провести промо товаров среди п...   \n",
       "\n",
       "                                              new_text  \\\n",
       "390  создавать задача : петр требоваться верстка ле...   \n",
       "391  создавать задача : олег нужный эскиз интерьер ...   \n",
       "392  создавать задача : анна пожалуйста разрабатыва...   \n",
       "393  создавать задача : максим требоваться дизайн н...   \n",
       "394  создавать задача : напоминать катя завтра прис...   \n",
       "..                                                 ...   \n",
       "482  создавать задача : проводить конкурс ко день к...   \n",
       "483  создавать задача : разрабатывать 10 вариант об...   \n",
       "484  создавать задача : придумывать 20 идея ежеднев...   \n",
       "485  создавать задача : спланировать съемка для 10 ...   \n",
       "486  создавать задача : проводить промой товар сред...   \n",
       "\n",
       "                          task_type    person                time  \\\n",
       "390              [создавать задача]        []           [2, день]   \n",
       "391              [создавать задача]    [олег]                  []   \n",
       "392              [создавать задача]    [анна]   [день, 2, апрель]   \n",
       "393              [создавать задача]  [максим]       [15, декабрь]   \n",
       "394  [создавать задача, напоминать]        []            [завтра]   \n",
       "..                              ...       ...                 ...   \n",
       "482              [создавать задача]        []  [день, 12, апрель]   \n",
       "483              [создавать задача]        []                [10]   \n",
       "484              [создавать задача]        []      [20, месяц, 2]   \n",
       "485              [создавать задача]        []       [10, 8, март]   \n",
       "486              [создавать задача]        []         [1, апрель]   \n",
       "\n",
       "                                  all_entities  \n",
       "390                [создавать задача, 2, день]  \n",
       "391                   [создавать задача, олег]  \n",
       "392  [создавать задача, анна, день, 2, апрель]  \n",
       "393    [создавать задача, максим, 15, декабрь]  \n",
       "394     [создавать задача, напоминать, завтра]  \n",
       "..                                         ...  \n",
       "482       [создавать задача, день, 12, апрель]  \n",
       "483                     [создавать задача, 10]  \n",
       "484           [создавать задача, 20, месяц, 2]  \n",
       "485            [создавать задача, 10, 8, март]  \n",
       "486              [создавать задача, 1, апрель]  \n",
       "\n",
       "[97 rows x 6 columns]"
      ]
     },
     "execution_count": 20,
     "metadata": {},
     "output_type": "execute_result"
    }
   ],
   "source": [
    "test"
   ]
  },
  {
   "cell_type": "code",
   "execution_count": 21,
   "metadata": {},
   "outputs": [],
   "source": [
    "def get_f1(marked_elems, model_found):\n",
    "    TP = len([i for i in model_found if i in marked_elems])\n",
    "    FP = len([i for i in model_found if i not in marked_elems])\n",
    "    FN = len([i for i in marked_elems if i not in model_found])\n",
    "\n",
    "    precision = TP/(TP + FP)\n",
    "    recall = TP/(TP + FN)\n",
    "\n",
    "    F1 = 2 * (precision * recall) / (precision + recall)\n",
    "    return F1"
   ]
  },
  {
   "cell_type": "code",
   "execution_count": 22,
   "metadata": {},
   "outputs": [],
   "source": [
    "def get_scored_results(df):\n",
    "    f1_scores = []\n",
    "    for item in df.values:\n",
    "        formatted_res, marked_str = get_results(item[0])\n",
    "        # print(formatted_res)\n",
    "        f1_scores.append(get_f1(item[5], marked_str))\n",
    "\n",
    "    print(sum(f1_scores)/len(f1_scores))"
   ]
  },
  {
   "cell_type": "code",
   "execution_count": 23,
   "metadata": {},
   "outputs": [
    {
     "name": "stdout",
     "output_type": "stream",
     "text": [
      "0.9060412668660088\n"
     ]
    }
   ],
   "source": [
    "get_scored_results(test)"
   ]
  },
  {
   "cell_type": "code",
   "execution_count": null,
   "metadata": {},
   "outputs": [],
   "source": []
  }
 ],
 "metadata": {
  "kernelspec": {
   "display_name": "base",
   "language": "python",
   "name": "python3"
  },
  "language_info": {
   "codemirror_mode": {
    "name": "ipython",
    "version": 3
   },
   "file_extension": ".py",
   "mimetype": "text/x-python",
   "name": "python",
   "nbconvert_exporter": "python",
   "pygments_lexer": "ipython3",
   "version": "3.9.13"
  }
 },
 "nbformat": 4,
 "nbformat_minor": 2
}
